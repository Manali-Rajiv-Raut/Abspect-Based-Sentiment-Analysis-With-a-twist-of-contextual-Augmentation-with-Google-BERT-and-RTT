{
 "cells": [
  {
   "cell_type": "code",
   "execution_count": 1,
   "metadata": {},
   "outputs": [],
   "source": [
    "# mdoule 2 : Preprocessing"
   ]
  },
  {
   "cell_type": "code",
   "execution_count": 2,
   "metadata": {},
   "outputs": [],
   "source": [
    "#!pip uninstall nltk"
   ]
  },
  {
   "cell_type": "code",
   "execution_count": 3,
   "metadata": {},
   "outputs": [],
   "source": [
    "#!pip install -U nltk"
   ]
  },
  {
   "cell_type": "code",
   "execution_count": 4,
   "metadata": {},
   "outputs": [],
   "source": [
    "import pandas as pd\n",
    "import re\n",
    "import numpy as np\n",
    "import nltk\n",
    "from nltk.stem import WordNetLemmatizer \n",
    "from nltk.stem import PorterStemmer\n",
    "from collections import Counter \n",
    "from tqdm import tqdm"
   ]
  },
  {
   "cell_type": "code",
   "execution_count": 5,
   "metadata": {},
   "outputs": [],
   "source": [
    "#nltk.download('stopwords')"
   ]
  },
  {
   "cell_type": "code",
   "execution_count": 6,
   "metadata": {},
   "outputs": [],
   "source": [
    "#nltk.download('wordnet')"
   ]
  },
  {
   "cell_type": "code",
   "execution_count": 7,
   "metadata": {},
   "outputs": [],
   "source": [
    "#from nltk.corpus import stopwords\n",
    "#stop_words = set(stopwords.words(\"english\"))\n",
    "#print(stop_words)"
   ]
  },
  {
   "cell_type": "code",
   "execution_count": 8,
   "metadata": {},
   "outputs": [],
   "source": [
    "stop_words = ['i', 'me', 'my', 'myself', 'we', 'our', 'ours', 'ourselves', 'you', \"you're\", \"you've\",\\\n",
    "            \"you'll\", \"you'd\", 'your', 'yours', 'yourself', 'yourselves', 'he', 'him', 'his', 'himself', \\\n",
    "            'she', \"she's\", 'her', 'hers', 'herself', 'it', \"it's\", 'its', 'itself', 'they', 'them', 'their',\\\n",
    "            'theirs', 'themselves', 'what', 'which', 'who', 'whom', 'this', 'that', \"that'll\", 'these', 'those', \\\n",
    "            'am', 'is', 'are', 'was', 'were', 'be', 'been', 'being', 'have', 'has', 'had', 'having', 'do', 'does', \\\n",
    "            'did', 'doing', 'a', 'an', 'the', 'and', 'but', 'if', 'or', 'because', 'as', 'until', 'while', 'of', \\\n",
    "            'at', 'by', 'for', 'with', 'about', 'against', 'between', 'into', 'through', 'during', 'before', 'after',\\\n",
    "            'above', 'below', 'to', 'from', 'up', 'down', 'in', 'out', 'on', 'off', 'over', 'under', 'again', 'further',\\\n",
    "            'then', 'once', 'here', 'there', 'when', 'where', 'why', 'how', 'all', 'any', 'both', 'each', 'few', 'more',\\\n",
    "            'most', 'other', 'some', 'such', 'only', 'own', 'same', 'so', 'than', 'too', 'very', \\\n",
    "            's', 't', 'can', 'will', 'just', 'don', \"don't\", 'should', \"should've\", 'now', 'd', 'll', 'm', 'o', 're', \\\n",
    "            've', 'y', 'ain', 'aren', \"aren't\", 'couldn', \"couldn't\", 'didn', \"didn't\", 'doesn', \"doesn't\", 'hadn',\\\n",
    "            \"hadn't\", 'hasn', \"hasn't\", 'haven', \"haven't\", 'isn', \"isn't\", 'ma', 'mightn', \"mightn't\", 'mustn',\\\n",
    "            \"mustn't\", 'needn', \"needn't\", 'shan', \"shan't\", 'shouldn', \"shouldn't\", 'wasn', \"wasn't\", 'weren', \"weren't\", \\\n",
    "            'won', \"won't\", 'wouldn', \"wouldn't\"]"
   ]
  },
  {
   "cell_type": "code",
   "execution_count": 9,
   "metadata": {},
   "outputs": [],
   "source": [
    "class Data_Preprocessing :\n",
    "  def __init__(self) :\n",
    "    self.p_stemmer = PorterStemmer()\n",
    "    self.lemmatizer = WordNetLemmatizer()\n",
    "\n",
    "  # https://stackoverflow.com/a/47091490/4084039\n",
    "  def decontracted(self , phrase):\n",
    "    # specific\n",
    "    phrase = re.sub(r\"won't\", \"will not\", phrase)      # replace won't with \"will not\"\n",
    "    phrase = re.sub(r\"can\\'t\", \"can not\", phrase)      # replace can or cant with 'can not'\n",
    "    phrase = re.sub(r\"n\\'t\", \" not\", phrase)           # replece n with 'not'\n",
    "    phrase = re.sub(r\"\\'re\", \" are\", phrase)           # replace re with 'are'\n",
    "    phrase = re.sub(r\"\\'s\", \" is\", phrase)             # replace s with 'is'\n",
    "    phrase = re.sub(r\"\\'d\", \" would\", phrase)          # replace 'd' with 'would'\n",
    "    phrase = re.sub(r\"\\'ll\", \" will\", phrase)          # replace 'll with 'will'\n",
    "    phrase = re.sub(r\"\\'t\", \" not\", phrase)            # replace 't' with 'not'\n",
    "    phrase = re.sub(r\"\\'ve\", \" have\", phrase)          # replace ve with 'have'\n",
    "    phrase = re.sub(r\"\\'m\", \" am\", phrase)             # replace 'm with 'am'\n",
    "    return phrase\n",
    "\n",
    "  \n",
    "  def preprocess_text(self,text_data):\n",
    "    preprocessed_text = []             \n",
    "    # tqdm is for printing the status bar\n",
    "    for sentance in tqdm(text_data):\n",
    "        sent = self.decontracted(sentance)           #calling funcion for each sentence\n",
    "        #print(\"1st sent\" , sent)\n",
    "        sent = sent.replace('\\\\r', ' ')         # replace line terminator with space\n",
    "        sent = sent.replace('\\\\n', ' ')         # replace new line charactor with space\n",
    "        sent = sent.replace('\\\\\"', ' ')         \n",
    "        sent = re.sub('[^A-Za-z]+', ' ', sent)  # remove anything that is not letter\n",
    "        sent = ''.join(self.p_stemmer.stem(token) for token in sent )\n",
    "        sent = ''.join(self.lemmatizer.lemmatize(token) for token in sent )\n",
    "        sent  = ' '.join(e for e in sent.split() if len( Counter(e)) > 2 )\n",
    "        #sent = lstr(emmatize_text(sent)\n",
    "        # https://gist.github.com/sebleier/554280\n",
    "        sent = ' '.join(e for e in sent.split() if e.lower() not in 'root/nltk_data/corpora/stop_words') # checking for stop words\n",
    "        preprocessed_text.append(sent.lower().strip())\n",
    "    return preprocessed_text"
   ]
  }
 ],
 "metadata": {
  "kernelspec": {
   "display_name": "Python 3",
   "language": "python",
   "name": "python3"
  },
  "language_info": {
   "codemirror_mode": {
    "name": "ipython",
    "version": 3
   },
   "file_extension": ".py",
   "mimetype": "text/x-python",
   "name": "python",
   "nbconvert_exporter": "python",
   "pygments_lexer": "ipython3",
   "version": "3.7.3"
  }
 },
 "nbformat": 4,
 "nbformat_minor": 2
}
