{
 "cells": [
  {
   "cell_type": "markdown",
   "metadata": {},
   "source": [
    "## xgBoost : Merged Dataset (original + bert augmented + RTT augmented)"
   ]
  },
  {
   "cell_type": "code",
   "execution_count": 1,
   "metadata": {
    "colab": {
     "base_uri": "https://localhost:8080/"
    },
    "id": "3b3ETYvm-jcG",
    "outputId": "7f56154f-4327-47a9-af28-5119c3ad218a"
   },
   "outputs": [
    {
     "name": "stdout",
     "output_type": "stream",
     "text": [
      "Collecting import-ipynb\n",
      "  Downloading https://files.pythonhosted.org/packages/63/35/495e0021bfdcc924c7cdec4e9fbb87c88dd03b9b9b22419444dc370c8a45/import-ipynb-0.1.3.tar.gz\n",
      "Building wheels for collected packages: import-ipynb\n",
      "  Building wheel for import-ipynb (setup.py) ... \u001b[?25l\u001b[?25hdone\n",
      "  Created wheel for import-ipynb: filename=import_ipynb-0.1.3-cp36-none-any.whl size=2976 sha256=7ec91ca8398205f965dc54b28c2ce726e43377d18eb55eff592e421d284f8c68\n",
      "  Stored in directory: /root/.cache/pip/wheels/b4/7b/e9/a3a6e496115dffdb4e3085d0ae39ffe8a814eacc44bbf494b5\n",
      "Successfully built import-ipynb\n",
      "Installing collected packages: import-ipynb\n",
      "Successfully installed import-ipynb-0.1.3\n"
     ]
    }
   ],
   "source": [
    "# COLAB\n",
    "from google.colab import files\n",
    "from google.colab import drive\n",
    "# SYS\n",
    "import sys\n",
    "# IPYNB\n",
    "!pip install import-ipynb\n",
    "import import_ipynb\n",
    "# UTIL\n",
    "import importlib.util"
   ]
  },
  {
   "cell_type": "code",
   "execution_count": 2,
   "metadata": {
    "colab": {
     "base_uri": "https://localhost:8080/"
    },
    "id": "DOq6ALfkGM2z",
    "outputId": "04333cc6-2781-4ec3-91f7-71e801d449f4"
   },
   "outputs": [
    {
     "name": "stdout",
     "output_type": "stream",
     "text": [
      "Mounted at /content/gdrive\n"
     ]
    }
   ],
   "source": [
    "from google.colab import drive\n",
    "drive.mount('/content/gdrive')"
   ]
  },
  {
   "cell_type": "code",
   "execution_count": 3,
   "metadata": {
    "colab": {
     "base_uri": "https://localhost:8080/"
    },
    "id": "uYH2P9FJ-oSh",
    "outputId": "293d15c3-3d9a-4412-88a0-cc3ea117bbd7"
   },
   "outputs": [
    {
     "name": "stdout",
     "output_type": "stream",
     "text": [
      "Uninstalling nltk-3.2.5:\n",
      "  Would remove:\n",
      "    /usr/local/lib/python3.6/dist-packages/nltk-3.2.5.dist-info/*\n",
      "    /usr/local/lib/python3.6/dist-packages/nltk/*\n",
      "Proceed (y/n)? y\n",
      "  Successfully uninstalled nltk-3.2.5\n",
      "Collecting nltk\n",
      "\u001b[?25l  Downloading https://files.pythonhosted.org/packages/92/75/ce35194d8e3022203cca0d2f896dbb88689f9b3fce8e9f9cff942913519d/nltk-3.5.zip (1.4MB)\n",
      "\u001b[K     |████████████████████████████████| 1.4MB 5.3MB/s \n",
      "\u001b[?25hRequirement already satisfied, skipping upgrade: click in /usr/local/lib/python3.6/dist-packages (from nltk) (7.1.2)\n",
      "Requirement already satisfied, skipping upgrade: joblib in /usr/local/lib/python3.6/dist-packages (from nltk) (1.0.0)\n",
      "Requirement already satisfied, skipping upgrade: regex in /usr/local/lib/python3.6/dist-packages (from nltk) (2019.12.20)\n",
      "Requirement already satisfied, skipping upgrade: tqdm in /usr/local/lib/python3.6/dist-packages (from nltk) (4.41.1)\n",
      "Building wheels for collected packages: nltk\n",
      "  Building wheel for nltk (setup.py) ... \u001b[?25l\u001b[?25hdone\n",
      "  Created wheel for nltk: filename=nltk-3.5-cp36-none-any.whl size=1434676 sha256=104fac4ad0c92ac65a484e1c6df34288827efa25ee9bd45b7b7cb8ab6dc4b6ab\n",
      "  Stored in directory: /root/.cache/pip/wheels/ae/8c/3f/b1fe0ba04555b08b57ab52ab7f86023639a526d8bc8d384306\n",
      "Successfully built nltk\n",
      "Installing collected packages: nltk\n",
      "Successfully installed nltk-3.5\n"
     ]
    },
    {
     "name": "stderr",
     "output_type": "stream",
     "text": [
      "[nltk_data] Downloading package stopwords to /root/nltk_data...\n",
      "[nltk_data]   Unzipping corpora/stopwords.zip.\n",
      "[nltk_data] Downloading package wordnet to /root/nltk_data...\n",
      "[nltk_data]   Unzipping corpora/wordnet.zip.\n"
     ]
    },
    {
     "name": "stdout",
     "output_type": "stream",
     "text": [
      "{'i', \"couldn't\", 'very', 'having', 'my', 'this', 't', \"mightn't\", 've', 'after', 'when', 'himself', 'on', 'mightn', 'which', \"wouldn't\", 'have', 'over', 'about', 'wasn', 'these', 'at', 'm', 'whom', 'shouldn', 'had', 'll', 'most', 'didn', 'herself', 'who', 'own', 'by', 'being', 'been', 'above', 'each', 'her', 'so', 'he', 'some', 'our', 'in', 'any', \"haven't\", 'between', 'further', 'the', 'theirs', \"shouldn't\", 'his', 'for', 'that', 'up', 'couldn', 'them', 'nor', \"doesn't\", 'am', \"it's\", 'against', 'then', 'they', 'me', 'both', 'other', 'will', 'isn', 's', 'him', 'how', \"you're\", 'few', 'just', 'are', 'or', 'your', 'can', 'a', \"you'll\", \"you'd\", 'what', \"shan't\", 'no', 'aren', 'wouldn', 'hers', \"wasn't\", \"weren't\", 'down', 'where', 'before', 'because', 'with', 'out', 'while', 're', \"won't\", 'but', 'and', 'did', \"aren't\", 'an', 'during', 'hadn', 'y', 'were', 'itself', 'don', 'again', 'not', 'you', 'do', 'if', 'below', \"don't\", 'yours', 'only', 'shan', 'same', 'd', 'once', 'was', \"needn't\", 'all', 'it', 'from', \"you've\", \"that'll\", 'their', 'is', 'myself', 'yourselves', 'weren', \"didn't\", 'ourselves', 'more', 'than', 'won', 'she', 'its', 'such', 'needn', \"hadn't\", \"mustn't\", 'those', 'doing', 'mustn', 'ain', 'ma', 'under', \"hasn't\", 'haven', 'why', 'yourself', \"should've\", 'now', 'has', 'does', 'should', 'to', 'we', 'through', \"she's\", 'be', 'o', 'here', 'of', 'hasn', 'off', 'ours', 'into', 'as', 'until', 'themselves', 'too', 'doesn', \"isn't\", 'there'}\n"
     ]
    }
   ],
   "source": [
    "#https://stackoverflow.com/questions/62117483/import-module-in-google-colab-from-google-drive-python\n",
    "sys.path.append('/content/gdrive/MyDrive/CS--2/')\n",
    "#import module_1_xml_to_df\n",
    "#from module_1_xml_to_df import convert_xml_to_DataFrame\n",
    "from module_2_preprocessing import Data_Preprocessing"
   ]
  },
  {
   "cell_type": "code",
   "execution_count": 4,
   "metadata": {
    "id": "Linhgw8T-ytR"
   },
   "outputs": [],
   "source": [
    "import pandas as pd\n",
    "import re\n",
    "import numpy as np\n",
    "import seaborn as sns\n",
    "from sklearn import linear_model, metrics  \n",
    "import xgboost as xgb \n",
    "from sklearn.metrics import accuracy_score, f1_score, confusion_matrix\n",
    "import matplotlib.pyplot as plt"
   ]
  },
  {
   "cell_type": "markdown",
   "metadata": {
    "id": "Zqt8bLzQ7zaH"
   },
   "source": [
    "## 1. Loading the data"
   ]
  },
  {
   "cell_type": "code",
   "execution_count": 6,
   "metadata": {
    "id": "S92ySrvL7eEP"
   },
   "outputs": [],
   "source": [
    "data_1 = pd.read_csv(\"/content/gdrive/MyDrive/CS--2/restaurant_train_data_semeval_14.csv\")\n",
    "data_2 = pd.read_csv(\"/content/gdrive/MyDrive/CS--2/augmented_data_restaurant.csv\")\n",
    "data_3 = pd.read_csv(\"/content/gdrive/MyDrive/CS--2/augmented_data_restaurant_bert.csv\")\n",
    "data_restaurant = pd.concat([data_1 , data_2 , data_3])"
   ]
  },
  {
   "cell_type": "code",
   "execution_count": 7,
   "metadata": {
    "colab": {
     "base_uri": "https://localhost:8080/",
     "height": 195
    },
    "id": "jhdMQ4RiJRTA",
    "outputId": "f5a609a7-c1c4-4373-b945-1894349de595"
   },
   "outputs": [
    {
     "data": {
      "text/html": [
       "<div>\n",
       "<style scoped>\n",
       "    .dataframe tbody tr th:only-of-type {\n",
       "        vertical-align: middle;\n",
       "    }\n",
       "\n",
       "    .dataframe tbody tr th {\n",
       "        vertical-align: top;\n",
       "    }\n",
       "\n",
       "    .dataframe thead th {\n",
       "        text-align: right;\n",
       "    }\n",
       "</style>\n",
       "<table border=\"1\" class=\"dataframe\">\n",
       "  <thead>\n",
       "    <tr style=\"text-align: right;\">\n",
       "      <th></th>\n",
       "      <th>id</th>\n",
       "      <th>text</th>\n",
       "      <th>aspect_term</th>\n",
       "      <th>aspect_category</th>\n",
       "      <th>polarity</th>\n",
       "    </tr>\n",
       "  </thead>\n",
       "  <tbody>\n",
       "    <tr>\n",
       "      <th>0</th>\n",
       "      <td>3121.0</td>\n",
       "      <td>but the staff was so horrible to us.</td>\n",
       "      <td>staff</td>\n",
       "      <td>service</td>\n",
       "      <td>negative</td>\n",
       "    </tr>\n",
       "    <tr>\n",
       "      <th>1</th>\n",
       "      <td>2777.0</td>\n",
       "      <td>to be completely fair, the only redeeming fact...</td>\n",
       "      <td>food</td>\n",
       "      <td>anecdotes/miscellaneous</td>\n",
       "      <td>negative</td>\n",
       "    </tr>\n",
       "    <tr>\n",
       "      <th>2</th>\n",
       "      <td>1634.0</td>\n",
       "      <td>the food is uniformly exceptional, with a very...</td>\n",
       "      <td>menu</td>\n",
       "      <td>food</td>\n",
       "      <td>positive</td>\n",
       "    </tr>\n",
       "    <tr>\n",
       "      <th>3</th>\n",
       "      <td>2534.0</td>\n",
       "      <td>where gabriela personaly greets you and recomm...</td>\n",
       "      <td>NaN</td>\n",
       "      <td>service</td>\n",
       "      <td>positive</td>\n",
       "    </tr>\n",
       "    <tr>\n",
       "      <th>4</th>\n",
       "      <td>583.0</td>\n",
       "      <td>for those that go once and don't enjoy it, all...</td>\n",
       "      <td>NaN</td>\n",
       "      <td>anecdotes/miscellaneous</td>\n",
       "      <td>positive</td>\n",
       "    </tr>\n",
       "  </tbody>\n",
       "</table>\n",
       "</div>"
      ],
      "text/plain": [
       "       id  ...  polarity\n",
       "0  3121.0  ...  negative\n",
       "1  2777.0  ...  negative\n",
       "2  1634.0  ...  positive\n",
       "3  2534.0  ...  positive\n",
       "4   583.0  ...  positive\n",
       "\n",
       "[5 rows x 5 columns]"
      ]
     },
     "execution_count": 7,
     "metadata": {
      "tags": []
     },
     "output_type": "execute_result"
    }
   ],
   "source": [
    "data_restaurant.head()"
   ]
  },
  {
   "cell_type": "code",
   "execution_count": 9,
   "metadata": {
    "colab": {
     "base_uri": "https://localhost:8080/"
    },
    "id": "BikCjtynkUat",
    "outputId": "6e434e26-d5e7-4795-fce0-5e0d88dc08c4"
   },
   "outputs": [
    {
     "data": {
      "text/plain": [
       "(15220, 5)"
      ]
     },
     "execution_count": 9,
     "metadata": {
      "tags": []
     },
     "output_type": "execute_result"
    }
   ],
   "source": [
    "data_restaurant.shape"
   ]
  },
  {
   "cell_type": "code",
   "execution_count": 11,
   "metadata": {
    "colab": {
     "base_uri": "https://localhost:8080/"
    },
    "id": "S03Z031uKX68",
    "outputId": "842efc15-8f2d-4361-a1f6-0169db32ffa2"
   },
   "outputs": [
    {
     "data": {
      "text/plain": [
       "aspect_category\n",
       "anecdotes/miscellaneous    5242\n",
       "food                       4315\n",
       "service                    2298\n",
       "ambience                   1944\n",
       "price                      1421\n",
       "dtype: int64"
      ]
     },
     "execution_count": 11,
     "metadata": {
      "tags": []
     },
     "output_type": "execute_result"
    }
   ],
   "source": [
    "data_restaurant.groupby('aspect_category').size().sort_values(ascending=False)"
   ]
  },
  {
   "cell_type": "code",
   "execution_count": 13,
   "metadata": {
    "colab": {
     "base_uri": "https://localhost:8080/"
    },
    "id": "sWPdUP5KKe9u",
    "outputId": "d94b1b9a-484c-46db-e6cb-682b472a6357"
   },
   "outputs": [
    {
     "data": {
      "text/plain": [
       "(array(['service', 'anecdotes/miscellaneous', 'food', 'price', 'ambience'],\n",
       "       dtype=object), 5)"
      ]
     },
     "execution_count": 13,
     "metadata": {
      "tags": []
     },
     "output_type": "execute_result"
    }
   ],
   "source": [
    "catagories = data_restaurant['aspect_category'].unique()\n",
    "catagories , len(catagories)"
   ]
  },
  {
   "cell_type": "code",
   "execution_count": 14,
   "metadata": {
    "colab": {
     "base_uri": "https://localhost:8080/"
    },
    "id": "H9V6MJPzKk7q",
    "outputId": "442e65c9-5df1-40bf-b701-7fa5305b71eb"
   },
   "outputs": [
    {
     "data": {
      "text/plain": [
       "array(['negative', 'positive', 'neutral', 'conflict'], dtype=object)"
      ]
     },
     "execution_count": 14,
     "metadata": {
      "tags": []
     },
     "output_type": "execute_result"
    }
   ],
   "source": [
    "polarity = data_restaurant['polarity'].unique()\n",
    "polarity"
   ]
  },
  {
   "cell_type": "code",
   "execution_count": 15,
   "metadata": {
    "id": "jK6RUY1w72sg"
   },
   "outputs": [],
   "source": [
    "X = data_restaurant['text']\n",
    "Y = data_restaurant['aspect_category']"
   ]
  },
  {
   "cell_type": "code",
   "execution_count": null,
   "metadata": {
    "id": "0iRZVXCnJLSy"
   },
   "outputs": [],
   "source": [
    "# 3. Splitting the data "
   ]
  },
  {
   "cell_type": "code",
   "execution_count": 16,
   "metadata": {
    "id": "jI1WHRqKJRvL"
   },
   "outputs": [],
   "source": [
    "from sklearn.model_selection import train_test_split\n",
    "\n",
    "X_train, X_test, y_train, y_test = train_test_split(X, Y, test_size=0.2, random_state=1)"
   ]
  },
  {
   "cell_type": "code",
   "execution_count": 17,
   "metadata": {
    "colab": {
     "base_uri": "https://localhost:8080/"
    },
    "id": "8A7y80UMJUBk",
    "outputId": "6cc99a1d-06af-4426-bfdd-cd08bae87032"
   },
   "outputs": [
    {
     "name": "stdout",
     "output_type": "stream",
     "text": [
      "(12176,) (12176,)\n",
      "(3044,) (3044,)\n"
     ]
    }
   ],
   "source": [
    "print(X_train.shape, y_train.shape)\n",
    "print(X_test.shape, y_test.shape)"
   ]
  },
  {
   "cell_type": "code",
   "execution_count": 18,
   "metadata": {
    "id": "nR0CNHJOJYr8"
   },
   "outputs": [],
   "source": [
    "dp = Data_Preprocessing()"
   ]
  },
  {
   "cell_type": "code",
   "execution_count": 19,
   "metadata": {
    "colab": {
     "base_uri": "https://localhost:8080/"
    },
    "id": "gNYn3FNVJa00",
    "outputId": "cc42c8ce-b6e2-4b99-92de-1e490988c37c"
   },
   "outputs": [
    {
     "name": "stderr",
     "output_type": "stream",
     "text": [
      "100%|██████████| 12176/12176 [00:06<00:00, 1889.76it/s]\n"
     ]
    }
   ],
   "source": [
    "X_train_review = dp.preprocess_text(X_train)"
   ]
  },
  {
   "cell_type": "code",
   "execution_count": 20,
   "metadata": {
    "colab": {
     "base_uri": "https://localhost:8080/"
    },
    "id": "lyZ-1gKGJcss",
    "outputId": "f877dc65-c726-45c4-a951-456dc987c5bf"
   },
   "outputs": [
    {
     "name": "stderr",
     "output_type": "stream",
     "text": [
      "100%|██████████| 3044/3044 [00:01<00:00, 2387.01it/s]\n"
     ]
    }
   ],
   "source": [
    "X_test_review = dp.preprocess_text(X_test)"
   ]
  },
  {
   "cell_type": "code",
   "execution_count": 21,
   "metadata": {
    "colab": {
     "base_uri": "https://localhost:8080/"
    },
    "id": "2Wp4nMSsJhUW",
    "outputId": "fccc518d-fdee-45b7-de74-4d8c7efd7484"
   },
   "outputs": [
    {
     "data": {
      "text/plain": [
       "CountVectorizer(analyzer='word', binary=False, decode_error='strict',\n",
       "                dtype=<class 'numpy.int64'>, encoding='utf-8', input='content',\n",
       "                lowercase=True, max_df=1.0, max_features=50000, min_df=3,\n",
       "                ngram_range=(1, 1), preprocessor=None, stop_words=None,\n",
       "                strip_accents=None, token_pattern='(?u)\\\\b\\\\w\\\\w+\\\\b',\n",
       "                tokenizer=None, vocabulary=None)"
      ]
     },
     "execution_count": 21,
     "metadata": {
      "tags": []
     },
     "output_type": "execute_result"
    }
   ],
   "source": [
    "from sklearn.feature_extraction.text import CountVectorizer    \n",
    "vectorizer_sit = CountVectorizer(min_df=3,max_features=50000)  \n",
    "vectorizer_sit.fit(X_train_review)"
   ]
  },
  {
   "cell_type": "code",
   "execution_count": 22,
   "metadata": {
    "colab": {
     "base_uri": "https://localhost:8080/"
    },
    "id": "tWua1eoxJkvJ",
    "outputId": "880eeb33-ad1b-4c19-b67a-376ea3a3fd2b"
   },
   "outputs": [
    {
     "name": "stdout",
     "output_type": "stream",
     "text": [
      "Shape of matrix data after one hot encoding for train:  (12176, 4049)\n"
     ]
    }
   ],
   "source": [
    "preprocessed_train_review = vectorizer_sit.transform(X_train_review).toarray()    # produces a sparse representation of preprocessed sentences\n",
    "print(\"Shape of matrix data after one hot encoding for train: \",preprocessed_train_review .shape)"
   ]
  },
  {
   "cell_type": "code",
   "execution_count": 23,
   "metadata": {
    "colab": {
     "base_uri": "https://localhost:8080/"
    },
    "id": "-k-S3gXSJn-T",
    "outputId": "b1fbbba7-e510-4190-8516-484d60f1f4a9"
   },
   "outputs": [
    {
     "name": "stdout",
     "output_type": "stream",
     "text": [
      "Shape of matrix data after one hot encoding for train:  (3044, 4049)\n"
     ]
    }
   ],
   "source": [
    "preprocessed_test_review = vectorizer_sit.transform(X_test_review).toarray()    \n",
    "print(\"Shape of matrix data after one hot encoding for train: \",preprocessed_test_review.shape)"
   ]
  },
  {
   "cell_type": "markdown",
   "metadata": {},
   "source": [
    "## 2. XgBoost Model"
   ]
  },
  {
   "cell_type": "code",
   "execution_count": 24,
   "metadata": {
    "colab": {
     "base_uri": "https://localhost:8080/"
    },
    "id": "CTFkJAWmJrfR",
    "outputId": "c0fecad8-8d42-498b-df98-2750187dcd3c"
   },
   "outputs": [
    {
     "data": {
      "text/plain": [
       "XGBClassifier(base_score=0.5, booster='gbtree', colsample_bylevel=1,\n",
       "              colsample_bynode=1, colsample_bytree=1, gamma=0,\n",
       "              learning_rate=0.1, max_delta_step=0, max_depth=3,\n",
       "              min_child_weight=1, missing=None, n_estimators=100, n_jobs=1,\n",
       "              nthread=None, objective='multi:softprob', random_state=0,\n",
       "              reg_alpha=0, reg_lambda=1, scale_pos_weight=1, seed=None,\n",
       "              silent=None, subsample=1, verbosity=1)"
      ]
     },
     "execution_count": 24,
     "metadata": {
      "tags": []
     },
     "output_type": "execute_result"
    }
   ],
   "source": [
    "reg = xgb.XGBClassifier() \n",
    "reg.fit(preprocessed_train_review, y_train) "
   ]
  },
  {
   "cell_type": "code",
   "execution_count": 25,
   "metadata": {
    "id": "o9zgF2tJKEyO"
   },
   "outputs": [],
   "source": [
    "# making predictions on the training set \n",
    "y_pred_train = reg.predict(preprocessed_train_review)"
   ]
  },
  {
   "cell_type": "code",
   "execution_count": 26,
   "metadata": {
    "id": "mzggkh4XKHSe"
   },
   "outputs": [],
   "source": [
    "# making predictions on the testing set \n",
    "y_pred_cat = reg.predict(preprocessed_test_review)"
   ]
  },
  {
   "cell_type": "code",
   "execution_count": 27,
   "metadata": {
    "colab": {
     "base_uri": "https://localhost:8080/"
    },
    "id": "qMBKMuShKKKZ",
    "outputId": "702d1b2b-4191-4c8d-cf49-5da75fa8acf1"
   },
   "outputs": [
    {
     "data": {
      "text/plain": [
       "75.3777923784494"
      ]
     },
     "execution_count": 27,
     "metadata": {
      "tags": []
     },
     "output_type": "execute_result"
    }
   ],
   "source": [
    "# comparing actual response values (y_train) with predicted response values (y_pred_train) \n",
    " \n",
    "metrics.accuracy_score(y_train, y_pred_train)*100"
   ]
  },
  {
   "cell_type": "code",
   "execution_count": 28,
   "metadata": {
    "colab": {
     "base_uri": "https://localhost:8080/"
    },
    "id": "1nLNIQHjKM82",
    "outputId": "245ad55f-7b11-4313-f935-13d749e9bd94"
   },
   "outputs": [
    {
     "data": {
      "text/plain": [
       "73.29172141918528"
      ]
     },
     "execution_count": 28,
     "metadata": {
      "tags": []
     },
     "output_type": "execute_result"
    }
   ],
   "source": [
    "# comparing actual response values (y_train) with predicted response values (y_pred_train) \n",
    "\n",
    "metrics.accuracy_score(y_test, y_pred_cat)*100"
   ]
  },
  {
   "cell_type": "code",
   "execution_count": 29,
   "metadata": {
    "colab": {
     "base_uri": "https://localhost:8080/"
    },
    "id": "pmz8bv3_KPJh",
    "outputId": "82f28a20-fad2-452b-ff30-07f97ad34ee3"
   },
   "outputs": [
    {
     "name": "stdout",
     "output_type": "stream",
     "text": [
      "                         precision    recall  f1-score   support\n",
      "\n",
      "                service       0.94      0.46      0.62       393\n",
      "anecdotes/miscellaneous       0.66      0.90      0.76      1058\n",
      "                   food       0.74      0.74      0.74       847\n",
      "                  price       0.83      0.56      0.67       299\n",
      "               ambience       0.84      0.69      0.76       447\n",
      "\n",
      "               accuracy                           0.73      3044\n",
      "              macro avg       0.80      0.67      0.71      3044\n",
      "           weighted avg       0.76      0.73      0.73      3044\n",
      "\n"
     ]
    }
   ],
   "source": [
    "from sklearn.metrics import classification_report\n",
    "print(classification_report(y_test, y_pred_cat ,target_names= catagories))"
   ]
  },
  {
   "cell_type": "markdown",
   "metadata": {
    "id": "UPpr5PjlDcSq"
   },
   "source": [
    "### Observation : \n",
    "This is the classification report of aspect category based sentiment model showing the orecision, recall, f1_score and support values for all 5 unique catagories with accuracy 73 percent "
   ]
  },
  {
   "cell_type": "code",
   "execution_count": 30,
   "metadata": {
    "id": "JvGxH311KTUO"
   },
   "outputs": [],
   "source": [
    "# code borrowed from Microsoft Malware Detection Assignment\n",
    "def plot_confusion_matrix(test_y, predict_y ,labels):\n",
    "    C = confusion_matrix(test_y, predict_y)      # calculation of confusion matrix \n",
    "    print(\"Number of misclassified points \",(len(test_y)-np.trace(C))/len(test_y))    # number of misclassified points while predicting y\n",
    " \n",
    "    A =(((C.T)/(C.sum(axis=1))).T)\n",
    "    B =(C/C.sum(axis=0))\n",
    "\n",
    "    labels = labels                 \n",
    "    cmap=sns.light_palette(\"purple\")\n",
    "    # representing A in heatmap format\n",
    "    print(\"-\"*50, \"Confusion matrix\", \"-\"*50)\n",
    "    plt.figure(figsize=(10,5))\n",
    "    sns.heatmap(C, annot=True, cmap=cmap, fmt=\".3f\", xticklabels=labels, yticklabels=labels)\n",
    "    plt.xlabel('Predicted Class')\n",
    "    plt.ylabel('Original Class')\n",
    "    plt.show()\n",
    "    \n",
    "    print(\"-\"*50, \"Precision matrix\", \"-\"*50)\n",
    "    plt.figure(figsize=(10,5))\n",
    "    sns.heatmap(B, annot=True, cmap=cmap, fmt=\".3f\", xticklabels=labels, yticklabels=labels)\n",
    "    plt.xlabel('Predicted Class')\n",
    "    plt.ylabel('Original Class')\n",
    "    plt.show()\n",
    "    print(\"Sum of columns in precision matrix\",B.sum(axis=0))\n",
    "\n",
    "    # representing B in heatmap format\n",
    "    print(\"-\"*50, \"Recall matrix\" , \"-\"*50)\n",
    "    plt.figure(figsize=(10,5))\n",
    "    sns.heatmap(A, annot=True, cmap=cmap, fmt=\".3f\", xticklabels=labels, yticklabels=labels)\n",
    "    plt.xlabel('Predicted Class')\n",
    "    plt.ylabel('Original Class')\n",
    "    plt.show()\n",
    "    print(\"Sum of rows in recall matrix\",A.sum(axis=1))"
   ]
  },
  {
   "cell_type": "code",
   "execution_count": 31,
   "metadata": {
    "colab": {
     "base_uri": "https://localhost:8080/",
     "height": 1000
    },
    "id": "DE3oQEMJLCp3",
    "outputId": "7697120b-30f5-4916-ab5d-de1e874001ee"
   },
   "outputs": [
    {
     "name": "stdout",
     "output_type": "stream",
     "text": [
      "Number of misclassified points  0.26708278580814715\n",
      "-------------------------------------------------- Confusion matrix --------------------------------------------------\n"
     ]
    },
    {
     "data": {
      "image/png": "[encoded data removed]",
      "text/plain": [
       "<Figure size 720x360 with 2 Axes>"
      ]
     },
     "metadata": {
      "needs_background": "light",
      "tags": []
     },
     "output_type": "display_data"
    },
    {
     "name": "stdout",
     "output_type": "stream",
     "text": [
      "-------------------------------------------------- Precision matrix --------------------------------------------------\n"
     ]
    },
    {
     "data": {
      "image/png": "[encoded data removed]",
      "text/plain": [
       "<Figure size 720x360 with 2 Axes>"
      ]
     },
     "metadata": {
      "needs_background": "light",
      "tags": []
     },
     "output_type": "display_data"
    },
    {
     "name": "stdout",
     "output_type": "stream",
     "text": [
      "Sum of columns in precision matrix [1. 1. 1. 1. 1.]\n",
      "-------------------------------------------------- Recall matrix --------------------------------------------------\n"
     ]
    },
    {
     "data": {
      "image/png": "[encoded data removed]",
      "text/plain": [
       "<Figure size 720x360 with 2 Axes>"
      ]
     },
     "metadata": {
      "needs_background": "light",
      "tags": []
     },
     "output_type": "display_data"
    },
    {
     "name": "stdout",
     "output_type": "stream",
     "text": [
      "Sum of rows in recall matrix [1. 1. 1. 1. 1.]\n"
     ]
    }
   ],
   "source": [
    "plot_confusion_matrix(y_test,  y_pred_cat, catagories)"
   ]
  },
  {
   "cell_type": "markdown",
   "metadata": {
    "id": "kt60lyJ5LEUi"
   },
   "source": [
    "## 3.sentiment model"
   ]
  },
  {
   "cell_type": "code",
   "execution_count": 33,
   "metadata": {
    "id": "CncM4_zwLHt4"
   },
   "outputs": [],
   "source": [
    "X = data_restaurant['text']\n",
    "Y = data_restaurant['polarity']"
   ]
  },
  {
   "cell_type": "code",
   "execution_count": 34,
   "metadata": {
    "id": "9EfPRL70LJvP"
   },
   "outputs": [],
   "source": [
    "from sklearn.model_selection import train_test_split\n",
    "\n",
    "X_train, X_test, y_train, y_test = train_test_split(X, Y, test_size=0.2, random_state=1)"
   ]
  },
  {
   "cell_type": "code",
   "execution_count": 35,
   "metadata": {
    "colab": {
     "base_uri": "https://localhost:8080/"
    },
    "id": "TMxXxIp3LUDs",
    "outputId": "1e27d5b8-44ee-4d00-f8ec-bd4a0c8c5ca2"
   },
   "outputs": [
    {
     "name": "stdout",
     "output_type": "stream",
     "text": [
      "(12176,) (12176,)\n",
      "(3044,) (3044,)\n"
     ]
    }
   ],
   "source": [
    "print(X_train.shape, y_train.shape)\n",
    "print(X_test.shape, y_test.shape)"
   ]
  },
  {
   "cell_type": "code",
   "execution_count": 36,
   "metadata": {
    "colab": {
     "base_uri": "https://localhost:8080/"
    },
    "id": "-GWiXb2KLV_V",
    "outputId": "94f22ca7-22b5-4b89-a17a-e887b7f62d29"
   },
   "outputs": [
    {
     "data": {
      "text/plain": [
       "XGBClassifier(base_score=0.5, booster='gbtree', colsample_bylevel=1,\n",
       "              colsample_bynode=1, colsample_bytree=1, gamma=0,\n",
       "              learning_rate=0.1, max_delta_step=0, max_depth=3,\n",
       "              min_child_weight=1, missing=None, n_estimators=100, n_jobs=1,\n",
       "              nthread=None, objective='multi:softprob', random_state=0,\n",
       "              reg_alpha=0, reg_lambda=1, scale_pos_weight=1, seed=None,\n",
       "              silent=None, subsample=1, verbosity=1)"
      ]
     },
     "execution_count": 36,
     "metadata": {
      "tags": []
     },
     "output_type": "execute_result"
    }
   ],
   "source": [
    "reg = xgb.XGBClassifier() \n",
    "reg.fit(preprocessed_train_review, y_train) "
   ]
  },
  {
   "cell_type": "code",
   "execution_count": 37,
   "metadata": {
    "id": "dc6kys5jLYm1"
   },
   "outputs": [],
   "source": [
    "# making predictions on the training set \n",
    "y_pred_train = reg.predict(preprocessed_train_review)"
   ]
  },
  {
   "cell_type": "code",
   "execution_count": 38,
   "metadata": {
    "id": "sSmbVfG0LbCY"
   },
   "outputs": [],
   "source": [
    "# making predictions on the testing set \n",
    "y_pred_polarity = reg.predict(preprocessed_test_review)"
   ]
  },
  {
   "cell_type": "code",
   "execution_count": 39,
   "metadata": {
    "colab": {
     "base_uri": "https://localhost:8080/"
    },
    "id": "4RhnabyiLc2d",
    "outputId": "d697ae6d-0b34-413b-9dbf-91cce251943e"
   },
   "outputs": [
    {
     "data": {
      "text/plain": [
       "68.142247043364"
      ]
     },
     "execution_count": 39,
     "metadata": {
      "tags": []
     },
     "output_type": "execute_result"
    }
   ],
   "source": [
    "# comparing actual response values (y_train) with predicted response values (y_pred_train) \n",
    " \n",
    "metrics.accuracy_score(y_train, y_pred_train)*100"
   ]
  },
  {
   "cell_type": "code",
   "execution_count": 40,
   "metadata": {
    "colab": {
     "base_uri": "https://localhost:8080/"
    },
    "id": "scXnJGnhLfUG",
    "outputId": "0e2841d7-145c-4625-f26e-eca48e5c42d0"
   },
   "outputs": [
    {
     "data": {
      "text/plain": [
       "66.06438896189225"
      ]
     },
     "execution_count": 40,
     "metadata": {
      "tags": []
     },
     "output_type": "execute_result"
    }
   ],
   "source": [
    "metrics.accuracy_score(y_test, y_pred_polarity)*100"
   ]
  },
  {
   "cell_type": "code",
   "execution_count": 41,
   "metadata": {
    "colab": {
     "base_uri": "https://localhost:8080/"
    },
    "id": "HYhJupWi36kT",
    "outputId": "cf479ada-d361-44fd-85f3-2d2a4e6252d8"
   },
   "outputs": [
    {
     "name": "stdout",
     "output_type": "stream",
     "text": [
      "              precision    recall  f1-score   support\n",
      "\n",
      "    negative       0.84      0.20      0.32       161\n",
      "    positive       0.67      0.38      0.49       696\n",
      "     neutral       0.93      0.13      0.23       486\n",
      "    conflict       0.65      0.97      0.78      1701\n",
      "\n",
      "    accuracy                           0.66      3044\n",
      "   macro avg       0.77      0.42      0.45      3044\n",
      "weighted avg       0.71      0.66      0.60      3044\n",
      "\n"
     ]
    }
   ],
   "source": [
    "from sklearn.metrics import classification_report\n",
    "print(classification_report(y_test, y_pred_polarity ,target_names= polarity))"
   ]
  },
  {
   "cell_type": "code",
   "execution_count": 42,
   "metadata": {
    "colab": {
     "base_uri": "https://localhost:8080/",
     "height": 1000
    },
    "id": "5_rc2Y3sLhRi",
    "outputId": "6bcfc541-5731-4a6c-96a2-6ec0f3b62594"
   },
   "outputs": [
    {
     "name": "stdout",
     "output_type": "stream",
     "text": [
      "Number of misclassified points  0.33935611038107755\n",
      "-------------------------------------------------- Confusion matrix --------------------------------------------------\n"
     ]
    },
    {
     "data": {
      "image/png": "[encoded data removed]",
      "text/plain": [
       "<Figure size 720x360 with 2 Axes>"
      ]
     },
     "metadata": {
      "needs_background": "light",
      "tags": []
     },
     "output_type": "display_data"
    },
    {
     "name": "stdout",
     "output_type": "stream",
     "text": [
      "-------------------------------------------------- Precision matrix --------------------------------------------------\n"
     ]
    },
    {
     "data": {
      "image/png": "[encoded data removed]",
      "text/plain": [
       "<Figure size 720x360 with 2 Axes>"
      ]
     },
     "metadata": {
      "needs_background": "light",
      "tags": []
     },
     "output_type": "display_data"
    },
    {
     "name": "stdout",
     "output_type": "stream",
     "text": [
      "Sum of columns in precision matrix [1. 1. 1. 1.]\n",
      "-------------------------------------------------- Recall matrix --------------------------------------------------\n"
     ]
    },
    {
     "data": {
      "image/png": "[encoded data removed]",
      "text/plain": [
       "<Figure size 720x360 with 2 Axes>"
      ]
     },
     "metadata": {
      "needs_background": "light",
      "tags": []
     },
     "output_type": "display_data"
    },
    {
     "name": "stdout",
     "output_type": "stream",
     "text": [
      "Sum of rows in recall matrix [1. 1. 1. 1.]\n"
     ]
    }
   ],
   "source": [
    "plot_confusion_matrix(y_test,  y_pred_polarity, polarity)"
   ]
  },
  {
   "cell_type": "code",
   "execution_count": null,
   "metadata": {
    "id": "SIp0yfqjLlAd"
   },
   "outputs": [],
   "source": [
    "#8. creating a resultant dataframe"
   ]
  },
  {
   "cell_type": "code",
   "execution_count": 43,
   "metadata": {
    "id": "8PhUcXDwLtQ7"
   },
   "outputs": [],
   "source": [
    "def create_result_dataframe(pred_1,pred_2):\n",
    "  # Calling DataFrame constructor on predicted outputs\n",
    "  resultant_df = pd.DataFrame(list(zip(pred_1,pred_2)), columns = [\"predicted_catagories\" , \"predicted_polarity\"])\n",
    "  result  = pd.crosstab(resultant_df.predicted_catagories,resultant_df.predicted_polarity ,margins = True , margins_name = \"Total\")\n",
    "  result[\"Ranking\"] = ( result.Total/resultant_df.shape[0]) * 5.0 \n",
    "  result[\"Negative in %\"] = (result.negative/result.Total) * 100\n",
    "  result[\"Neutral in %\"] = (result.neutral/result.Total) * 100\n",
    "  result[\"Positive in %\"] = (result.positive/result.Total) * 100\n",
    "  result[\"conflict in %\"] = (result.conflict/result.Total) * 100\n",
    "  del result[\"negative\"]\n",
    "  del result[\"neutral\"]\n",
    "  del result[\"positive\"]\n",
    "  del result[\"Total\"]\n",
    "  del result[\"conflict\"]\n",
    "\n",
    "  return result"
   ]
  },
  {
   "cell_type": "code",
   "execution_count": 44,
   "metadata": {
    "id": "Eob122y_Lvdd"
   },
   "outputs": [],
   "source": [
    "result = create_result_dataframe(y_pred_cat,y_pred_polarity)"
   ]
  },
  {
   "cell_type": "code",
   "execution_count": 45,
   "metadata": {
    "colab": {
     "base_uri": "https://localhost:8080/",
     "height": 254
    },
    "id": "LuWtj6J5LyUB",
    "outputId": "db878a0f-ab1d-4bdf-fef4-cb9736ad068e"
   },
   "outputs": [
    {
     "data": {
      "text/html": [
       "<div>\n",
       "<style scoped>\n",
       "    .dataframe tbody tr th:only-of-type {\n",
       "        vertical-align: middle;\n",
       "    }\n",
       "\n",
       "    .dataframe tbody tr th {\n",
       "        vertical-align: top;\n",
       "    }\n",
       "\n",
       "    .dataframe thead th {\n",
       "        text-align: right;\n",
       "    }\n",
       "</style>\n",
       "<table border=\"1\" class=\"dataframe\">\n",
       "  <thead>\n",
       "    <tr style=\"text-align: right;\">\n",
       "      <th>predicted_polarity</th>\n",
       "      <th>Ranking</th>\n",
       "      <th>Negative in %</th>\n",
       "      <th>Neutral in %</th>\n",
       "      <th>Positive in %</th>\n",
       "      <th>conflict in %</th>\n",
       "    </tr>\n",
       "    <tr>\n",
       "      <th>predicted_catagories</th>\n",
       "      <th></th>\n",
       "      <th></th>\n",
       "      <th></th>\n",
       "      <th></th>\n",
       "      <th></th>\n",
       "    </tr>\n",
       "  </thead>\n",
       "  <tbody>\n",
       "    <tr>\n",
       "      <th>ambience</th>\n",
       "      <td>0.313732</td>\n",
       "      <td>6.282723</td>\n",
       "      <td>1.047120</td>\n",
       "      <td>89.528796</td>\n",
       "      <td>3.141361</td>\n",
       "    </tr>\n",
       "    <tr>\n",
       "      <th>anecdotes/miscellaneous</th>\n",
       "      <td>2.376807</td>\n",
       "      <td>11.748445</td>\n",
       "      <td>4.284727</td>\n",
       "      <td>83.275743</td>\n",
       "      <td>0.691085</td>\n",
       "    </tr>\n",
       "    <tr>\n",
       "      <th>food</th>\n",
       "      <td>1.379763</td>\n",
       "      <td>11.190476</td>\n",
       "      <td>0.476190</td>\n",
       "      <td>86.428571</td>\n",
       "      <td>1.904762</td>\n",
       "    </tr>\n",
       "    <tr>\n",
       "      <th>price</th>\n",
       "      <td>0.331800</td>\n",
       "      <td>25.247525</td>\n",
       "      <td>0.000000</td>\n",
       "      <td>74.752475</td>\n",
       "      <td>0.000000</td>\n",
       "    </tr>\n",
       "    <tr>\n",
       "      <th>service</th>\n",
       "      <td>0.597898</td>\n",
       "      <td>18.681319</td>\n",
       "      <td>0.000000</td>\n",
       "      <td>79.670330</td>\n",
       "      <td>1.648352</td>\n",
       "    </tr>\n",
       "    <tr>\n",
       "      <th>Total</th>\n",
       "      <td>5.000000</td>\n",
       "      <td>12.976347</td>\n",
       "      <td>2.233903</td>\n",
       "      <td>83.541393</td>\n",
       "      <td>1.248357</td>\n",
       "    </tr>\n",
       "  </tbody>\n",
       "</table>\n",
       "</div>"
      ],
      "text/plain": [
       "predicted_polarity        Ranking  Negative in %  ...  Positive in %  conflict in %\n",
       "predicted_catagories                              ...                              \n",
       "ambience                 0.313732       6.282723  ...      89.528796       3.141361\n",
       "anecdotes/miscellaneous  2.376807      11.748445  ...      83.275743       0.691085\n",
       "food                     1.379763      11.190476  ...      86.428571       1.904762\n",
       "price                    0.331800      25.247525  ...      74.752475       0.000000\n",
       "service                  0.597898      18.681319  ...      79.670330       1.648352\n",
       "Total                    5.000000      12.976347  ...      83.541393       1.248357\n",
       "\n",
       "[6 rows x 5 columns]"
      ]
     },
     "execution_count": 45,
     "metadata": {
      "tags": []
     },
     "output_type": "execute_result"
    }
   ],
   "source": [
    "result"
   ]
  },
  {
   "cell_type": "code",
   "execution_count": null,
   "metadata": {
    "id": "LHagUR1QL1oS"
   },
   "outputs": [],
   "source": []
  }
 ],
 "metadata": {
  "colab": {
   "collapsed_sections": [],
   "name": "module 9 xgbbost.ipynb",
   "provenance": []
  },
  "kernelspec": {
   "display_name": "Python 3",
   "language": "python",
   "name": "python3"
  },
  "language_info": {
   "codemirror_mode": {
    "name": "ipython",
    "version": 3
   },
   "file_extension": ".py",
   "mimetype": "text/x-python",
   "name": "python",
   "nbconvert_exporter": "python",
   "pygments_lexer": "ipython3",
   "version": "3.7.3"
  }
 },
 "nbformat": 4,
 "nbformat_minor": 1
}
