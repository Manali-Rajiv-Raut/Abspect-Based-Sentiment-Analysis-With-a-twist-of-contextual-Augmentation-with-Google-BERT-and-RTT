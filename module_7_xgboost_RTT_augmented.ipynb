{
 "cells": [
  {
   "cell_type": "markdown",
   "metadata": {},
   "source": [
    "# xgBoost : RTT augmented Dataset"
   ]
  },
  {
   "cell_type": "code",
   "execution_count": 1,
   "metadata": {
    "colab": {
     "base_uri": "https://localhost:8080/",
     "height": 1000
    },
    "id": "QZ4DswVW8F_r",
    "outputId": "6fb19e2c-e6e8-404a-d3aa-2cbe31b6dd2f",
    "scrolled": false
   },
   "outputs": [
    {
     "name": "stdout",
     "output_type": "stream",
     "text": [
      "Collecting roundtrip\n",
      "  Downloading https://files.pythonhosted.org/packages/fb/43/73773a6b782e6c46093a880144c297165aefcafe21e8cbed1a4e1afadd91/roundtrip-0.1.1.tar.gz\n",
      "Collecting mtranslate\n",
      "  Downloading https://files.pythonhosted.org/packages/85/17/a2e5c00bf666fcbc119a44c5f20406e7be951a7d720bb48e573815a8ffc3/mtranslate-1.8.tar.gz\n",
      "Collecting google.cloud.translate\n",
      "\u001b[?25l  Downloading https://files.pythonhosted.org/packages/b9/bf/bdd34a6c8b308aa8d1a2ead03fa14cd1bdc4fd9b6c649b12bd47f3ebcab9/google_cloud_translate-3.0.2-py2.py3-none-any.whl (93kB)\n",
      "\u001b[K     |████████████████████████████████| 102kB 5.1MB/s \n",
      "\u001b[?25hCollecting google-cloud-core<2.0dev,>=1.1.0\n",
      "  Downloading https://files.pythonhosted.org/packages/36/82/d54bdbdbae02c66ec26c97eb684cfb27af82b3e286497625b815c4741792/google_cloud_core-1.5.0-py2.py3-none-any.whl\n",
      "Collecting libcst>=0.2.5\n",
      "\u001b[?25l  Downloading https://files.pythonhosted.org/packages/ba/26/a67b3ce61ef35cd9abb1be25ee9b156ea45940903626ed4ea9777700ade4/libcst-0.3.16-py3-none-any.whl (505kB)\n",
      "\u001b[K     |████████████████████████████████| 512kB 10.8MB/s \n",
      "\u001b[?25hCollecting proto-plus>=0.4.0\n",
      "\u001b[?25l  Downloading https://files.pythonhosted.org/packages/e8/e0/59ad1e6a7d62259027e9b48aedfc95ba63f9336b803d1b174769bcb2c7f9/proto-plus-1.13.0.tar.gz (44kB)\n",
      "\u001b[K     |████████████████████████████████| 51kB 5.8MB/s \n",
      "\u001b[?25hCollecting google-api-core[grpc]<2.0.0dev,>=1.22.0\n",
      "\u001b[?25l  Downloading https://files.pythonhosted.org/packages/59/52/0ac071e86ab1f0ab0e4d2d8dc81ad1722dbe73e315dcb4d9693103ca1927/google_api_core-1.25.0-py2.py3-none-any.whl (92kB)\n",
      "\u001b[K     |████████████████████████████████| 102kB 7.5MB/s \n",
      "\u001b[?25hRequirement already satisfied: six>=1.12.0 in /usr/local/lib/python3.6/dist-packages (from google-cloud-core<2.0dev,>=1.1.0->google.cloud.translate->roundtrip) (1.15.0)\n",
      "Collecting typing-inspect>=0.4.0\n",
      "  Downloading https://files.pythonhosted.org/packages/42/1c/66402db44184904a2f14722d317a4da0b5c8c78acfc3faf74362566635c5/typing_inspect-0.6.0-py3-none-any.whl\n",
      "Requirement already satisfied: dataclasses>=0.6.0; python_version < \"3.7\" in /usr/local/lib/python3.6/dist-packages (from libcst>=0.2.5->google.cloud.translate->roundtrip) (0.8)\n",
      "Requirement already satisfied: typing-extensions>=3.7.4.2 in /usr/local/lib/python3.6/dist-packages (from libcst>=0.2.5->google.cloud.translate->roundtrip) (3.7.4.3)\n",
      "Collecting pyyaml>=5.2\n",
      "\u001b[?25l  Downloading https://files.pythonhosted.org/packages/64/c2/b80047c7ac2478f9501676c988a5411ed5572f35d1beff9cae07d321512c/PyYAML-5.3.1.tar.gz (269kB)\n",
      "\u001b[K     |████████████████████████████████| 276kB 16.2MB/s \n",
      "\u001b[?25hRequirement already satisfied: protobuf>=3.12.0 in /usr/local/lib/python3.6/dist-packages (from proto-plus>=0.4.0->google.cloud.translate->roundtrip) (3.12.4)\n",
      "Requirement already satisfied: requests<3.0.0dev,>=2.18.0 in /usr/local/lib/python3.6/dist-packages (from google-api-core[grpc]<2.0.0dev,>=1.22.0->google.cloud.translate->roundtrip) (2.23.0)\n",
      "Collecting google-auth<2.0dev,>=1.21.1\n",
      "\u001b[?25l  Downloading https://files.pythonhosted.org/packages/3e/fd/df1b3a59aca9537a187413651ad63b290d165559150a868a298fa837fe7b/google_auth-1.24.0-py2.py3-none-any.whl (114kB)\n",
      "\u001b[K     |████████████████████████████████| 122kB 18.5MB/s \n",
      "\u001b[?25hRequirement already satisfied: pytz in /usr/local/lib/python3.6/dist-packages (from google-api-core[grpc]<2.0.0dev,>=1.22.0->google.cloud.translate->roundtrip) (2018.9)\n",
      "Requirement already satisfied: setuptools>=40.3.0 in /usr/local/lib/python3.6/dist-packages (from google-api-core[grpc]<2.0.0dev,>=1.22.0->google.cloud.translate->roundtrip) (51.1.1)\n",
      "Requirement already satisfied: googleapis-common-protos<2.0dev,>=1.6.0 in /usr/local/lib/python3.6/dist-packages (from google-api-core[grpc]<2.0.0dev,>=1.22.0->google.cloud.translate->roundtrip) (1.52.0)\n",
      "Requirement already satisfied: grpcio<2.0dev,>=1.29.0; extra == \"grpc\" in /usr/local/lib/python3.6/dist-packages (from google-api-core[grpc]<2.0.0dev,>=1.22.0->google.cloud.translate->roundtrip) (1.32.0)\n",
      "Collecting mypy-extensions>=0.3.0\n",
      "  Downloading https://files.pythonhosted.org/packages/5c/eb/975c7c080f3223a5cdaff09612f3a5221e4ba534f7039db34c35d95fa6a5/mypy_extensions-0.4.3-py2.py3-none-any.whl\n",
      "Requirement already satisfied: certifi>=2017.4.17 in /usr/local/lib/python3.6/dist-packages (from requests<3.0.0dev,>=2.18.0->google-api-core[grpc]<2.0.0dev,>=1.22.0->google.cloud.translate->roundtrip) (2020.12.5)\n",
      "Requirement already satisfied: chardet<4,>=3.0.2 in /usr/local/lib/python3.6/dist-packages (from requests<3.0.0dev,>=2.18.0->google-api-core[grpc]<2.0.0dev,>=1.22.0->google.cloud.translate->roundtrip) (3.0.4)\n",
      "Requirement already satisfied: idna<3,>=2.5 in /usr/local/lib/python3.6/dist-packages (from requests<3.0.0dev,>=2.18.0->google-api-core[grpc]<2.0.0dev,>=1.22.0->google.cloud.translate->roundtrip) (2.10)\n",
      "Requirement already satisfied: urllib3!=1.25.0,!=1.25.1,<1.26,>=1.21.1 in /usr/local/lib/python3.6/dist-packages (from requests<3.0.0dev,>=2.18.0->google-api-core[grpc]<2.0.0dev,>=1.22.0->google.cloud.translate->roundtrip) (1.24.3)\n",
      "Requirement already satisfied: pyasn1-modules>=0.2.1 in /usr/local/lib/python3.6/dist-packages (from google-auth<2.0dev,>=1.21.1->google-api-core[grpc]<2.0.0dev,>=1.22.0->google.cloud.translate->roundtrip) (0.2.8)\n",
      "Requirement already satisfied: rsa<5,>=3.1.4; python_version >= \"3.6\" in /usr/local/lib/python3.6/dist-packages (from google-auth<2.0dev,>=1.21.1->google-api-core[grpc]<2.0.0dev,>=1.22.0->google.cloud.translate->roundtrip) (4.6)\n",
      "Requirement already satisfied: cachetools<5.0,>=2.0.0 in /usr/local/lib/python3.6/dist-packages (from google-auth<2.0dev,>=1.21.1->google-api-core[grpc]<2.0.0dev,>=1.22.0->google.cloud.translate->roundtrip) (4.2.0)\n",
      "Requirement already satisfied: pyasn1<0.5.0,>=0.4.6 in /usr/local/lib/python3.6/dist-packages (from pyasn1-modules>=0.2.1->google-auth<2.0dev,>=1.21.1->google-api-core[grpc]<2.0.0dev,>=1.22.0->google.cloud.translate->roundtrip) (0.4.8)\n",
      "Building wheels for collected packages: roundtrip, mtranslate, proto-plus, pyyaml\n",
      "  Building wheel for roundtrip (setup.py) ... \u001b[?25l\u001b[?25hdone\n",
      "  Created wheel for roundtrip: filename=roundtrip-0.1.1-cp36-none-any.whl size=3000 sha256=32fffd65f92b6f7458af65ed3023c1c1cf090b685330c769da987c819b53b03d\n",
      "  Stored in directory: /root/.cache/pip/wheels/ef/41/ac/e8e129e66ad68bfda0a9241c3fdbac3a272404a5468a0d5006\n",
      "  Building wheel for mtranslate (setup.py) ... \u001b[?25l\u001b[?25hdone\n",
      "  Created wheel for mtranslate: filename=mtranslate-1.8-cp36-none-any.whl size=3695 sha256=92fc212bdf87bebd42c5e2ca97e6a074dd26add6d0726754217da8b9db015284\n",
      "  Stored in directory: /root/.cache/pip/wheels/eb/fb/4a/f63e74cbfb835161f3f2d1a6b607b137d344a5cb6d8c1303fa\n",
      "  Building wheel for proto-plus (setup.py) ... \u001b[?25l\u001b[?25hdone\n",
      "  Created wheel for proto-plus: filename=proto_plus-1.13.0-cp36-none-any.whl size=41592 sha256=05dfd73daa46b39d3f1efaf1dafa431a7fe5ed7718b27df735f25c192186a733\n",
      "  Stored in directory: /root/.cache/pip/wheels/65/57/45/b5c1c1c29003f3670581d84356fa449e1133da93c15f1de364\n",
      "  Building wheel for pyyaml (setup.py) ... \u001b[?25l\u001b[?25hdone\n",
      "  Created wheel for pyyaml: filename=PyYAML-5.3.1-cp36-cp36m-linux_x86_64.whl size=44621 sha256=61e142f2665555a9d09ba840484493b36d659319ec7796e29c3f2c9d1dea82b1\n",
      "  Stored in directory: /root/.cache/pip/wheels/a7/c1/ea/cf5bd31012e735dc1dfea3131a2d5eae7978b251083d6247bd\n",
      "Successfully built roundtrip mtranslate proto-plus pyyaml\n",
      "\u001b[31mERROR: google-colab 1.0.0 has requirement google-auth~=1.17.2, but you'll have google-auth 1.24.0 which is incompatible.\u001b[0m\n",
      "Installing collected packages: mtranslate, google-auth, google-api-core, google-cloud-core, mypy-extensions, typing-inspect, pyyaml, libcst, proto-plus, google.cloud.translate, roundtrip\n",
      "  Found existing installation: google-auth 1.17.2\n",
      "    Uninstalling google-auth-1.17.2:\n",
      "      Successfully uninstalled google-auth-1.17.2\n",
      "  Found existing installation: google-api-core 1.16.0\n",
      "    Uninstalling google-api-core-1.16.0:\n",
      "      Successfully uninstalled google-api-core-1.16.0\n",
      "  Found existing installation: google-cloud-core 1.0.3\n",
      "    Uninstalling google-cloud-core-1.0.3:\n",
      "      Successfully uninstalled google-cloud-core-1.0.3\n",
      "  Found existing installation: PyYAML 3.13\n",
      "    Uninstalling PyYAML-3.13:\n",
      "      Successfully uninstalled PyYAML-3.13\n",
      "Successfully installed google-api-core-1.25.0 google-auth-1.24.0 google-cloud-core-1.5.0 google.cloud.translate libcst-0.3.16 mtranslate-1.8 mypy-extensions-0.4.3 proto-plus-1.13.0 pyyaml-5.3.1 roundtrip-0.1.1 typing-inspect-0.6.0\n"
     ]
    },
    {
     "data": {
      "application/vnd.colab-display-data+json": {
       "pip_warning": {
        "packages": [
         "google"
        ]
       }
      }
     },
     "metadata": {
      "tags": []
     },
     "output_type": "display_data"
    }
   ],
   "source": [
    "!pip install roundtrip"
   ]
  },
  {
   "cell_type": "code",
   "execution_count": 2,
   "metadata": {
    "colab": {
     "base_uri": "https://localhost:8080/"
    },
    "id": "3b3ETYvm-jcG",
    "outputId": "0102338a-ca4d-40a8-cafd-4c5a2d892971"
   },
   "outputs": [
    {
     "name": "stdout",
     "output_type": "stream",
     "text": [
      "Collecting import-ipynb\n",
      "  Downloading https://files.pythonhosted.org/packages/63/35/495e0021bfdcc924c7cdec4e9fbb87c88dd03b9b9b22419444dc370c8a45/import-ipynb-0.1.3.tar.gz\n",
      "Building wheels for collected packages: import-ipynb\n",
      "  Building wheel for import-ipynb (setup.py) ... \u001b[?25l\u001b[?25hdone\n",
      "  Created wheel for import-ipynb: filename=import_ipynb-0.1.3-cp36-none-any.whl size=2976 sha256=5726d805413fd723a5305f28277c1880015467b1f8aa50b1e86504a91bae650d\n",
      "  Stored in directory: /root/.cache/pip/wheels/b4/7b/e9/a3a6e496115dffdb4e3085d0ae39ffe8a814eacc44bbf494b5\n",
      "Successfully built import-ipynb\n",
      "Installing collected packages: import-ipynb\n",
      "Successfully installed import-ipynb-0.1.3\n"
     ]
    }
   ],
   "source": [
    "# COLAB\n",
    "from google.colab import files\n",
    "from google.colab import drive\n",
    "# SYS\n",
    "import sys\n",
    "# IPYNB\n",
    "!pip install import-ipynb\n",
    "import import_ipynb\n",
    "# UTIL\n",
    "import importlib.util"
   ]
  },
  {
   "cell_type": "code",
   "execution_count": 3,
   "metadata": {
    "colab": {
     "base_uri": "https://localhost:8080/"
    },
    "id": "DOq6ALfkGM2z",
    "outputId": "ee361ee6-70cd-4ace-e770-e76a8f633863"
   },
   "outputs": [
    {
     "name": "stdout",
     "output_type": "stream",
     "text": [
      "Mounted at /content/gdrive\n"
     ]
    }
   ],
   "source": [
    "from google.colab import drive\n",
    "drive.mount('/content/gdrive')"
   ]
  },
  {
   "cell_type": "code",
   "execution_count": 4,
   "metadata": {
    "colab": {
     "base_uri": "https://localhost:8080/"
    },
    "id": "uYH2P9FJ-oSh",
    "outputId": "a1c64998-5cd1-4deb-fe3f-e488fead0c38"
   },
   "outputs": [
    {
     "name": "stdout",
     "output_type": "stream",
     "text": [
      "Uninstalling nltk-3.2.5:\n",
      "  Would remove:\n",
      "    /usr/local/lib/python3.6/dist-packages/nltk-3.2.5.dist-info/*\n",
      "    /usr/local/lib/python3.6/dist-packages/nltk/*\n",
      "Proceed (y/n)? y\n",
      "  Successfully uninstalled nltk-3.2.5\n",
      "Collecting nltk\n",
      "\u001b[?25l  Downloading https://files.pythonhosted.org/packages/92/75/ce35194d8e3022203cca0d2f896dbb88689f9b3fce8e9f9cff942913519d/nltk-3.5.zip (1.4MB)\n",
      "\u001b[K     |████████████████████████████████| 1.4MB 7.9MB/s \n",
      "\u001b[?25hRequirement already satisfied, skipping upgrade: click in /usr/local/lib/python3.6/dist-packages (from nltk) (7.1.2)\n",
      "Requirement already satisfied, skipping upgrade: joblib in /usr/local/lib/python3.6/dist-packages (from nltk) (1.0.0)\n",
      "Requirement already satisfied, skipping upgrade: regex in /usr/local/lib/python3.6/dist-packages (from nltk) (2019.12.20)\n",
      "Requirement already satisfied, skipping upgrade: tqdm in /usr/local/lib/python3.6/dist-packages (from nltk) (4.41.1)\n",
      "Building wheels for collected packages: nltk\n",
      "  Building wheel for nltk (setup.py) ... \u001b[?25l\u001b[?25hdone\n",
      "  Created wheel for nltk: filename=nltk-3.5-cp36-none-any.whl size=1434677 sha256=9a1e258f6701937a6b61cfbc2d0cad426f2b757a4848977755f1b919271e34c6\n",
      "  Stored in directory: /root/.cache/pip/wheels/ae/8c/3f/b1fe0ba04555b08b57ab52ab7f86023639a526d8bc8d384306\n",
      "Successfully built nltk\n",
      "Installing collected packages: nltk\n",
      "Successfully installed nltk-3.5\n"
     ]
    },
    {
     "name": "stderr",
     "output_type": "stream",
     "text": [
      "[nltk_data] Downloading package stopwords to /root/nltk_data...\n",
      "[nltk_data]   Unzipping corpora/stopwords.zip.\n",
      "[nltk_data] Downloading package wordnet to /root/nltk_data...\n",
      "[nltk_data]   Unzipping corpora/wordnet.zip.\n"
     ]
    },
    {
     "name": "stdout",
     "output_type": "stream",
     "text": [
      "{'his', 'being', 'will', 'theirs', \"you'd\", \"should've\", 'is', 'just', 'so', 'll', 'ma', 'needn', 'at', \"shouldn't\", 'am', 'down', 'its', 'my', 'where', 'haven', 'more', 'has', 'any', 'their', 'herself', 'out', 'each', 'myself', 'doing', 'than', 'that', 'are', \"hasn't\", 'them', 'own', 'both', 'against', \"isn't\", 'he', \"hadn't\", 'hadn', 'nor', 'should', 'most', 'there', 'these', 'does', 'over', 'we', 'which', 'such', 'until', 'then', \"don't\", 'into', 'o', \"doesn't\", 'she', 'ourselves', 'with', 'aren', \"weren't\", 'been', \"couldn't\", 'below', 'yours', 'no', 'itself', 'in', 'shouldn', 'once', 'not', 'how', 'wasn', \"didn't\", 'i', 'her', 'y', \"it's\", 'before', 'now', 'very', \"you'll\", \"she's\", 'they', \"you're\", 'did', \"that'll\", 'mightn', 'what', 'can', 'this', 'on', 'do', 'mustn', 'm', 'if', 'above', 'be', 'further', 'and', 'isn', 's', 'it', 'the', \"aren't\", 'shan', 'but', 'have', 't', 'you', 'himself', 'while', 'about', 'by', 'him', 'here', \"mightn't\", \"wouldn't\", 're', 'under', 'was', 'yourself', 'themselves', 've', 'whom', 'had', 'only', 'couldn', 'off', \"won't\", 'having', \"mustn't\", 'an', 'hasn', 'between', 'as', 'wouldn', 'were', 'few', 'too', 'after', 'up', 'all', 'me', 'some', 'again', 'weren', 'through', 'doesn', 'your', 'from', 'or', 'when', 'other', 'why', \"needn't\", 'those', 'who', 'because', 'd', 'same', 'ain', \"shan't\", 'hers', 'during', 'to', 'won', 'of', \"wasn't\", \"you've\", 'ours', 'don', 'didn', \"haven't\", 'for', 'our', 'a', 'yourselves'}\n"
     ]
    }
   ],
   "source": [
    "#https://stackoverflow.com/questions/62117483/import-module-in-google-colab-from-google-drive-python\n",
    "sys.path.append('/content/gdrive/MyDrive/CS--2/')\n",
    "#import module_1_xml_to_df\n",
    "#from module_1_xml_to_df import convert_xml_to_DataFrame\n",
    "from module_2_preprocessing import Data_Preprocessing"
   ]
  },
  {
   "cell_type": "code",
   "execution_count": 5,
   "metadata": {
    "id": "Linhgw8T-ytR"
   },
   "outputs": [],
   "source": [
    "import pandas as pd\n",
    "import re\n",
    "import numpy as np\n",
    "import seaborn as sns\n",
    "from sklearn import linear_model, metrics  \n",
    "import xgboost as xgb \n",
    "from sklearn.metrics import accuracy_score, f1_score, confusion_matrix\n",
    "import matplotlib.pyplot as plt"
   ]
  },
  {
   "cell_type": "markdown",
   "metadata": {},
   "source": [
    "### 1. laoding calss data_augmentation_with_RTT"
   ]
  },
  {
   "cell_type": "code",
   "execution_count": 6,
   "metadata": {
    "id": "fXfAO1fb8Gfs"
   },
   "outputs": [],
   "source": [
    "class data_augmentation_with_RTT:\n",
    "  def __init__(self,per):\n",
    "    self.per = per\n",
    "\n",
    "  #https://github.com/samhavens/roundtrip\n",
    "  def RTT_function(self , dataset , len_of_aug_data) :\n",
    "      col_name = dataset.columns\n",
    "      for r in range(0,len_of_aug_data):\n",
    "        dataset=shuffle(dataset)\n",
    "        sentence = backtranslate(dataset[col_name[1]][r], \"de\")\n",
    "        aspect_term = dataset[col_name[2]][r] \n",
    "        aspect_cat = dataset[col_name[3]][r]\n",
    "        label = dataset[col_name[4]][r]\n",
    "        #print(sentence)\n",
    "        new_data = pd.DataFrame([[sentence,aspect_term, aspect_cat , label]],columns=['text', 'aspect_term', 'aspect_category', 'polarity'])\n",
    "        #print(new_data)\n",
    "        dataset = dataset.append(new_data, ignore_index=True)\n",
    "        #print(dataset.shape)\n",
    "      return dataset\n",
    "\n",
    "  def augmentation(self , data):\n",
    "    if type(data) == pd.core.series.Series:                     # if the givne datatype is series or list or numpy array\n",
    "      data = pd.DataFrame(data)                                 # it will get converted into standard Dataframe format\n",
    "    elif type(data) == list or type(data) == np.ndarray:        # for further calculations\n",
    "      data = pd.DataFrame(data = data)\n",
    "    else:\n",
    "      pass\n",
    "    \n",
    "    len_of_data = data.shape[0]\n",
    "    partition = int((self.per /100)*len_of_data)\n",
    "\n",
    "    data = shuffle(data)\n",
    "    data = self.RTT_function(data , partition)\n",
    "    \n",
    "    return data  "
   ]
  },
  {
   "cell_type": "markdown",
   "metadata": {
    "id": "JVP3zVNm-EBS"
   },
   "source": [
    "## 2.Loading the data"
   ]
  },
  {
   "cell_type": "code",
   "execution_count": 7,
   "metadata": {
    "id": "ZfcQV5x7NUPb"
   },
   "outputs": [],
   "source": [
    "restaurant_data = pd.read_csv(\"/content/gdrive/MyDrive/CS--2/restaurant_train_data_semeval_14.csv\")"
   ]
  },
  {
   "cell_type": "code",
   "execution_count": 8,
   "metadata": {
    "colab": {
     "base_uri": "https://localhost:8080/"
    },
    "id": "HqRj-jRL_8o6",
    "outputId": "7fb7c72c-5da7-449e-ed01-03bc14df98ec"
   },
   "outputs": [
    {
     "data": {
      "text/plain": [
       "(3044, 5)"
      ]
     },
     "execution_count": 8,
     "metadata": {
      "tags": []
     },
     "output_type": "execute_result"
    }
   ],
   "source": [
    "restaurant_data.shape"
   ]
  },
  {
   "cell_type": "code",
   "execution_count": null,
   "metadata": {
    "id": "Ul5P5VDOF5am"
   },
   "outputs": [],
   "source": [
    "da = data_augmentation_with_RTT(per= 100)"
   ]
  },
  {
   "cell_type": "code",
   "execution_count": null,
   "metadata": {
    "id": "ADqZXJJPAmTo"
   },
   "outputs": [],
   "source": [
    "augmented_data_restaurant = da.augmentation(restaurant_data )"
   ]
  },
  {
   "cell_type": "code",
   "execution_count": null,
   "metadata": {
    "id": "lYfUdCKTKSGQ"
   },
   "outputs": [],
   "source": [
    "# saving the dataframe \n",
    "augmented_data_restaurant.to_csv('/content/gdrive/MyDrive/CS--2/augmented_data_restaurant.csv',index= False) "
   ]
  },
  {
   "cell_type": "markdown",
   "metadata": {
    "id": "Zqt8bLzQ7zaH"
   },
   "source": [
    "## 3. Loading the RTT augmented data"
   ]
  },
  {
   "cell_type": "code",
   "execution_count": 10,
   "metadata": {
    "id": "S92ySrvL7eEP"
   },
   "outputs": [],
   "source": [
    "augmented_data_restaurant = pd.read_csv(\"/content/gdrive/MyDrive/CS--2/augmented_data_restaurant.csv\")"
   ]
  },
  {
   "cell_type": "code",
   "execution_count": 11,
   "metadata": {
    "colab": {
     "base_uri": "https://localhost:8080/",
     "height": 195
    },
    "id": "jhdMQ4RiJRTA",
    "outputId": "d60c55e0-8566-4a41-ca76-d07f3f8283d2"
   },
   "outputs": [
    {
     "data": {
      "text/html": [
       "<div>\n",
       "<style scoped>\n",
       "    .dataframe tbody tr th:only-of-type {\n",
       "        vertical-align: middle;\n",
       "    }\n",
       "\n",
       "    .dataframe tbody tr th {\n",
       "        vertical-align: top;\n",
       "    }\n",
       "\n",
       "    .dataframe thead th {\n",
       "        text-align: right;\n",
       "    }\n",
       "</style>\n",
       "<table border=\"1\" class=\"dataframe\">\n",
       "  <thead>\n",
       "    <tr style=\"text-align: right;\">\n",
       "      <th></th>\n",
       "      <th>id</th>\n",
       "      <th>text</th>\n",
       "      <th>aspect_term</th>\n",
       "      <th>aspect_category</th>\n",
       "      <th>polarity</th>\n",
       "    </tr>\n",
       "  </thead>\n",
       "  <tbody>\n",
       "    <tr>\n",
       "      <th>0</th>\n",
       "      <td>NaN</td>\n",
       "      <td>As a result, their burgers fell apart in their...</td>\n",
       "      <td>burgers</td>\n",
       "      <td>anecdotes/miscellaneous</td>\n",
       "      <td>negative</td>\n",
       "    </tr>\n",
       "    <tr>\n",
       "      <th>1</th>\n",
       "      <td>2064.0</td>\n",
       "      <td>we split a tasty vegetable samosa and the mala...</td>\n",
       "      <td>malai tikka wrap</td>\n",
       "      <td>food</td>\n",
       "      <td>positive</td>\n",
       "    </tr>\n",
       "    <tr>\n",
       "      <th>2</th>\n",
       "      <td>NaN</td>\n",
       "      <td>In the summer of 2003, however, the management...</td>\n",
       "      <td>glass front</td>\n",
       "      <td>ambience</td>\n",
       "      <td>negative</td>\n",
       "    </tr>\n",
       "    <tr>\n",
       "      <th>3</th>\n",
       "      <td>NaN</td>\n",
       "      <td>I would go back.</td>\n",
       "      <td>anecdotes/miscellaneous</td>\n",
       "      <td>anecdotes/miscellaneous</td>\n",
       "      <td>positive</td>\n",
       "    </tr>\n",
       "    <tr>\n",
       "      <th>4</th>\n",
       "      <td>667.0</td>\n",
       "      <td>prices are in line.</td>\n",
       "      <td>Prices</td>\n",
       "      <td>price</td>\n",
       "      <td>neutral</td>\n",
       "    </tr>\n",
       "  </tbody>\n",
       "</table>\n",
       "</div>"
      ],
      "text/plain": [
       "       id  ...  polarity\n",
       "0     NaN  ...  negative\n",
       "1  2064.0  ...  positive\n",
       "2     NaN  ...  negative\n",
       "3     NaN  ...  positive\n",
       "4   667.0  ...   neutral\n",
       "\n",
       "[5 rows x 5 columns]"
      ]
     },
     "execution_count": 11,
     "metadata": {
      "tags": []
     },
     "output_type": "execute_result"
    }
   ],
   "source": [
    "augmented_data_restaurant.head()"
   ]
  },
  {
   "cell_type": "code",
   "execution_count": 12,
   "metadata": {
    "colab": {
     "base_uri": "https://localhost:8080/"
    },
    "id": "BikCjtynkUat",
    "outputId": "19951eea-5d92-4385-db91-25bc1f4f5e9e"
   },
   "outputs": [
    {
     "data": {
      "text/plain": [
       "(6088, 5)"
      ]
     },
     "execution_count": 12,
     "metadata": {
      "tags": []
     },
     "output_type": "execute_result"
    }
   ],
   "source": [
    "augmented_data_restaurant.shape"
   ]
  },
  {
   "cell_type": "code",
   "execution_count": 13,
   "metadata": {
    "colab": {
     "base_uri": "https://localhost:8080/"
    },
    "id": "S03Z031uKX68",
    "outputId": "b890e801-e1e9-43fb-abaa-4e48f54a4a37"
   },
   "outputs": [
    {
     "data": {
      "text/plain": [
       "aspect_category\n",
       "anecdotes/miscellaneous    2111\n",
       "food                       1753\n",
       "service                     880\n",
       "ambience                    773\n",
       "price                       571\n",
       "dtype: int64"
      ]
     },
     "execution_count": 13,
     "metadata": {
      "tags": []
     },
     "output_type": "execute_result"
    }
   ],
   "source": [
    "augmented_data_restaurant.groupby('aspect_category').size().sort_values(ascending=False)"
   ]
  },
  {
   "cell_type": "code",
   "execution_count": 14,
   "metadata": {
    "colab": {
     "base_uri": "https://localhost:8080/"
    },
    "id": "sWPdUP5KKe9u",
    "outputId": "d8177cba-be1e-4b95-b93d-4b671c295282"
   },
   "outputs": [
    {
     "data": {
      "text/plain": [
       "(array(['anecdotes/miscellaneous', 'food', 'ambience', 'price', 'service'],\n",
       "       dtype=object), 5)"
      ]
     },
     "execution_count": 14,
     "metadata": {
      "tags": []
     },
     "output_type": "execute_result"
    }
   ],
   "source": [
    "catagories = augmented_data_restaurant['aspect_category'].unique()\n",
    "catagories , len(catagories)"
   ]
  },
  {
   "cell_type": "code",
   "execution_count": 15,
   "metadata": {
    "colab": {
     "base_uri": "https://localhost:8080/"
    },
    "id": "H9V6MJPzKk7q",
    "outputId": "b7ad3497-e0a6-46fb-f5e8-fd294675ad21"
   },
   "outputs": [
    {
     "data": {
      "text/plain": [
       "array(['negative', 'positive', 'neutral', 'conflict'], dtype=object)"
      ]
     },
     "execution_count": 15,
     "metadata": {
      "tags": []
     },
     "output_type": "execute_result"
    }
   ],
   "source": [
    "polarity = augmented_data_restaurant['polarity'].unique()\n",
    "polarity"
   ]
  },
  {
   "cell_type": "markdown",
   "metadata": {},
   "source": [
    "## 4. Aspect Based Sentiment Analysis"
   ]
  },
  {
   "cell_type": "code",
   "execution_count": 16,
   "metadata": {
    "id": "jK6RUY1w72sg"
   },
   "outputs": [],
   "source": [
    "X = augmented_data_restaurant['text']\n",
    "Y = augmented_data_restaurant['aspect_category']"
   ]
  },
  {
   "cell_type": "markdown",
   "metadata": {
    "id": "0iRZVXCnJLSy"
   },
   "source": [
    "### 4.1 Splitting the data "
   ]
  },
  {
   "cell_type": "code",
   "execution_count": 18,
   "metadata": {
    "id": "jI1WHRqKJRvL"
   },
   "outputs": [],
   "source": [
    "from sklearn.model_selection import train_test_split\n",
    "\n",
    "X_train, X_test, y_train, y_test = train_test_split(X, Y, test_size=0.2, random_state=1)"
   ]
  },
  {
   "cell_type": "code",
   "execution_count": 19,
   "metadata": {
    "colab": {
     "base_uri": "https://localhost:8080/"
    },
    "id": "8A7y80UMJUBk",
    "outputId": "3dbc2da0-dc58-4fd4-93dc-48fec60432ba"
   },
   "outputs": [
    {
     "name": "stdout",
     "output_type": "stream",
     "text": [
      "(4870,) (4870,)\n",
      "(1218,) (1218,)\n"
     ]
    }
   ],
   "source": [
    "print(X_train.shape, y_train.shape)\n",
    "print(X_test.shape, y_test.shape)"
   ]
  },
  {
   "cell_type": "code",
   "execution_count": 20,
   "metadata": {
    "id": "nR0CNHJOJYr8"
   },
   "outputs": [],
   "source": [
    "dp = Data_Preprocessing()"
   ]
  },
  {
   "cell_type": "code",
   "execution_count": 21,
   "metadata": {
    "colab": {
     "base_uri": "https://localhost:8080/"
    },
    "id": "gNYn3FNVJa00",
    "outputId": "b229f8d6-420b-4b8c-d73d-d01001f60c26"
   },
   "outputs": [
    {
     "name": "stderr",
     "output_type": "stream",
     "text": [
      "100%|██████████| 4870/4870 [00:03<00:00, 1455.35it/s]\n"
     ]
    }
   ],
   "source": [
    "X_train_review = dp.preprocess_text(X_train)"
   ]
  },
  {
   "cell_type": "code",
   "execution_count": 22,
   "metadata": {
    "colab": {
     "base_uri": "https://localhost:8080/"
    },
    "id": "lyZ-1gKGJcss",
    "outputId": "5e4951b3-2f1a-40c8-e784-07bba6dae384"
   },
   "outputs": [
    {
     "name": "stderr",
     "output_type": "stream",
     "text": [
      "100%|██████████| 1218/1218 [00:00<00:00, 2710.78it/s]\n"
     ]
    }
   ],
   "source": [
    "X_test_review = dp.preprocess_text(X_test)"
   ]
  },
  {
   "cell_type": "code",
   "execution_count": 23,
   "metadata": {
    "colab": {
     "base_uri": "https://localhost:8080/"
    },
    "id": "2Wp4nMSsJhUW",
    "outputId": "55cd94e2-9006-4e18-f60a-0abe1d15994c"
   },
   "outputs": [
    {
     "data": {
      "text/plain": [
       "CountVectorizer(analyzer='word', binary=False, decode_error='strict',\n",
       "                dtype=<class 'numpy.int64'>, encoding='utf-8', input='content',\n",
       "                lowercase=True, max_df=1.0, max_features=50000, min_df=3,\n",
       "                ngram_range=(1, 1), preprocessor=None, stop_words=None,\n",
       "                strip_accents=None, token_pattern='(?u)\\\\b\\\\w\\\\w+\\\\b',\n",
       "                tokenizer=None, vocabulary=None)"
      ]
     },
     "execution_count": 23,
     "metadata": {
      "tags": []
     },
     "output_type": "execute_result"
    }
   ],
   "source": [
    "from sklearn.feature_extraction.text import CountVectorizer    \n",
    "vectorizer_sit = CountVectorizer(min_df=3,max_features=50000)  \n",
    "vectorizer_sit.fit(X_train_review)"
   ]
  },
  {
   "cell_type": "code",
   "execution_count": 24,
   "metadata": {
    "colab": {
     "base_uri": "https://localhost:8080/"
    },
    "id": "tWua1eoxJkvJ",
    "outputId": "8412f24a-693d-4190-bd1f-a69810c822a1"
   },
   "outputs": [
    {
     "name": "stdout",
     "output_type": "stream",
     "text": [
      "Shape of matrix data after one hot encoding for train:  (4870, 1954)\n"
     ]
    }
   ],
   "source": [
    "preprocessed_train_review = vectorizer_sit.transform(X_train_review).toarray()    # produces a sparse representation of preprocessed sentences\n",
    "print(\"Shape of matrix data after one hot encoding for train: \",preprocessed_train_review .shape)"
   ]
  },
  {
   "cell_type": "code",
   "execution_count": 25,
   "metadata": {
    "colab": {
     "base_uri": "https://localhost:8080/"
    },
    "id": "-k-S3gXSJn-T",
    "outputId": "e927f25b-0b72-49d1-ff6f-6b39f7281c34"
   },
   "outputs": [
    {
     "name": "stdout",
     "output_type": "stream",
     "text": [
      "Shape of matrix data after one hot encoding for train:  (1218, 1954)\n"
     ]
    }
   ],
   "source": [
    "preprocessed_test_review = vectorizer_sit.transform(X_test_review).toarray()    \n",
    "print(\"Shape of matrix data after one hot encoding for train: \",preprocessed_test_review.shape)"
   ]
  },
  {
   "cell_type": "markdown",
   "metadata": {},
   "source": [
    "### 4.2 xgbbost model"
   ]
  },
  {
   "cell_type": "code",
   "execution_count": 26,
   "metadata": {
    "colab": {
     "base_uri": "https://localhost:8080/"
    },
    "id": "CTFkJAWmJrfR",
    "outputId": "0f71f4c1-3348-486e-af45-be777d896f0b"
   },
   "outputs": [
    {
     "data": {
      "text/plain": [
       "XGBClassifier(base_score=0.5, booster='gbtree', colsample_bylevel=1,\n",
       "              colsample_bynode=1, colsample_bytree=1, gamma=0,\n",
       "              learning_rate=0.1, max_delta_step=0, max_depth=3,\n",
       "              min_child_weight=1, missing=None, n_estimators=100, n_jobs=1,\n",
       "              nthread=None, objective='multi:softprob', random_state=0,\n",
       "              reg_alpha=0, reg_lambda=1, scale_pos_weight=1, seed=None,\n",
       "              silent=None, subsample=1, verbosity=1)"
      ]
     },
     "execution_count": 26,
     "metadata": {
      "tags": []
     },
     "output_type": "execute_result"
    }
   ],
   "source": [
    "reg = xgb.XGBClassifier() \n",
    "reg.fit(preprocessed_train_review, y_train) "
   ]
  },
  {
   "cell_type": "code",
   "execution_count": 27,
   "metadata": {
    "id": "o9zgF2tJKEyO"
   },
   "outputs": [],
   "source": [
    "# making predictions on the training set \n",
    "y_pred_train = reg.predict(preprocessed_train_review)"
   ]
  },
  {
   "cell_type": "code",
   "execution_count": 28,
   "metadata": {
    "id": "mzggkh4XKHSe"
   },
   "outputs": [],
   "source": [
    "# making predictions on the testing set \n",
    "y_pred_cat = reg.predict(preprocessed_test_review)"
   ]
  },
  {
   "cell_type": "code",
   "execution_count": 29,
   "metadata": {
    "colab": {
     "base_uri": "https://localhost:8080/"
    },
    "id": "qMBKMuShKKKZ",
    "outputId": "ce2899ab-80a8-4355-b5ab-c61a6b42bd94"
   },
   "outputs": [
    {
     "data": {
      "text/plain": [
       "75.70841889117042"
      ]
     },
     "execution_count": 29,
     "metadata": {
      "tags": []
     },
     "output_type": "execute_result"
    }
   ],
   "source": [
    "# comparing actual response values (y_train) with predicted response values (y_pred_train) \n",
    " \n",
    "metrics.accuracy_score(y_train, y_pred_train)*100"
   ]
  },
  {
   "cell_type": "code",
   "execution_count": 30,
   "metadata": {
    "colab": {
     "base_uri": "https://localhost:8080/"
    },
    "id": "1nLNIQHjKM82",
    "outputId": "dfecad41-ba6e-4d41-9162-1130b548d94f"
   },
   "outputs": [
    {
     "data": {
      "text/plain": [
       "72.41379310344827"
      ]
     },
     "execution_count": 30,
     "metadata": {
      "tags": []
     },
     "output_type": "execute_result"
    }
   ],
   "source": [
    "# comparing actual response values (y_train) with predicted response values (y_pred_train) \n",
    "\n",
    "metrics.accuracy_score(y_test, y_pred_cat)*100"
   ]
  },
  {
   "cell_type": "markdown",
   "metadata": {},
   "source": [
    "### 4.3 classification report"
   ]
  },
  {
   "cell_type": "code",
   "execution_count": 31,
   "metadata": {
    "colab": {
     "base_uri": "https://localhost:8080/"
    },
    "id": "pmz8bv3_KPJh",
    "outputId": "2759311e-fa5e-4a57-a41e-fda08ea6d2c9"
   },
   "outputs": [
    {
     "name": "stdout",
     "output_type": "stream",
     "text": [
      "                         precision    recall  f1-score   support\n",
      "\n",
      "anecdotes/miscellaneous       0.90      0.43      0.58       164\n",
      "                   food       0.68      0.90      0.77       432\n",
      "               ambience       0.71      0.75      0.73       324\n",
      "                  price       0.87      0.54      0.67       112\n",
      "                service       0.78      0.65      0.71       186\n",
      "\n",
      "               accuracy                           0.72      1218\n",
      "              macro avg       0.79      0.65      0.69      1218\n",
      "           weighted avg       0.75      0.72      0.72      1218\n",
      "\n"
     ]
    }
   ],
   "source": [
    "from sklearn.metrics import classification_report\n",
    "print(classification_report(y_test, y_pred_cat ,target_names= catagories))"
   ]
  },
  {
   "cell_type": "markdown",
   "metadata": {
    "id": "UPpr5PjlDcSq"
   },
   "source": [
    "### Observation : \n",
    "This is the classification report of aspect category based sentiment model showing the orecision, recall, f1_score and support values for all 5 unique catagories with accuracy 72 percent "
   ]
  },
  {
   "cell_type": "markdown",
   "metadata": {},
   "source": [
    "### 4.4 Confusion matrix"
   ]
  },
  {
   "cell_type": "code",
   "execution_count": 33,
   "metadata": {
    "id": "JvGxH311KTUO"
   },
   "outputs": [],
   "source": [
    "# code borrowed from Microsoft Malware Detection Assignment\n",
    "def plot_confusion_matrix(test_y, predict_y ,labels):\n",
    "    C = confusion_matrix(test_y, predict_y)      # calculation of confusion matrix \n",
    "    print(\"Number of misclassified points \",(len(test_y)-np.trace(C))/len(test_y))    # number of misclassified points while predicting y\n",
    " \n",
    "    A =(((C.T)/(C.sum(axis=1))).T)\n",
    "    B =(C/C.sum(axis=0))\n",
    "\n",
    "    labels = labels                 \n",
    "    cmap=sns.light_palette(\"purple\")\n",
    "    # representing A in heatmap format\n",
    "    print(\"-\"*50, \"Confusion matrix\", \"-\"*50)\n",
    "    plt.figure(figsize=(10,5))\n",
    "    sns.heatmap(C, annot=True, cmap=cmap, fmt=\".3f\", xticklabels=labels, yticklabels=labels)\n",
    "    plt.xlabel('Predicted Class')\n",
    "    plt.ylabel('Original Class')\n",
    "    plt.show()\n",
    "    \n",
    "    print(\"-\"*50, \"Precision matrix\", \"-\"*50)\n",
    "    plt.figure(figsize=(10,5))\n",
    "    sns.heatmap(B, annot=True, cmap=cmap, fmt=\".3f\", xticklabels=labels, yticklabels=labels)\n",
    "    plt.xlabel('Predicted Class')\n",
    "    plt.ylabel('Original Class')\n",
    "    plt.show()\n",
    "    print(\"Sum of columns in precision matrix\",B.sum(axis=0))\n",
    "\n",
    "    # representing B in heatmap format\n",
    "    print(\"-\"*50, \"Recall matrix\" , \"-\"*50)\n",
    "    plt.figure(figsize=(10,5))\n",
    "    sns.heatmap(A, annot=True, cmap=cmap, fmt=\".3f\", xticklabels=labels, yticklabels=labels)\n",
    "    plt.xlabel('Predicted Class')\n",
    "    plt.ylabel('Original Class')\n",
    "    plt.show()\n",
    "    print(\"Sum of rows in recall matrix\",A.sum(axis=1))"
   ]
  },
  {
   "cell_type": "code",
   "execution_count": 34,
   "metadata": {
    "colab": {
     "base_uri": "https://localhost:8080/",
     "height": 1000
    },
    "id": "DE3oQEMJLCp3",
    "outputId": "7e261871-56ec-4d81-f4df-e9482975f0a8"
   },
   "outputs": [
    {
     "name": "stdout",
     "output_type": "stream",
     "text": [
      "Number of misclassified points  0.27586206896551724\n",
      "-------------------------------------------------- Confusion matrix --------------------------------------------------\n"
     ]
    },
    {
     "data": {
      "image/png": "[encoded data removed]",
      "text/plain": [
       "<Figure size 720x360 with 2 Axes>"
      ]
     },
     "metadata": {
      "needs_background": "light",
      "tags": []
     },
     "output_type": "display_data"
    },
    {
     "name": "stdout",
     "output_type": "stream",
     "text": [
      "-------------------------------------------------- Precision matrix --------------------------------------------------\n"
     ]
    },
    {
     "data": {
      "image/png": "[encoded data removed]",
      "text/plain": [
       "<Figure size 720x360 with 2 Axes>"
      ]
     },
     "metadata": {
      "needs_background": "light",
      "tags": []
     },
     "output_type": "display_data"
    },
    {
     "name": "stdout",
     "output_type": "stream",
     "text": [
      "Sum of columns in precision matrix [1. 1. 1. 1. 1.]\n",
      "-------------------------------------------------- Recall matrix --------------------------------------------------\n"
     ]
    },
    {
     "data": {
      "image/png": "[encoded data removed]",
      "text/plain": [
       "<Figure size 720x360 with 2 Axes>"
      ]
     },
     "metadata": {
      "needs_background": "light",
      "tags": []
     },
     "output_type": "display_data"
    },
    {
     "name": "stdout",
     "output_type": "stream",
     "text": [
      "Sum of rows in recall matrix [1. 1. 1. 1. 1.]\n"
     ]
    }
   ],
   "source": [
    "plot_confusion_matrix(y_test,  y_pred_cat, catagories)"
   ]
  },
  {
   "cell_type": "markdown",
   "metadata": {
    "id": "kt60lyJ5LEUi"
   },
   "source": [
    "## 5. Polarity Based Sentiment Model"
   ]
  },
  {
   "cell_type": "code",
   "execution_count": 36,
   "metadata": {
    "id": "CncM4_zwLHt4"
   },
   "outputs": [],
   "source": [
    "X = augmented_data_restaurant['text']\n",
    "Y = augmented_data_restaurant['polarity']"
   ]
  },
  {
   "cell_type": "code",
   "execution_count": 37,
   "metadata": {
    "id": "9EfPRL70LJvP"
   },
   "outputs": [],
   "source": [
    "from sklearn.model_selection import train_test_split\n",
    "\n",
    "X_train, X_test, y_train, y_test = train_test_split(X, Y, test_size=0.2, random_state=1)"
   ]
  },
  {
   "cell_type": "code",
   "execution_count": 38,
   "metadata": {
    "colab": {
     "base_uri": "https://localhost:8080/"
    },
    "id": "TMxXxIp3LUDs",
    "outputId": "6c4696a9-81dc-48ab-cf19-849a07b7173c"
   },
   "outputs": [
    {
     "name": "stdout",
     "output_type": "stream",
     "text": [
      "(4870,) (4870,)\n",
      "(1218,) (1218,)\n"
     ]
    }
   ],
   "source": [
    "print(X_train.shape, y_train.shape)\n",
    "print(X_test.shape, y_test.shape)"
   ]
  },
  {
   "cell_type": "markdown",
   "metadata": {},
   "source": [
    "### 5.1 xgboost model"
   ]
  },
  {
   "cell_type": "code",
   "execution_count": 39,
   "metadata": {
    "colab": {
     "base_uri": "https://localhost:8080/"
    },
    "id": "-GWiXb2KLV_V",
    "outputId": "60fe6095-9492-46f6-a32f-8a7a71f6adcc"
   },
   "outputs": [
    {
     "data": {
      "text/plain": [
       "XGBClassifier(base_score=0.5, booster='gbtree', colsample_bylevel=1,\n",
       "              colsample_bynode=1, colsample_bytree=1, gamma=0,\n",
       "              learning_rate=0.1, max_delta_step=0, max_depth=3,\n",
       "              min_child_weight=1, missing=None, n_estimators=100, n_jobs=1,\n",
       "              nthread=None, objective='multi:softprob', random_state=0,\n",
       "              reg_alpha=0, reg_lambda=1, scale_pos_weight=1, seed=None,\n",
       "              silent=None, subsample=1, verbosity=1)"
      ]
     },
     "execution_count": 39,
     "metadata": {
      "tags": []
     },
     "output_type": "execute_result"
    }
   ],
   "source": [
    "reg = xgb.XGBClassifier() \n",
    "reg.fit(preprocessed_train_review, y_train) "
   ]
  },
  {
   "cell_type": "code",
   "execution_count": 40,
   "metadata": {
    "id": "dc6kys5jLYm1"
   },
   "outputs": [],
   "source": [
    "# making predictions on the training set \n",
    "y_pred_train = reg.predict(preprocessed_train_review)"
   ]
  },
  {
   "cell_type": "code",
   "execution_count": 41,
   "metadata": {
    "id": "sSmbVfG0LbCY"
   },
   "outputs": [],
   "source": [
    "# making predictions on the testing set \n",
    "y_pred_polarity = reg.predict(preprocessed_test_review)"
   ]
  },
  {
   "cell_type": "code",
   "execution_count": 42,
   "metadata": {
    "colab": {
     "base_uri": "https://localhost:8080/"
    },
    "id": "4RhnabyiLc2d",
    "outputId": "bf1da8ba-2e1e-4abe-8d57-59f7356bc964"
   },
   "outputs": [
    {
     "data": {
      "text/plain": [
       "69.73305954825462"
      ]
     },
     "execution_count": 42,
     "metadata": {
      "tags": []
     },
     "output_type": "execute_result"
    }
   ],
   "source": [
    "# comparing actual response values (y_train) with predicted response values (y_pred_train) \n",
    " \n",
    "metrics.accuracy_score(y_train, y_pred_train)*100"
   ]
  },
  {
   "cell_type": "code",
   "execution_count": 43,
   "metadata": {
    "colab": {
     "base_uri": "https://localhost:8080/"
    },
    "id": "scXnJGnhLfUG",
    "outputId": "887cedf5-1e03-4702-a4e1-ef90e6896120"
   },
   "outputs": [
    {
     "data": {
      "text/plain": [
       "65.1888341543514"
      ]
     },
     "execution_count": 43,
     "metadata": {
      "tags": []
     },
     "output_type": "execute_result"
    }
   ],
   "source": [
    "metrics.accuracy_score(y_test, y_pred_polarity)*100"
   ]
  },
  {
   "cell_type": "markdown",
   "metadata": {},
   "source": [
    "### 5.2. classification report"
   ]
  },
  {
   "cell_type": "code",
   "execution_count": 45,
   "metadata": {
    "colab": {
     "base_uri": "https://localhost:8080/"
    },
    "id": "HYhJupWi36kT",
    "outputId": "9b053662-8eb4-498e-9225-2825df173c64"
   },
   "outputs": [
    {
     "name": "stdout",
     "output_type": "stream",
     "text": [
      "              precision    recall  f1-score   support\n",
      "\n",
      "    negative       0.79      0.26      0.39        74\n",
      "    positive       0.64      0.34      0.44       281\n",
      "     neutral       0.87      0.12      0.21       171\n",
      "    conflict       0.65      0.95      0.77       692\n",
      "\n",
      "    accuracy                           0.65      1218\n",
      "   macro avg       0.74      0.42      0.45      1218\n",
      "weighted avg       0.68      0.65      0.59      1218\n",
      "\n"
     ]
    }
   ],
   "source": [
    "from sklearn.metrics import classification_report\n",
    "print(classification_report(y_test, y_pred_polarity ,target_names= polarity))"
   ]
  },
  {
   "cell_type": "markdown",
   "metadata": {},
   "source": [
    "### 5.3 Confusion matrix"
   ]
  },
  {
   "cell_type": "code",
   "execution_count": 46,
   "metadata": {
    "colab": {
     "base_uri": "https://localhost:8080/",
     "height": 1000
    },
    "id": "5_rc2Y3sLhRi",
    "outputId": "56a92c15-f513-46b2-c1af-9ec187a05ebe"
   },
   "outputs": [
    {
     "name": "stdout",
     "output_type": "stream",
     "text": [
      "Number of misclassified points  0.34811165845648606\n",
      "-------------------------------------------------- Confusion matrix --------------------------------------------------\n"
     ]
    },
    {
     "data": {
      "image/png": "[encoded data removed]",
      "text/plain": [
       "<Figure size 720x360 with 2 Axes>"
      ]
     },
     "metadata": {
      "needs_background": "light",
      "tags": []
     },
     "output_type": "display_data"
    },
    {
     "name": "stdout",
     "output_type": "stream",
     "text": [
      "-------------------------------------------------- Precision matrix --------------------------------------------------\n"
     ]
    },
    {
     "data": {
      "image/png": "[encoded data removed]",
      "text/plain": [
       "<Figure size 720x360 with 2 Axes>"
      ]
     },
     "metadata": {
      "needs_background": "light",
      "tags": []
     },
     "output_type": "display_data"
    },
    {
     "name": "stdout",
     "output_type": "stream",
     "text": [
      "Sum of columns in precision matrix [1. 1. 1. 1.]\n",
      "-------------------------------------------------- Recall matrix --------------------------------------------------\n"
     ]
    },
    {
     "data": {
      "image/png": "[encoded data removed]",
      "text/plain": [
       "<Figure size 720x360 with 2 Axes>"
      ]
     },
     "metadata": {
      "needs_background": "light",
      "tags": []
     },
     "output_type": "display_data"
    },
    {
     "name": "stdout",
     "output_type": "stream",
     "text": [
      "Sum of rows in recall matrix [1. 1. 1. 1.]\n"
     ]
    }
   ],
   "source": [
    "plot_confusion_matrix(y_test,  y_pred_polarity, polarity)"
   ]
  },
  {
   "cell_type": "markdown",
   "metadata": {
    "id": "SIp0yfqjLlAd"
   },
   "source": [
    "## 6. creating a resultant dataframe"
   ]
  },
  {
   "cell_type": "code",
   "execution_count": 48,
   "metadata": {
    "id": "8PhUcXDwLtQ7"
   },
   "outputs": [],
   "source": [
    "def create_result_dataframe(pred_1,pred_2):\n",
    "  # Calling DataFrame constructor on predicted outputs\n",
    "  resultant_df = pd.DataFrame(list(zip(pred_1,pred_2)), columns = [\"predicted_catagories\" , \"predicted_polarity\"])\n",
    "  result  = pd.crosstab(resultant_df.predicted_catagories,resultant_df.predicted_polarity ,margins = True , margins_name = \"Total\")\n",
    "  result[\"Ranking\"] = ( result.Total/resultant_df.shape[0]) * 5.0 \n",
    "  result[\"Negative in %\"] = (result.negative/result.Total) * 100\n",
    "  result[\"Neutral in %\"] = (result.neutral/result.Total) * 100\n",
    "  result[\"Positive in %\"] = (result.positive/result.Total) * 100\n",
    "  result[\"conflict in %\"] = (result.conflict/result.Total) * 100\n",
    "  del result[\"negative\"]\n",
    "  del result[\"neutral\"]\n",
    "  del result[\"positive\"]\n",
    "  del result[\"Total\"]\n",
    "  del result[\"conflict\"]\n",
    "\n",
    "  return result"
   ]
  },
  {
   "cell_type": "code",
   "execution_count": 49,
   "metadata": {
    "id": "Eob122y_Lvdd"
   },
   "outputs": [],
   "source": [
    "result = create_result_dataframe(y_pred_cat,y_pred_polarity)"
   ]
  },
  {
   "cell_type": "code",
   "execution_count": 50,
   "metadata": {
    "colab": {
     "base_uri": "https://localhost:8080/",
     "height": 254
    },
    "id": "LuWtj6J5LyUB",
    "outputId": "d8f577de-8327-41fa-cf79-282085875b82"
   },
   "outputs": [
    {
     "data": {
      "text/html": [
       "<div>\n",
       "<style scoped>\n",
       "    .dataframe tbody tr th:only-of-type {\n",
       "        vertical-align: middle;\n",
       "    }\n",
       "\n",
       "    .dataframe tbody tr th {\n",
       "        vertical-align: top;\n",
       "    }\n",
       "\n",
       "    .dataframe thead th {\n",
       "        text-align: right;\n",
       "    }\n",
       "</style>\n",
       "<table border=\"1\" class=\"dataframe\">\n",
       "  <thead>\n",
       "    <tr style=\"text-align: right;\">\n",
       "      <th>predicted_polarity</th>\n",
       "      <th>Ranking</th>\n",
       "      <th>Negative in %</th>\n",
       "      <th>Neutral in %</th>\n",
       "      <th>Positive in %</th>\n",
       "      <th>conflict in %</th>\n",
       "    </tr>\n",
       "    <tr>\n",
       "      <th>predicted_catagories</th>\n",
       "      <th></th>\n",
       "      <th></th>\n",
       "      <th></th>\n",
       "      <th></th>\n",
       "      <th></th>\n",
       "    </tr>\n",
       "  </thead>\n",
       "  <tbody>\n",
       "    <tr>\n",
       "      <th>ambience</th>\n",
       "      <td>0.320197</td>\n",
       "      <td>5.128205</td>\n",
       "      <td>1.282051</td>\n",
       "      <td>87.179487</td>\n",
       "      <td>6.410256</td>\n",
       "    </tr>\n",
       "    <tr>\n",
       "      <th>anecdotes/miscellaneous</th>\n",
       "      <td>2.352217</td>\n",
       "      <td>11.518325</td>\n",
       "      <td>3.141361</td>\n",
       "      <td>84.118674</td>\n",
       "      <td>1.221640</td>\n",
       "    </tr>\n",
       "    <tr>\n",
       "      <th>food</th>\n",
       "      <td>1.412151</td>\n",
       "      <td>11.627907</td>\n",
       "      <td>0.290698</td>\n",
       "      <td>85.465116</td>\n",
       "      <td>2.616279</td>\n",
       "    </tr>\n",
       "    <tr>\n",
       "      <th>price</th>\n",
       "      <td>0.287356</td>\n",
       "      <td>14.285714</td>\n",
       "      <td>0.000000</td>\n",
       "      <td>84.285714</td>\n",
       "      <td>1.428571</td>\n",
       "    </tr>\n",
       "    <tr>\n",
       "      <th>service</th>\n",
       "      <td>0.628079</td>\n",
       "      <td>18.300654</td>\n",
       "      <td>1.960784</td>\n",
       "      <td>78.431373</td>\n",
       "      <td>1.307190</td>\n",
       "    </tr>\n",
       "    <tr>\n",
       "      <th>Total</th>\n",
       "      <td>5.000000</td>\n",
       "      <td>12.151067</td>\n",
       "      <td>1.888342</td>\n",
       "      <td>83.990148</td>\n",
       "      <td>1.970443</td>\n",
       "    </tr>\n",
       "  </tbody>\n",
       "</table>\n",
       "</div>"
      ],
      "text/plain": [
       "predicted_polarity        Ranking  Negative in %  ...  Positive in %  conflict in %\n",
       "predicted_catagories                              ...                              \n",
       "ambience                 0.320197       5.128205  ...      87.179487       6.410256\n",
       "anecdotes/miscellaneous  2.352217      11.518325  ...      84.118674       1.221640\n",
       "food                     1.412151      11.627907  ...      85.465116       2.616279\n",
       "price                    0.287356      14.285714  ...      84.285714       1.428571\n",
       "service                  0.628079      18.300654  ...      78.431373       1.307190\n",
       "Total                    5.000000      12.151067  ...      83.990148       1.970443\n",
       "\n",
       "[6 rows x 5 columns]"
      ]
     },
     "execution_count": 50,
     "metadata": {
      "tags": []
     },
     "output_type": "execute_result"
    }
   ],
   "source": [
    "result"
   ]
  },
  {
   "cell_type": "markdown",
   "metadata": {
    "id": "LHagUR1QL1oS"
   },
   "source": [
    "### Observation :\n",
    "   Above result shows that the Ranking and all Polarities in percentages for all aspect catagories from which we can see that anecdotes/miscellaneous have the highest ranking of 2.35 . and ambience catagory have highest positive polarity"
   ]
  },
  {
   "cell_type": "code",
   "execution_count": null,
   "metadata": {},
   "outputs": [],
   "source": []
  }
 ],
 "metadata": {
  "colab": {
   "collapsed_sections": [],
   "name": "5_RTT_xgboost.ipynb",
   "provenance": []
  },
  "kernelspec": {
   "display_name": "Python 3",
   "language": "python",
   "name": "python3"
  },
  "language_info": {
   "codemirror_mode": {
    "name": "ipython",
    "version": 3
   },
   "file_extension": ".py",
   "mimetype": "text/x-python",
   "name": "python",
   "nbconvert_exporter": "python",
   "pygments_lexer": "ipython3",
   "version": "3.7.3"
  }
 },
 "nbformat": 4,
 "nbformat_minor": 1
}
