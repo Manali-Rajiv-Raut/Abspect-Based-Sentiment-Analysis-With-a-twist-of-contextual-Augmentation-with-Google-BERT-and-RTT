{
 "cells": [
  {
   "cell_type": "markdown",
   "metadata": {
    "id": "wHpuRQBeM1D0"
   },
   "source": [
    "# xgBoost : Baseline model on Resturant data"
   ]
  },
  {
   "cell_type": "code",
   "execution_count": 2,
   "metadata": {
    "colab": {
     "base_uri": "https://localhost:8080/"
    },
    "id": "8UK85fwh58aj",
    "outputId": "73cbecf9-e814-4fa7-fe37-8b16736913a8"
   },
   "outputs": [
    {
     "name": "stdout",
     "output_type": "stream",
     "text": [
      "Requirement already satisfied: import-ipynb in /usr/local/lib/python3.6/dist-packages (0.1.3)\n"
     ]
    }
   ],
   "source": [
    "# COLAB\n",
    "from google.colab import files\n",
    "from google.colab import drive\n",
    "# SYS\n",
    "import sys\n",
    "# IPYNB\n",
    "!pip install import-ipynb\n",
    "import import_ipynb\n",
    "# UTIL\n",
    "import importlib.util"
   ]
  },
  {
   "cell_type": "code",
   "execution_count": 3,
   "metadata": {
    "id": "aZsTSvJEgGxh"
   },
   "outputs": [],
   "source": [
    "import pandas as pd\n",
    "import re\n",
    "import numpy as np\n",
    "from sklearn import linear_model, metrics  \n",
    "import xgboost as xgb \n",
    "import seaborn as sns\n",
    "from sklearn.metrics import accuracy_score, f1_score, confusion_matrix\n",
    "import matplotlib.pyplot as plt"
   ]
  },
  {
   "cell_type": "code",
   "execution_count": 4,
   "metadata": {
    "colab": {
     "base_uri": "https://localhost:8080/"
    },
    "id": "-McPok-C4_NX",
    "outputId": "61d81fee-aa55-4a04-e05e-4de6036deafb"
   },
   "outputs": [
    {
     "name": "stdout",
     "output_type": "stream",
     "text": [
      "Drive already mounted at /content/gdrive; to attempt to forcibly remount, call drive.mount(\"/content/gdrive\", force_remount=True).\n"
     ]
    }
   ],
   "source": [
    "from google.colab import drive\n",
    "drive.mount('/content/gdrive')"
   ]
  },
  {
   "cell_type": "markdown",
   "metadata": {
    "id": "ZkXU6lDQf-cw"
   },
   "source": [
    "### Loading preprocessing class"
   ]
  },
  {
   "cell_type": "code",
   "execution_count": 1,
   "metadata": {
    "colab": {
     "base_uri": "https://localhost:8080/"
    },
    "id": "uwKjDfdq6KxG",
    "outputId": "56834fda-b1cf-470a-825b-722e3c36f3ec"
   },
   "outputs": [
    {
     "ename": "NameError",
     "evalue": "name 'sys' is not defined",
     "output_type": "error",
     "traceback": [
      "\u001b[1;31m---------------------------------------------------------------------------\u001b[0m",
      "\u001b[1;31mNameError\u001b[0m                                 Traceback (most recent call last)",
      "\u001b[1;32m<ipython-input-1-b8374a078afd>\u001b[0m in \u001b[0;36m<module>\u001b[1;34m\u001b[0m\n\u001b[0;32m      1\u001b[0m \u001b[1;31m#https://stackoverflow.com/questions/62117483/import-module-in-google-colab-from-google-drive-python\u001b[0m\u001b[1;33m\u001b[0m\u001b[1;33m\u001b[0m\u001b[1;33m\u001b[0m\u001b[0m\n\u001b[1;32m----> 2\u001b[1;33m \u001b[0msys\u001b[0m\u001b[1;33m.\u001b[0m\u001b[0mpath\u001b[0m\u001b[1;33m.\u001b[0m\u001b[0mappend\u001b[0m\u001b[1;33m(\u001b[0m\u001b[1;34m'/content/gdrive/MyDrive/CS--2/'\u001b[0m\u001b[1;33m)\u001b[0m\u001b[1;33m\u001b[0m\u001b[1;33m\u001b[0m\u001b[0m\n\u001b[0m\u001b[0;32m      3\u001b[0m \u001b[1;31m#import module_1_xml_to_df\u001b[0m\u001b[1;33m\u001b[0m\u001b[1;33m\u001b[0m\u001b[1;33m\u001b[0m\u001b[0m\n\u001b[0;32m      4\u001b[0m \u001b[1;31m#from module_1_xml_to_df import convert_xml_to_DataFrame\u001b[0m\u001b[1;33m\u001b[0m\u001b[1;33m\u001b[0m\u001b[1;33m\u001b[0m\u001b[0m\n\u001b[0;32m      5\u001b[0m \u001b[1;32mfrom\u001b[0m \u001b[0mmodule_2_preprocessing\u001b[0m \u001b[1;32mimport\u001b[0m \u001b[0mData_Preprocessing\u001b[0m\u001b[1;33m\u001b[0m\u001b[1;33m\u001b[0m\u001b[0m\n",
      "\u001b[1;31mNameError\u001b[0m: name 'sys' is not defined"
     ]
    }
   ],
   "source": [
    "#https://stackoverflow.com/questions/62117483/import-module-in-google-colab-from-google-drive-python\n",
    "sys.path.append('/content/gdrive/MyDrive/CS--2/')\n",
    "#import module_1_xml_to_df\n",
    "#from module_1_xml_to_df import convert_xml_to_DataFrame\n",
    "from module_2_preprocessing import Data_Preprocessing"
   ]
  },
  {
   "cell_type": "markdown",
   "metadata": {},
   "source": [
    "## 1.Loading the data"
   ]
  },
  {
   "cell_type": "code",
   "execution_count": 7,
   "metadata": {
    "id": "ZfcQV5x7NUPb"
   },
   "outputs": [],
   "source": [
    "restaurant_data= pd.read_csv(\"/content/gdrive/MyDrive/CS--2/restaurant_train_data_semeval_14.csv\")"
   ]
  },
  {
   "cell_type": "code",
   "execution_count": 8,
   "metadata": {
    "colab": {
     "base_uri": "https://localhost:8080/"
    },
    "id": "4OuAu_uiaP8r",
    "outputId": "c0b1fd48-f8ce-4395-fb69-31eb2a367a20"
   },
   "outputs": [
    {
     "data": {
      "text/plain": [
       "(3044, 5)"
      ]
     },
     "execution_count": 8,
     "metadata": {
      "tags": []
     },
     "output_type": "execute_result"
    }
   ],
   "source": [
    "restaurant_data.shape"
   ]
  },
  {
   "cell_type": "code",
   "execution_count": 9,
   "metadata": {
    "colab": {
     "base_uri": "https://localhost:8080/",
     "height": 195
    },
    "id": "w5ImDtkwNXFT",
    "outputId": "1749e330-f997-4c9c-b5c4-5a34abb63a68"
   },
   "outputs": [
    {
     "data": {
      "text/html": [
       "<div>\n",
       "<style scoped>\n",
       "    .dataframe tbody tr th:only-of-type {\n",
       "        vertical-align: middle;\n",
       "    }\n",
       "\n",
       "    .dataframe tbody tr th {\n",
       "        vertical-align: top;\n",
       "    }\n",
       "\n",
       "    .dataframe thead th {\n",
       "        text-align: right;\n",
       "    }\n",
       "</style>\n",
       "<table border=\"1\" class=\"dataframe\">\n",
       "  <thead>\n",
       "    <tr style=\"text-align: right;\">\n",
       "      <th></th>\n",
       "      <th>id</th>\n",
       "      <th>text</th>\n",
       "      <th>aspect_term</th>\n",
       "      <th>aspect_category</th>\n",
       "      <th>polarity</th>\n",
       "    </tr>\n",
       "  </thead>\n",
       "  <tbody>\n",
       "    <tr>\n",
       "      <th>0</th>\n",
       "      <td>3121</td>\n",
       "      <td>but the staff was so horrible to us.</td>\n",
       "      <td>staff</td>\n",
       "      <td>service</td>\n",
       "      <td>negative</td>\n",
       "    </tr>\n",
       "    <tr>\n",
       "      <th>1</th>\n",
       "      <td>2777</td>\n",
       "      <td>to be completely fair, the only redeeming fact...</td>\n",
       "      <td>food</td>\n",
       "      <td>anecdotes/miscellaneous</td>\n",
       "      <td>negative</td>\n",
       "    </tr>\n",
       "    <tr>\n",
       "      <th>2</th>\n",
       "      <td>1634</td>\n",
       "      <td>the food is uniformly exceptional, with a very...</td>\n",
       "      <td>menu</td>\n",
       "      <td>food</td>\n",
       "      <td>positive</td>\n",
       "    </tr>\n",
       "    <tr>\n",
       "      <th>3</th>\n",
       "      <td>2534</td>\n",
       "      <td>where gabriela personaly greets you and recomm...</td>\n",
       "      <td>NaN</td>\n",
       "      <td>service</td>\n",
       "      <td>positive</td>\n",
       "    </tr>\n",
       "    <tr>\n",
       "      <th>4</th>\n",
       "      <td>583</td>\n",
       "      <td>for those that go once and don't enjoy it, all...</td>\n",
       "      <td>NaN</td>\n",
       "      <td>anecdotes/miscellaneous</td>\n",
       "      <td>positive</td>\n",
       "    </tr>\n",
       "  </tbody>\n",
       "</table>\n",
       "</div>"
      ],
      "text/plain": [
       "     id  ...  polarity\n",
       "0  3121  ...  negative\n",
       "1  2777  ...  negative\n",
       "2  1634  ...  positive\n",
       "3  2534  ...  positive\n",
       "4   583  ...  positive\n",
       "\n",
       "[5 rows x 5 columns]"
      ]
     },
     "execution_count": 9,
     "metadata": {
      "tags": []
     },
     "output_type": "execute_result"
    }
   ],
   "source": [
    "restaurant_data.head()"
   ]
  },
  {
   "cell_type": "code",
   "execution_count": 10,
   "metadata": {
    "colab": {
     "base_uri": "https://localhost:8080/"
    },
    "id": "RVmy2m7LNZ7J",
    "outputId": "51c74799-d5f2-4192-a6fa-d4463b84aaa6"
   },
   "outputs": [
    {
     "data": {
      "text/plain": [
       "aspect_category\n",
       "anecdotes/miscellaneous    1040\n",
       "food                        870\n",
       "service                     466\n",
       "ambience                    387\n",
       "price                       281\n",
       "dtype: int64"
      ]
     },
     "execution_count": 10,
     "metadata": {
      "tags": []
     },
     "output_type": "execute_result"
    }
   ],
   "source": [
    "restaurant_data.groupby('aspect_category').size().sort_values(ascending=False)"
   ]
  },
  {
   "cell_type": "code",
   "execution_count": 11,
   "metadata": {
    "colab": {
     "base_uri": "https://localhost:8080/"
    },
    "id": "JHalF4x-TFVj",
    "outputId": "7d0b2a13-87b2-4a73-bbff-afd72bc39280"
   },
   "outputs": [
    {
     "data": {
      "text/plain": [
       "(array(['service', 'anecdotes/miscellaneous', 'food', 'price', 'ambience'],\n",
       "       dtype=object), 5)"
      ]
     },
     "execution_count": 11,
     "metadata": {
      "tags": []
     },
     "output_type": "execute_result"
    }
   ],
   "source": [
    "catagories = restaurant_data['aspect_category'].unique()\n",
    "catagories , len(catagories)"
   ]
  },
  {
   "cell_type": "code",
   "execution_count": 12,
   "metadata": {
    "colab": {
     "base_uri": "https://localhost:8080/"
    },
    "id": "U8VvOOk8luR2",
    "outputId": "41b357f1-7691-46d8-e1b7-c0ec6b4be8e6"
   },
   "outputs": [
    {
     "data": {
      "text/plain": [
       "array(['negative', 'positive', 'neutral', 'conflict'], dtype=object)"
      ]
     },
     "execution_count": 12,
     "metadata": {
      "tags": []
     },
     "output_type": "execute_result"
    }
   ],
   "source": [
    "polarity = restaurant_data['polarity'].unique()\n",
    "polarity"
   ]
  },
  {
   "cell_type": "markdown",
   "metadata": {
    "id": "a9JBhG0lDHEh"
   },
   "source": [
    "## 2. Aspect Based Sentiment Analysis"
   ]
  },
  {
   "cell_type": "code",
   "execution_count": 14,
   "metadata": {
    "id": "oS0DL2tuNeC4"
   },
   "outputs": [],
   "source": [
    "X = restaurant_data['text']\n",
    "Y = restaurant_data['aspect_category']"
   ]
  },
  {
   "cell_type": "markdown",
   "metadata": {
    "id": "ekOjIb2dgVJD"
   },
   "source": [
    "### 2.1 Splitting the data "
   ]
  },
  {
   "cell_type": "code",
   "execution_count": 16,
   "metadata": {
    "id": "Oui0J_EfNpG6"
   },
   "outputs": [],
   "source": [
    "from sklearn.model_selection import train_test_split\n",
    "\n",
    "X_train, X_test, y_train, y_test = train_test_split(X, Y, test_size=0.2, random_state=1)"
   ]
  },
  {
   "cell_type": "code",
   "execution_count": 17,
   "metadata": {
    "colab": {
     "base_uri": "https://localhost:8080/"
    },
    "id": "x6Xk5EFhNuAb",
    "outputId": "8cc2631f-3b44-4da7-86ad-b40cbc7bac4b"
   },
   "outputs": [
    {
     "name": "stdout",
     "output_type": "stream",
     "text": [
      "(2435,) (2435,)\n",
      "(609,) (609,)\n"
     ]
    }
   ],
   "source": [
    "print(X_train.shape, y_train.shape)\n",
    "print(X_test.shape, y_test.shape)"
   ]
  },
  {
   "cell_type": "code",
   "execution_count": 18,
   "metadata": {
    "id": "JdZveraX_sa-"
   },
   "outputs": [],
   "source": [
    "dp = Data_Preprocessing()"
   ]
  },
  {
   "cell_type": "code",
   "execution_count": 19,
   "metadata": {
    "colab": {
     "base_uri": "https://localhost:8080/"
    },
    "id": "434-SszA_8jH",
    "outputId": "c960be81-911d-4810-b323-b1975d3e764d"
   },
   "outputs": [
    {
     "name": "stderr",
     "output_type": "stream",
     "text": [
      "100%|██████████| 2435/2435 [00:02<00:00, 893.95it/s]\n"
     ]
    }
   ],
   "source": [
    "X_train_review = dp.preprocess_text(X_train)"
   ]
  },
  {
   "cell_type": "code",
   "execution_count": 20,
   "metadata": {
    "colab": {
     "base_uri": "https://localhost:8080/"
    },
    "id": "qCwRxtoIAHgd",
    "outputId": "a1b2c295-1285-4099-b578-e3db94c013c8"
   },
   "outputs": [
    {
     "name": "stderr",
     "output_type": "stream",
     "text": [
      "100%|██████████| 609/609 [00:00<00:00, 2739.45it/s]\n"
     ]
    }
   ],
   "source": [
    "X_test_review = dp.preprocess_text(X_test)"
   ]
  },
  {
   "cell_type": "markdown",
   "metadata": {
    "id": "LggTC_JQfbnt"
   },
   "source": [
    "### 2.2 xgBoost model"
   ]
  },
  {
   "cell_type": "code",
   "execution_count": 21,
   "metadata": {
    "colab": {
     "base_uri": "https://localhost:8080/"
    },
    "id": "ff5_WFvaffdG",
    "outputId": "a979c889-d587-4cf1-89cf-a990d1cf87eb"
   },
   "outputs": [
    {
     "data": {
      "text/plain": [
       "CountVectorizer(analyzer='word', binary=False, decode_error='strict',\n",
       "                dtype=<class 'numpy.int64'>, encoding='utf-8', input='content',\n",
       "                lowercase=True, max_df=1.0, max_features=50000, min_df=3,\n",
       "                ngram_range=(1, 1), preprocessor=None, stop_words=None,\n",
       "                strip_accents=None, token_pattern='(?u)\\\\b\\\\w\\\\w+\\\\b',\n",
       "                tokenizer=None, vocabulary=None)"
      ]
     },
     "execution_count": 21,
     "metadata": {
      "tags": []
     },
     "output_type": "execute_result"
    }
   ],
   "source": [
    "from sklearn.feature_extraction.text import CountVectorizer    \n",
    "vectorizer_sit = CountVectorizer(min_df=3,max_features=50000)  \n",
    "vectorizer_sit.fit(X_train_review)"
   ]
  },
  {
   "cell_type": "code",
   "execution_count": 22,
   "metadata": {
    "colab": {
     "base_uri": "https://localhost:8080/"
    },
    "id": "IVqqa_npfjy7",
    "outputId": "bb28fea9-6495-4108-ba0c-fee557b3167f"
   },
   "outputs": [
    {
     "name": "stdout",
     "output_type": "stream",
     "text": [
      "Shape of matrix data after one hot encoding for train:  (2435, 1183)\n"
     ]
    }
   ],
   "source": [
    "preprocessed_train_review = vectorizer_sit.transform(X_train_review).toarray()    # produces a sparse representation of preprocessed sentences\n",
    "print(\"Shape of matrix data after one hot encoding for train: \",preprocessed_train_review .shape)"
   ]
  },
  {
   "cell_type": "code",
   "execution_count": 23,
   "metadata": {
    "colab": {
     "base_uri": "https://localhost:8080/"
    },
    "id": "2euwjihcfpqT",
    "outputId": "b10ca038-cfb4-440d-b4e0-1c6da03700bc"
   },
   "outputs": [
    {
     "name": "stdout",
     "output_type": "stream",
     "text": [
      "Shape of matrix data after one hot encoding for train:  (609, 1183)\n"
     ]
    }
   ],
   "source": [
    "preprocessed_test_review = vectorizer_sit.transform(X_test_review).toarray()    \n",
    "print(\"Shape of matrix data after one hot encoding for train: \",preprocessed_test_review.shape)"
   ]
  },
  {
   "cell_type": "code",
   "execution_count": 24,
   "metadata": {
    "colab": {
     "base_uri": "https://localhost:8080/"
    },
    "id": "aUPy2u9Rf06q",
    "outputId": "5ebd60a3-205e-4568-f56d-d0d1b51aae8d"
   },
   "outputs": [
    {
     "data": {
      "text/plain": [
       "XGBClassifier(base_score=0.5, booster='gbtree', colsample_bylevel=1,\n",
       "              colsample_bynode=1, colsample_bytree=1, gamma=0,\n",
       "              learning_rate=0.1, max_delta_step=0, max_depth=3,\n",
       "              min_child_weight=1, missing=None, n_estimators=100, n_jobs=1,\n",
       "              nthread=None, objective='multi:softprob', random_state=0,\n",
       "              reg_alpha=0, reg_lambda=1, scale_pos_weight=1, seed=None,\n",
       "              silent=None, subsample=1, verbosity=1)"
      ]
     },
     "execution_count": 24,
     "metadata": {
      "tags": []
     },
     "output_type": "execute_result"
    }
   ],
   "source": [
    "reg = xgb.XGBClassifier() \n",
    "reg.fit(preprocessed_train_review, y_train) "
   ]
  },
  {
   "cell_type": "code",
   "execution_count": 25,
   "metadata": {
    "id": "2k3Vl1OAf632"
   },
   "outputs": [],
   "source": [
    "# making predictions on the training set \n",
    "y_pred_train = reg.predict(preprocessed_train_review)"
   ]
  },
  {
   "cell_type": "code",
   "execution_count": 26,
   "metadata": {
    "id": "NogvkOL0f-qL"
   },
   "outputs": [],
   "source": [
    "# making predictions on the testing set \n",
    "y_pred_cat = reg.predict(preprocessed_test_review)"
   ]
  },
  {
   "cell_type": "code",
   "execution_count": 27,
   "metadata": {
    "colab": {
     "base_uri": "https://localhost:8080/"
    },
    "id": "EtbIaiCMgA8Y",
    "outputId": "6fc8b7be-57be-4798-d3e3-bb60d00afe49"
   },
   "outputs": [
    {
     "data": {
      "text/plain": [
       "73.59342915811088"
      ]
     },
     "execution_count": 27,
     "metadata": {
      "tags": []
     },
     "output_type": "execute_result"
    }
   ],
   "source": [
    "# comparing actual response values (y_train) with predicted response values (y_pred_train) \n",
    "metrics.accuracy_score(y_train, y_pred_train)*100"
   ]
  },
  {
   "cell_type": "code",
   "execution_count": 28,
   "metadata": {
    "colab": {
     "base_uri": "https://localhost:8080/"
    },
    "id": "mi5y7kLUgLK_",
    "outputId": "8cacaa7e-05b5-4141-d1d8-357e0a9349cf"
   },
   "outputs": [
    {
     "data": {
      "text/plain": [
       "65.02463054187191"
      ]
     },
     "execution_count": 28,
     "metadata": {
      "tags": []
     },
     "output_type": "execute_result"
    }
   ],
   "source": [
    "# comparing actual response values (y_test) with predicted response values (y_pred_cat) \n",
    "metrics.accuracy_score(y_test, y_pred_cat)*100"
   ]
  },
  {
   "cell_type": "markdown",
   "metadata": {
    "id": "khZTV0aRgL9s"
   },
   "source": [
    "### 2.3. Classification Report"
   ]
  },
  {
   "cell_type": "code",
   "execution_count": 29,
   "metadata": {
    "colab": {
     "base_uri": "https://localhost:8080/"
    },
    "id": "eldCCz8bQuuw",
    "outputId": "5c1e13bb-b626-4400-abbc-f2f62f9b2e36"
   },
   "outputs": [
    {
     "name": "stdout",
     "output_type": "stream",
     "text": [
      "                         precision    recall  f1-score   support\n",
      "\n",
      "                service       0.80      0.32      0.46        75\n",
      "anecdotes/miscellaneous       0.61      0.86      0.71       204\n",
      "                   food       0.65      0.70      0.68       183\n",
      "                  price       0.63      0.35      0.45        63\n",
      "               ambience       0.78      0.55      0.64        84\n",
      "\n",
      "               accuracy                           0.65       609\n",
      "              macro avg       0.69      0.56      0.59       609\n",
      "           weighted avg       0.67      0.65      0.63       609\n",
      "\n"
     ]
    }
   ],
   "source": [
    "from sklearn.metrics import classification_report\n",
    "print(classification_report(y_test, y_pred_cat ,target_names=catagories))"
   ]
  },
  {
   "cell_type": "markdown",
   "metadata": {
    "id": "UPpr5PjlDcSq"
   },
   "source": [
    "### Observation : \n",
    "This is the classification report of aspect category based sentiment model of xgbbost showing the precision, recall, f1_score and support values for all 5 unique catagories with accuracy 60 percent "
   ]
  },
  {
   "cell_type": "markdown",
   "metadata": {
    "id": "DpVNCmkODeS9"
   },
   "source": [
    "### 2.4. Confusion matrix Representation"
   ]
  },
  {
   "cell_type": "code",
   "execution_count": 32,
   "metadata": {
    "id": "Y1KoSG3ADn_7"
   },
   "outputs": [],
   "source": [
    "# code borrowed from Microsoft Malware Detection Assignment\n",
    "def plot_confusion_matrix(test_y, predict_y ,labels):\n",
    "    C = confusion_matrix(test_y, predict_y)      # calculation of confusion matrix \n",
    "    print(\"Number of misclassified points \",(len(test_y)-np.trace(C))/len(test_y))    # number of misclassified points while predicting y\n",
    " \n",
    "    A =(((C.T)/(C.sum(axis=1))).T)\n",
    "    B =(C/C.sum(axis=0))\n",
    "\n",
    "    labels = labels                 \n",
    "    cmap=sns.light_palette(\"purple\")\n",
    "    # representing A in heatmap format\n",
    "    print(\"-\"*50, \"Confusion matrix\", \"-\"*50)\n",
    "    plt.figure(figsize=(10,5))\n",
    "    sns.heatmap(C, annot=True, cmap=cmap, fmt=\".3f\", xticklabels=labels, yticklabels=labels)\n",
    "    plt.xlabel('Predicted Class')\n",
    "    plt.ylabel('Original Class')\n",
    "    plt.show()\n",
    "    \n",
    "    print(\"-\"*50, \"Precision matrix\", \"-\"*50)\n",
    "    plt.figure(figsize=(10,5))\n",
    "    sns.heatmap(B, annot=True, cmap=cmap, fmt=\".3f\", xticklabels=labels, yticklabels=labels)\n",
    "    plt.xlabel('Predicted Class')\n",
    "    plt.ylabel('Original Class')\n",
    "    plt.show()\n",
    "    print(\"Sum of columns in precision matrix\",B.sum(axis=0))\n",
    "\n",
    "    # representing B in heatmap format\n",
    "    print(\"-\"*50, \"Recall matrix\" , \"-\"*50)\n",
    "    plt.figure(figsize=(10,5))\n",
    "    sns.heatmap(A, annot=True, cmap=cmap, fmt=\".3f\", xticklabels=labels, yticklabels=labels)\n",
    "    plt.xlabel('Predicted Class')\n",
    "    plt.ylabel('Original Class')\n",
    "    plt.show()\n",
    "    print(\"Sum of rows in precision matrix\",A.sum(axis=1))"
   ]
  },
  {
   "cell_type": "code",
   "execution_count": 33,
   "metadata": {
    "colab": {
     "base_uri": "https://localhost:8080/",
     "height": 1000
    },
    "id": "915opmyxDtAa",
    "outputId": "95052800-91f0-4a2c-e2af-c65377ccd1e8"
   },
   "outputs": [
    {
     "name": "stdout",
     "output_type": "stream",
     "text": [
      "Number of misclassified points  0.3497536945812808\n",
      "-------------------------------------------------- Confusion matrix --------------------------------------------------\n"
     ]
    },
    {
     "data": {
      "image/png": "[encoded data removed]",
      "text/plain": [
       "<Figure size 720x360 with 2 Axes>"
      ]
     },
     "metadata": {
      "needs_background": "light",
      "tags": []
     },
     "output_type": "display_data"
    },
    {
     "name": "stdout",
     "output_type": "stream",
     "text": [
      "-------------------------------------------------- Precision matrix --------------------------------------------------\n"
     ]
    },
    {
     "data": {
      "image/png": "[encoded data removed]",
      "text/plain": [
       "<Figure size 720x360 with 2 Axes>"
      ]
     },
     "metadata": {
      "needs_background": "light",
      "tags": []
     },
     "output_type": "display_data"
    },
    {
     "name": "stdout",
     "output_type": "stream",
     "text": [
      "Sum of columns in precision matrix [1. 1. 1. 1. 1.]\n",
      "-------------------------------------------------- Recall matrix --------------------------------------------------\n"
     ]
    },
    {
     "data": {
      "image/png": "[encoded data removed]",
      "text/plain": [
       "<Figure size 720x360 with 2 Axes>"
      ]
     },
     "metadata": {
      "needs_background": "light",
      "tags": []
     },
     "output_type": "display_data"
    },
    {
     "name": "stdout",
     "output_type": "stream",
     "text": [
      "Sum of rows in precision matrix [1. 1. 1. 1. 1.]\n"
     ]
    }
   ],
   "source": [
    "plot_confusion_matrix(y_test,  y_pred_cat, catagories)"
   ]
  },
  {
   "cell_type": "markdown",
   "metadata": {
    "id": "UlNuB3enQ6ac"
   },
   "source": [
    "## 3.Polarity Based sentiment model"
   ]
  },
  {
   "cell_type": "code",
   "execution_count": 35,
   "metadata": {
    "id": "O5uQc-3hCkuV"
   },
   "outputs": [],
   "source": [
    "X = restaurant_data['text']\n",
    "Y = restaurant_data['polarity']"
   ]
  },
  {
   "cell_type": "code",
   "execution_count": 36,
   "metadata": {
    "id": "qjNjEZcCCkkd"
   },
   "outputs": [],
   "source": [
    "from sklearn.model_selection import train_test_split\n",
    "\n",
    "X_train, X_test, y_train, y_test = train_test_split(X, Y, test_size=0.2, random_state=1)"
   ]
  },
  {
   "cell_type": "code",
   "execution_count": 37,
   "metadata": {
    "colab": {
     "base_uri": "https://localhost:8080/"
    },
    "id": "o6pTfFWKCv_d",
    "outputId": "bd77651c-60cd-487e-80c8-8b4190dc8f3c"
   },
   "outputs": [
    {
     "name": "stdout",
     "output_type": "stream",
     "text": [
      "(2435,) (2435,)\n",
      "(609,) (609,)\n"
     ]
    }
   ],
   "source": [
    "print(X_train.shape, y_train.shape)\n",
    "print(X_test.shape, y_test.shape)"
   ]
  },
  {
   "cell_type": "code",
   "execution_count": 38,
   "metadata": {
    "colab": {
     "base_uri": "https://localhost:8080/"
    },
    "id": "kpQED8r8kbFW",
    "outputId": "871c74d2-5810-422b-bad9-306269b2a6df"
   },
   "outputs": [
    {
     "data": {
      "text/plain": [
       "XGBClassifier(base_score=0.5, booster='gbtree', colsample_bylevel=1,\n",
       "              colsample_bynode=1, colsample_bytree=1, gamma=0,\n",
       "              learning_rate=0.1, max_delta_step=0, max_depth=3,\n",
       "              min_child_weight=1, missing=None, n_estimators=100, n_jobs=1,\n",
       "              nthread=None, objective='multi:softprob', random_state=0,\n",
       "              reg_alpha=0, reg_lambda=1, scale_pos_weight=1, seed=None,\n",
       "              silent=None, subsample=1, verbosity=1)"
      ]
     },
     "execution_count": 38,
     "metadata": {
      "tags": []
     },
     "output_type": "execute_result"
    }
   ],
   "source": [
    "reg = xgb.XGBClassifier() \n",
    "reg.fit(preprocessed_train_review, y_train) "
   ]
  },
  {
   "cell_type": "code",
   "execution_count": 39,
   "metadata": {
    "id": "tjaFcjiEkicR"
   },
   "outputs": [],
   "source": [
    "# making predictions on the training set \n",
    "y_pred_train = reg.predict(preprocessed_train_review)"
   ]
  },
  {
   "cell_type": "code",
   "execution_count": 40,
   "metadata": {
    "id": "nQ_J3qjQkpT_"
   },
   "outputs": [],
   "source": [
    "# making predictions on the testing set \n",
    "y_pred_polarity = reg.predict(preprocessed_test_review)"
   ]
  },
  {
   "cell_type": "code",
   "execution_count": 41,
   "metadata": {
    "colab": {
     "base_uri": "https://localhost:8080/"
    },
    "id": "jnVqKi5Dk3xq",
    "outputId": "2cdffeef-2580-497c-d6c5-cc61599a87a5"
   },
   "outputs": [
    {
     "data": {
      "text/plain": [
       "68.25462012320328"
      ]
     },
     "execution_count": 41,
     "metadata": {
      "tags": []
     },
     "output_type": "execute_result"
    }
   ],
   "source": [
    "# comparing actual response values (y_train) with predicted response values (y_pred_train) \n",
    " \n",
    "metrics.accuracy_score(y_train, y_pred_train)*100"
   ]
  },
  {
   "cell_type": "code",
   "execution_count": 42,
   "metadata": {
    "colab": {
     "base_uri": "https://localhost:8080/"
    },
    "id": "aj6-9btKlQyi",
    "outputId": "7117f0b0-3473-4d60-9235-4b3ec3f4a007"
   },
   "outputs": [
    {
     "data": {
      "text/plain": [
       "58.45648604269294"
      ]
     },
     "execution_count": 42,
     "metadata": {
      "tags": []
     },
     "output_type": "execute_result"
    }
   ],
   "source": [
    "metrics.accuracy_score(y_test, y_pred_polarity)*100"
   ]
  },
  {
   "cell_type": "code",
   "execution_count": 43,
   "metadata": {
    "colab": {
     "base_uri": "https://localhost:8080/",
     "height": 1000
    },
    "id": "pz4UIfbWHAKk",
    "outputId": "1a369bd0-e6e5-4dee-b143-3c2a5b00f1f2"
   },
   "outputs": [
    {
     "name": "stdout",
     "output_type": "stream",
     "text": [
      "Number of misclassified points  0.4154351395730706\n",
      "-------------------------------------------------- Confusion matrix --------------------------------------------------\n"
     ]
    },
    {
     "data": {
      "image/png": "[encoded data removed]",
      "text/plain": [
       "<Figure size 720x360 with 2 Axes>"
      ]
     },
     "metadata": {
      "needs_background": "light",
      "tags": []
     },
     "output_type": "display_data"
    },
    {
     "name": "stdout",
     "output_type": "stream",
     "text": [
      "-------------------------------------------------- Precision matrix --------------------------------------------------\n"
     ]
    },
    {
     "data": {
      "image/png": "[encoded data removed]",
      "text/plain": [
       "<Figure size 720x360 with 2 Axes>"
      ]
     },
     "metadata": {
      "needs_background": "light",
      "tags": []
     },
     "output_type": "display_data"
    },
    {
     "name": "stdout",
     "output_type": "stream",
     "text": [
      "Sum of columns in precision matrix [1. 1. 1. 1.]\n",
      "-------------------------------------------------- Recall matrix --------------------------------------------------\n"
     ]
    },
    {
     "data": {
      "image/png": "[encoded data removed]",
      "text/plain": [
       "<Figure size 720x360 with 2 Axes>"
      ]
     },
     "metadata": {
      "needs_background": "light",
      "tags": []
     },
     "output_type": "display_data"
    },
    {
     "name": "stdout",
     "output_type": "stream",
     "text": [
      "Sum of rows in precision matrix [1. 1. 1. 1.]\n"
     ]
    }
   ],
   "source": [
    "plot_confusion_matrix(y_test,  y_pred_polarity, polarity)"
   ]
  },
  {
   "cell_type": "markdown",
   "metadata": {
    "id": "GEPJmjJ8hFON"
   },
   "source": [
    "## 4. creating a resultant dataframe"
   ]
  },
  {
   "cell_type": "code",
   "execution_count": 45,
   "metadata": {
    "id": "Cp7Zj9L-7sKx"
   },
   "outputs": [],
   "source": [
    "def create_result_dataframe(pred_1,pred_2):\n",
    "  # Calling DataFrame constructor on predicted outputs\n",
    "  resultant_df = pd.DataFrame(list(zip(pred_1,pred_2)), columns = [\"predicted_catagories\" , \"predicted_polarity\"])\n",
    "  result  = pd.crosstab(resultant_df.predicted_catagories,resultant_df.predicted_polarity ,margins = True , margins_name = \"Total\")\n",
    "  result[\"Ranking\"] = ( result.Total/resultant_df.shape[0]) * 5.0 \n",
    "  result[\"Negative in %\"] = (result.negative/result.Total) * 100\n",
    "  result[\"Neutral in %\"] = (result.neutral/result.Total) * 100\n",
    "  result[\"Positive in %\"] = (result.positive/result.Total) * 100\n",
    "  result[\"conflict in %\"] = (result.conflict/result.Total) * 100\n",
    "  del result[\"negative\"]\n",
    "  del result[\"neutral\"]\n",
    "  del result[\"positive\"]\n",
    "  del result[\"Total\"]\n",
    "  del result[\"conflict\"]\n",
    "\n",
    "  return result\n"
   ]
  },
  {
   "cell_type": "code",
   "execution_count": 46,
   "metadata": {
    "id": "44Zc-ltc8OyP"
   },
   "outputs": [],
   "source": [
    "result = create_result_dataframe(y_pred_cat,y_pred_polarity)"
   ]
  },
  {
   "cell_type": "code",
   "execution_count": 47,
   "metadata": {
    "colab": {
     "base_uri": "https://localhost:8080/",
     "height": 254
    },
    "id": "AVjbuNYR8USc",
    "outputId": "37ec6ff6-310a-42ad-9e65-97c6ea732a37"
   },
   "outputs": [
    {
     "data": {
      "text/html": [
       "<div>\n",
       "<style scoped>\n",
       "    .dataframe tbody tr th:only-of-type {\n",
       "        vertical-align: middle;\n",
       "    }\n",
       "\n",
       "    .dataframe tbody tr th {\n",
       "        vertical-align: top;\n",
       "    }\n",
       "\n",
       "    .dataframe thead th {\n",
       "        text-align: right;\n",
       "    }\n",
       "</style>\n",
       "<table border=\"1\" class=\"dataframe\">\n",
       "  <thead>\n",
       "    <tr style=\"text-align: right;\">\n",
       "      <th>predicted_polarity</th>\n",
       "      <th>Ranking</th>\n",
       "      <th>Negative in %</th>\n",
       "      <th>Neutral in %</th>\n",
       "      <th>Positive in %</th>\n",
       "      <th>conflict in %</th>\n",
       "    </tr>\n",
       "    <tr>\n",
       "      <th>predicted_catagories</th>\n",
       "      <th></th>\n",
       "      <th></th>\n",
       "      <th></th>\n",
       "      <th></th>\n",
       "      <th></th>\n",
       "    </tr>\n",
       "  </thead>\n",
       "  <tbody>\n",
       "    <tr>\n",
       "      <th>ambience</th>\n",
       "      <td>0.246305</td>\n",
       "      <td>13.333333</td>\n",
       "      <td>0.000000</td>\n",
       "      <td>86.666667</td>\n",
       "      <td>0.000000</td>\n",
       "    </tr>\n",
       "    <tr>\n",
       "      <th>anecdotes/miscellaneous</th>\n",
       "      <td>2.348112</td>\n",
       "      <td>9.090909</td>\n",
       "      <td>5.244755</td>\n",
       "      <td>84.265734</td>\n",
       "      <td>1.398601</td>\n",
       "    </tr>\n",
       "    <tr>\n",
       "      <th>food</th>\n",
       "      <td>1.633826</td>\n",
       "      <td>9.045226</td>\n",
       "      <td>0.502513</td>\n",
       "      <td>86.934673</td>\n",
       "      <td>3.517588</td>\n",
       "    </tr>\n",
       "    <tr>\n",
       "      <th>price</th>\n",
       "      <td>0.287356</td>\n",
       "      <td>17.142857</td>\n",
       "      <td>0.000000</td>\n",
       "      <td>77.142857</td>\n",
       "      <td>5.714286</td>\n",
       "    </tr>\n",
       "    <tr>\n",
       "      <th>service</th>\n",
       "      <td>0.484401</td>\n",
       "      <td>10.169492</td>\n",
       "      <td>0.000000</td>\n",
       "      <td>88.135593</td>\n",
       "      <td>1.694915</td>\n",
       "    </tr>\n",
       "    <tr>\n",
       "      <th>Total</th>\n",
       "      <td>5.000000</td>\n",
       "      <td>9.852217</td>\n",
       "      <td>2.627258</td>\n",
       "      <td>85.221675</td>\n",
       "      <td>2.298851</td>\n",
       "    </tr>\n",
       "  </tbody>\n",
       "</table>\n",
       "</div>"
      ],
      "text/plain": [
       "predicted_polarity        Ranking  Negative in %  ...  Positive in %  conflict in %\n",
       "predicted_catagories                              ...                              \n",
       "ambience                 0.246305      13.333333  ...      86.666667       0.000000\n",
       "anecdotes/miscellaneous  2.348112       9.090909  ...      84.265734       1.398601\n",
       "food                     1.633826       9.045226  ...      86.934673       3.517588\n",
       "price                    0.287356      17.142857  ...      77.142857       5.714286\n",
       "service                  0.484401      10.169492  ...      88.135593       1.694915\n",
       "Total                    5.000000       9.852217  ...      85.221675       2.298851\n",
       "\n",
       "[6 rows x 5 columns]"
      ]
     },
     "execution_count": 47,
     "metadata": {
      "tags": []
     },
     "output_type": "execute_result"
    }
   ],
   "source": [
    "result"
   ]
  },
  {
   "cell_type": "markdown",
   "metadata": {
    "id": "hy8X_G9a_nnC"
   },
   "source": [
    "### Observation :\n",
    "   Above result shows that the Ranking and all Polarities in percentages for all aspect catagories from which we can see that anecdotes/miscellaneous have the highest ranking of 1.34 . and service catagory have highest positive polarity"
   ]
  },
  {
   "cell_type": "code",
   "execution_count": null,
   "metadata": {},
   "outputs": [],
   "source": []
  }
 ],
 "metadata": {
  "colab": {
   "collapsed_sections": [],
   "name": "4_baseline_xgbbost.ipynb",
   "provenance": []
  },
  "kernelspec": {
   "display_name": "Python 3",
   "language": "python",
   "name": "python3"
  },
  "language_info": {
   "codemirror_mode": {
    "name": "ipython",
    "version": 3
   },
   "file_extension": ".py",
   "mimetype": "text/x-python",
   "name": "python",
   "nbconvert_exporter": "python",
   "pygments_lexer": "ipython3",
   "version": "3.7.3"
  }
 },
 "nbformat": 4,
 "nbformat_minor": 1
}
