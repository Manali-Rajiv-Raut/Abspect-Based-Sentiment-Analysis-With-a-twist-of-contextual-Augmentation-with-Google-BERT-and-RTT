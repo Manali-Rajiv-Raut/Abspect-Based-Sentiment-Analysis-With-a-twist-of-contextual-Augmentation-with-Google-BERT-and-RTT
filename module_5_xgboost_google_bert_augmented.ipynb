{
 "cells": [
  {
   "cell_type": "markdown",
   "metadata": {},
   "source": [
    "# xgBoost : Google Bert augmented Dataset"
   ]
  },
  {
   "cell_type": "code",
   "execution_count": 1,
   "metadata": {
    "colab": {
     "base_uri": "https://localhost:8080/"
    },
    "id": "QZ4DswVW8F_r",
    "outputId": "386cac41-84ab-4bef-81ac-b8fe6b33f941"
   },
   "outputs": [
    {
     "name": "stdout",
     "output_type": "stream",
     "text": [
      "Collecting nlpaug\n",
      "\u001b[?25l  Downloading https://files.pythonhosted.org/packages/03/6d/34f342ba443ca8a74682962f71c465cfcaaa69e9a437cdcf1756986c110d/nlpaug-1.1.2-py3-none-any.whl (387kB)\n",
      "\r",
      "\u001b[K     |▉                               | 10kB 13.7MB/s eta 0:00:01\r",
      "\u001b[K     |█▊                              | 20kB 18.5MB/s eta 0:00:01\r",
      "\u001b[K     |██▌                             | 30kB 10.0MB/s eta 0:00:01\r",
      "\u001b[K     |███▍                            | 40kB 8.2MB/s eta 0:00:01\r",
      "\u001b[K     |████▎                           | 51kB 4.3MB/s eta 0:00:01\r",
      "\u001b[K     |█████                           | 61kB 4.8MB/s eta 0:00:01\r",
      "\u001b[K     |██████                          | 71kB 4.8MB/s eta 0:00:01\r",
      "\u001b[K     |██████▊                         | 81kB 5.4MB/s eta 0:00:01\r",
      "\u001b[K     |███████▋                        | 92kB 5.7MB/s eta 0:00:01\r",
      "\u001b[K     |████████▌                       | 102kB 4.1MB/s eta 0:00:01\r",
      "\u001b[K     |█████████▎                      | 112kB 4.1MB/s eta 0:00:01\r",
      "\u001b[K     |██████████▏                     | 122kB 4.1MB/s eta 0:00:01\r",
      "\u001b[K     |███████████                     | 133kB 4.1MB/s eta 0:00:01\r",
      "\u001b[K     |███████████▉                    | 143kB 4.1MB/s eta 0:00:01\r",
      "\u001b[K     |████████████▊                   | 153kB 4.1MB/s eta 0:00:01\r",
      "\u001b[K     |█████████████▌                  | 163kB 4.1MB/s eta 0:00:01\r",
      "\u001b[K     |██████████████▍                 | 174kB 4.1MB/s eta 0:00:01\r",
      "\u001b[K     |███████████████▏                | 184kB 4.1MB/s eta 0:00:01\r",
      "\u001b[K     |████████████████                | 194kB 4.1MB/s eta 0:00:01\r",
      "\u001b[K     |█████████████████               | 204kB 4.1MB/s eta 0:00:01\r",
      "\u001b[K     |█████████████████▊              | 215kB 4.1MB/s eta 0:00:01\r",
      "\u001b[K     |██████████████████▋             | 225kB 4.1MB/s eta 0:00:01\r",
      "\u001b[K     |███████████████████▍            | 235kB 4.1MB/s eta 0:00:01\r",
      "\u001b[K     |████████████████████▎           | 245kB 4.1MB/s eta 0:00:01\r",
      "\u001b[K     |█████████████████████▏          | 256kB 4.1MB/s eta 0:00:01\r",
      "\u001b[K     |██████████████████████          | 266kB 4.1MB/s eta 0:00:01\r",
      "\u001b[K     |██████████████████████▉         | 276kB 4.1MB/s eta 0:00:01\r",
      "\u001b[K     |███████████████████████▋        | 286kB 4.1MB/s eta 0:00:01\r",
      "\u001b[K     |████████████████████████▌       | 296kB 4.1MB/s eta 0:00:01\r",
      "\u001b[K     |█████████████████████████▍      | 307kB 4.1MB/s eta 0:00:01\r",
      "\u001b[K     |██████████████████████████▏     | 317kB 4.1MB/s eta 0:00:01\r",
      "\u001b[K     |███████████████████████████     | 327kB 4.1MB/s eta 0:00:01\r",
      "\u001b[K     |████████████████████████████    | 337kB 4.1MB/s eta 0:00:01\r",
      "\u001b[K     |████████████████████████████▊   | 348kB 4.1MB/s eta 0:00:01\r",
      "\u001b[K     |█████████████████████████████▋  | 358kB 4.1MB/s eta 0:00:01\r",
      "\u001b[K     |██████████████████████████████▍ | 368kB 4.1MB/s eta 0:00:01\r",
      "\u001b[K     |███████████████████████████████▎| 378kB 4.1MB/s eta 0:00:01\r",
      "\u001b[K     |████████████████████████████████| 389kB 4.1MB/s \n",
      "\u001b[?25hInstalling collected packages: nlpaug\n",
      "Successfully installed nlpaug-1.1.2\n"
     ]
    }
   ],
   "source": [
    "!pip install nlpaug"
   ]
  },
  {
   "cell_type": "code",
   "execution_count": 2,
   "metadata": {
    "colab": {
     "base_uri": "https://localhost:8080/"
    },
    "id": "IuFounVGZoQP",
    "outputId": "f30fda8d-8a4c-470b-a115-429a8fd1f597"
   },
   "outputs": [
    {
     "name": "stdout",
     "output_type": "stream",
     "text": [
      "Collecting transformers\n",
      "\u001b[?25l  Downloading https://files.pythonhosted.org/packages/cd/40/866cbfac4601e0f74c7303d533a9c5d4a53858bd402e08e3e294dd271f25/transformers-4.2.1-py3-none-any.whl (1.8MB)\n",
      "\u001b[K     |████████████████████████████████| 1.8MB 4.3MB/s \n",
      "\u001b[?25hRequirement already satisfied: dataclasses; python_version < \"3.7\" in /usr/local/lib/python3.6/dist-packages (from transformers) (0.8)\n",
      "Requirement already satisfied: packaging in /usr/local/lib/python3.6/dist-packages (from transformers) (20.8)\n",
      "Requirement already satisfied: filelock in /usr/local/lib/python3.6/dist-packages (from transformers) (3.0.12)\n",
      "Collecting sacremoses\n",
      "\u001b[?25l  Downloading https://files.pythonhosted.org/packages/7d/34/09d19aff26edcc8eb2a01bed8e98f13a1537005d31e95233fd48216eed10/sacremoses-0.0.43.tar.gz (883kB)\n",
      "\u001b[K     |████████████████████████████████| 890kB 41.9MB/s \n",
      "\u001b[?25hRequirement already satisfied: regex!=2019.12.17 in /usr/local/lib/python3.6/dist-packages (from transformers) (2019.12.20)\n",
      "Collecting tokenizers==0.9.4\n",
      "\u001b[?25l  Downloading https://files.pythonhosted.org/packages/0f/1c/e789a8b12e28be5bc1ce2156cf87cb522b379be9cadc7ad8091a4cc107c4/tokenizers-0.9.4-cp36-cp36m-manylinux2010_x86_64.whl (2.9MB)\n",
      "\u001b[K     |████████████████████████████████| 2.9MB 52.0MB/s \n",
      "\u001b[?25hRequirement already satisfied: importlib-metadata; python_version < \"3.8\" in /usr/local/lib/python3.6/dist-packages (from transformers) (3.3.0)\n",
      "Requirement already satisfied: requests in /usr/local/lib/python3.6/dist-packages (from transformers) (2.23.0)\n",
      "Requirement already satisfied: numpy in /usr/local/lib/python3.6/dist-packages (from transformers) (1.19.5)\n",
      "Requirement already satisfied: tqdm>=4.27 in /usr/local/lib/python3.6/dist-packages (from transformers) (4.41.1)\n",
      "Requirement already satisfied: pyparsing>=2.0.2 in /usr/local/lib/python3.6/dist-packages (from packaging->transformers) (2.4.7)\n",
      "Requirement already satisfied: six in /usr/local/lib/python3.6/dist-packages (from sacremoses->transformers) (1.15.0)\n",
      "Requirement already satisfied: click in /usr/local/lib/python3.6/dist-packages (from sacremoses->transformers) (7.1.2)\n",
      "Requirement already satisfied: joblib in /usr/local/lib/python3.6/dist-packages (from sacremoses->transformers) (1.0.0)\n",
      "Requirement already satisfied: typing-extensions>=3.6.4; python_version < \"3.8\" in /usr/local/lib/python3.6/dist-packages (from importlib-metadata; python_version < \"3.8\"->transformers) (3.7.4.3)\n",
      "Requirement already satisfied: zipp>=0.5 in /usr/local/lib/python3.6/dist-packages (from importlib-metadata; python_version < \"3.8\"->transformers) (3.4.0)\n",
      "Requirement already satisfied: urllib3!=1.25.0,!=1.25.1,<1.26,>=1.21.1 in /usr/local/lib/python3.6/dist-packages (from requests->transformers) (1.24.3)\n",
      "Requirement already satisfied: chardet<4,>=3.0.2 in /usr/local/lib/python3.6/dist-packages (from requests->transformers) (3.0.4)\n",
      "Requirement already satisfied: certifi>=2017.4.17 in /usr/local/lib/python3.6/dist-packages (from requests->transformers) (2020.12.5)\n",
      "Requirement already satisfied: idna<3,>=2.5 in /usr/local/lib/python3.6/dist-packages (from requests->transformers) (2.10)\n",
      "Building wheels for collected packages: sacremoses\n",
      "  Building wheel for sacremoses (setup.py) ... \u001b[?25l\u001b[?25hdone\n",
      "  Created wheel for sacremoses: filename=sacremoses-0.0.43-cp36-none-any.whl size=893261 sha256=f41b51fe913693c7e8686f0e4a8c34d2dc2e1c360943c8f4bd7d1a9e6734d19c\n",
      "  Stored in directory: /root/.cache/pip/wheels/29/3c/fd/7ce5c3f0666dab31a50123635e6fb5e19ceb42ce38d4e58f45\n",
      "Successfully built sacremoses\n",
      "Installing collected packages: sacremoses, tokenizers, transformers\n",
      "Successfully installed sacremoses-0.0.43 tokenizers-0.9.4 transformers-4.2.1\n"
     ]
    }
   ],
   "source": [
    "!pip install transformers"
   ]
  },
  {
   "cell_type": "code",
   "execution_count": 3,
   "metadata": {
    "colab": {
     "base_uri": "https://localhost:8080/"
    },
    "id": "3b3ETYvm-jcG",
    "outputId": "b95b010c-3233-4e6d-ab29-bdcbe0708059"
   },
   "outputs": [
    {
     "name": "stdout",
     "output_type": "stream",
     "text": [
      "Collecting import-ipynb\n",
      "  Downloading https://files.pythonhosted.org/packages/63/35/495e0021bfdcc924c7cdec4e9fbb87c88dd03b9b9b22419444dc370c8a45/import-ipynb-0.1.3.tar.gz\n",
      "Building wheels for collected packages: import-ipynb\n",
      "  Building wheel for import-ipynb (setup.py) ... \u001b[?25l\u001b[?25hdone\n",
      "  Created wheel for import-ipynb: filename=import_ipynb-0.1.3-cp36-none-any.whl size=2976 sha256=c6b08fc65de094e3d465e0487a27b13c894e3b83f33dae7e19af47a14a9a9b15\n",
      "  Stored in directory: /root/.cache/pip/wheels/b4/7b/e9/a3a6e496115dffdb4e3085d0ae39ffe8a814eacc44bbf494b5\n",
      "Successfully built import-ipynb\n",
      "Installing collected packages: import-ipynb\n",
      "Successfully installed import-ipynb-0.1.3\n"
     ]
    }
   ],
   "source": [
    "# COLAB\n",
    "from google.colab import files\n",
    "from google.colab import drive\n",
    "# SYS\n",
    "import sys\n",
    "# IPYNB\n",
    "!pip install import-ipynb\n",
    "import import_ipynb\n",
    "# UTIL\n",
    "import importlib.util"
   ]
  },
  {
   "cell_type": "code",
   "execution_count": 4,
   "metadata": {
    "colab": {
     "base_uri": "https://localhost:8080/"
    },
    "id": "DOq6ALfkGM2z",
    "outputId": "eaf3823d-4768-441a-f232-5fa214e1063f"
   },
   "outputs": [
    {
     "name": "stdout",
     "output_type": "stream",
     "text": [
      "Mounted at /content/gdrive\n"
     ]
    }
   ],
   "source": [
    "from google.colab import drive\n",
    "drive.mount('/content/gdrive')"
   ]
  },
  {
   "cell_type": "code",
   "execution_count": 5,
   "metadata": {
    "colab": {
     "base_uri": "https://localhost:8080/"
    },
    "id": "uYH2P9FJ-oSh",
    "outputId": "42b77335-43a3-499f-dfa8-e89ec8eaf070"
   },
   "outputs": [
    {
     "name": "stdout",
     "output_type": "stream",
     "text": [
      "Uninstalling nltk-3.2.5:\n",
      "  Would remove:\n",
      "    /usr/local/lib/python3.6/dist-packages/nltk-3.2.5.dist-info/*\n",
      "    /usr/local/lib/python3.6/dist-packages/nltk/*\n",
      "Proceed (y/n)? y\n",
      "  Successfully uninstalled nltk-3.2.5\n",
      "Collecting nltk\n",
      "\u001b[?25l  Downloading https://files.pythonhosted.org/packages/92/75/ce35194d8e3022203cca0d2f896dbb88689f9b3fce8e9f9cff942913519d/nltk-3.5.zip (1.4MB)\n",
      "\u001b[K     |████████████████████████████████| 1.4MB 5.3MB/s \n",
      "\u001b[?25hRequirement already satisfied, skipping upgrade: click in /usr/local/lib/python3.6/dist-packages (from nltk) (7.1.2)\n",
      "Requirement already satisfied, skipping upgrade: joblib in /usr/local/lib/python3.6/dist-packages (from nltk) (1.0.0)\n",
      "Requirement already satisfied, skipping upgrade: regex in /usr/local/lib/python3.6/dist-packages (from nltk) (2019.12.20)\n",
      "Requirement already satisfied, skipping upgrade: tqdm in /usr/local/lib/python3.6/dist-packages (from nltk) (4.41.1)\n",
      "Building wheels for collected packages: nltk\n",
      "  Building wheel for nltk (setup.py) ... \u001b[?25l\u001b[?25hdone\n",
      "  Created wheel for nltk: filename=nltk-3.5-cp36-none-any.whl size=1434677 sha256=64ff274c35cff2b6c4082997a38010774ad95c1b669ba6366fb389dca13249c9\n",
      "  Stored in directory: /root/.cache/pip/wheels/ae/8c/3f/b1fe0ba04555b08b57ab52ab7f86023639a526d8bc8d384306\n",
      "Successfully built nltk\n",
      "Installing collected packages: nltk\n",
      "Successfully installed nltk-3.5\n"
     ]
    },
    {
     "name": "stderr",
     "output_type": "stream",
     "text": [
      "[nltk_data] Downloading package stopwords to /root/nltk_data...\n",
      "[nltk_data]   Unzipping corpora/stopwords.zip.\n",
      "[nltk_data] Downloading package wordnet to /root/nltk_data...\n",
      "[nltk_data]   Unzipping corpora/wordnet.zip.\n"
     ]
    },
    {
     "name": "stdout",
     "output_type": "stream",
     "text": [
      "{\"you'd\", 'me', 'doesn', 'myself', 'most', 'ours', 'those', 'whom', 'his', 'or', 'them', 'your', 'where', 'haven', \"wasn't\", 'should', \"that'll\", 'had', 'against', 'can', 'from', 'as', 'so', 'down', \"hasn't\", 'hers', 'while', 'this', 'and', 'what', 'under', 'aren', 'below', 're', 'her', 'above', 'will', \"shan't\", 'shan', 'that', 'each', 'did', \"doesn't\", 'hasn', 'shouldn', 'more', 'very', 'such', 've', 'how', \"aren't\", 'once', \"mustn't\", 'out', 'all', 'm', \"she's\", 'ma', 'been', \"wouldn't\", 'if', 'no', 'i', 'herself', 'nor', 'does', 'a', \"haven't\", \"weren't\", \"you've\", 'am', 'too', 'are', 'we', 'with', 'd', 'ourselves', \"you'll\", 'isn', 'but', 'wasn', 'its', 'on', 'himself', 'itself', 'theirs', 'their', 'both', 'when', \"needn't\", 'at', 'these', 'it', 'he', 'has', 'own', 'just', 'any', 'o', 'she', 'who', 'because', 'after', 'further', 'having', 'in', 'other', \"hadn't\", 'which', 'couldn', \"won't\", 'won', 'for', 'about', 'be', 'same', 'themselves', 'you', 'our', 'over', 'few', \"isn't\", 'have', 'up', 'do', 'doing', 'mightn', 'didn', 'there', 'here', \"it's\", 'wouldn', 'some', 'before', 'to', 'weren', 'than', 'were', 'needn', \"mightn't\", 'then', 'yours', 'of', \"should've\", 'don', 'mustn', 'now', 'hadn', \"you're\", 'into', 'll', 'not', \"didn't\", 'was', \"shouldn't\", 'between', 'only', 'they', 'ain', 't', 'during', \"couldn't\", 'him', 'by', 'an', 'off', 'y', 'is', \"don't\", 'being', 'the', 'why', 'my', 'through', 'yourselves', 'again', 'until', 'yourself', 's'}\n"
     ]
    }
   ],
   "source": [
    "#https://stackoverflow.com/questions/62117483/import-module-in-google-colab-from-google-drive-python\n",
    "sys.path.append('/content/gdrive/MyDrive/CS--2/')\n",
    "#import module_1_xml_to_df\n",
    "#from module_1_xml_to_df import convert_xml_to_DataFrame\n",
    "from module_2_preprocessing import Data_Preprocessing"
   ]
  },
  {
   "cell_type": "code",
   "execution_count": 6,
   "metadata": {
    "id": "Linhgw8T-ytR"
   },
   "outputs": [],
   "source": [
    "import nlpaug.augmenter.word as naw\n",
    "import pandas as pd\n",
    "import re\n",
    "import numpy as np\n",
    "import seaborn as sns\n",
    "from sklearn import linear_model, metrics  \n",
    "import xgboost as xgb \n",
    "from sklearn.metrics import accuracy_score, f1_score, confusion_matrix\n",
    "import matplotlib.pyplot as plt"
   ]
  },
  {
   "cell_type": "markdown",
   "metadata": {},
   "source": [
    "### 1. laoding calss data_augmentation_with_Google_bert"
   ]
  },
  {
   "cell_type": "code",
   "execution_count": 7,
   "metadata": {
    "id": "X5P8UdPraGSg"
   },
   "outputs": [],
   "source": [
    "class data_augmentation_with_Google_bert:\n",
    "  def __init__(self,per):\n",
    "    self.per = per\n",
    "\n",
    "  #https://github.com/samhavens/roundtrip\n",
    "  def google_bert_function(self , dataset , len_of_aug_data) :\n",
    "      col_name = dataset.columns\n",
    "      aug = naw.ContextualWordEmbsAug(model_path='bert-base-uncased', action=\"substitute\")\n",
    "      \n",
    "      for r in range(0,len_of_aug_data):\n",
    "        dataset=shuffle(dataset)\n",
    "        sentence = aug.augment(dataset[col_name[1]][r])\n",
    "        aspect_term = dataset[col_name[2]][r] \n",
    "        aspect_cat = dataset[col_name[3]][r]\n",
    "        label = dataset[col_name[4]][r]\n",
    "        #print(sentence)\n",
    "        new_data = pd.DataFrame([[sentence,aspect_term, aspect_cat , label]],columns=['text', 'aspect_term', 'aspect_category', 'polarity'])\n",
    "        #print(new_data)\n",
    "        dataset = dataset.append(new_data, ignore_index=True)\n",
    "        #print(dataset.shape)\n",
    "      return dataset\n",
    "\n",
    "  def augmentation(self , data):\n",
    "    if type(data) == pd.core.series.Series:                     # if the givne datatype is series or list or numpy array\n",
    "      data = pd.DataFrame(data)                                 # it will get converted into standard Dataframe format\n",
    "    elif type(data) == list or type(data) == np.ndarray:        # for further calculations\n",
    "      data = pd.DataFrame(data = data)\n",
    "    else:\n",
    "      pass\n",
    "    \n",
    "    len_of_data = data.shape[0]\n",
    "    partition = int((self.per /100)*len_of_data)\n",
    "\n",
    "    data = shuffle(data)\n",
    "    data = self.google_bert_function(data , partition)\n",
    "    \n",
    "    return data  "
   ]
  },
  {
   "cell_type": "markdown",
   "metadata": {
    "id": "JVP3zVNm-EBS"
   },
   "source": [
    "## 2.Loading the data"
   ]
  },
  {
   "cell_type": "code",
   "execution_count": 8,
   "metadata": {
    "id": "ZfcQV5x7NUPb"
   },
   "outputs": [],
   "source": [
    "restaurant_data = pd.read_csv(\"/content/gdrive/MyDrive/CS--2/restaurant_train_data_semeval_14.csv\")"
   ]
  },
  {
   "cell_type": "code",
   "execution_count": 9,
   "metadata": {
    "colab": {
     "base_uri": "https://localhost:8080/"
    },
    "id": "HqRj-jRL_8o6",
    "outputId": "cd23ea86-3b6b-4320-8258-63df70a4d1f1"
   },
   "outputs": [
    {
     "data": {
      "text/plain": [
       "(3044, 5)"
      ]
     },
     "execution_count": 9,
     "metadata": {
      "tags": []
     },
     "output_type": "execute_result"
    }
   ],
   "source": [
    "restaurant_data.shape"
   ]
  },
  {
   "cell_type": "code",
   "execution_count": null,
   "metadata": {
    "id": "Ul5P5VDOF5am"
   },
   "outputs": [],
   "source": [
    "da = data_augmentation_with_Google_bert(per= 100)"
   ]
  },
  {
   "cell_type": "code",
   "execution_count": null,
   "metadata": {
    "id": "ADqZXJJPAmTo"
   },
   "outputs": [],
   "source": [
    "augmented_data_restaurant = da.augmentation(restaurant_data )"
   ]
  },
  {
   "cell_type": "code",
   "execution_count": null,
   "metadata": {
    "id": "lYfUdCKTKSGQ"
   },
   "outputs": [],
   "source": [
    "# saving the dataframe \n",
    "augmented_data_restaurant.to_csv('/content/gdrive/MyDrive/CS--2/augmented_data_restaurant_bert.csv',index= False) "
   ]
  },
  {
   "cell_type": "markdown",
   "metadata": {
    "id": "Zqt8bLzQ7zaH"
   },
   "source": [
    "## 3. Loading the google bert augmented data"
   ]
  },
  {
   "cell_type": "code",
   "execution_count": 11,
   "metadata": {
    "id": "S92ySrvL7eEP"
   },
   "outputs": [],
   "source": [
    "augmented_data_restaurant = pd.read_csv(\"/content/gdrive/MyDrive/CS--2/augmented_data_restaurant_bert.csv\")"
   ]
  },
  {
   "cell_type": "code",
   "execution_count": 12,
   "metadata": {
    "colab": {
     "base_uri": "https://localhost:8080/",
     "height": 195
    },
    "id": "jhdMQ4RiJRTA",
    "outputId": "536b1220-8d57-43f4-cd67-99bc55ab77a0"
   },
   "outputs": [
    {
     "data": {
      "text/html": [
       "<div>\n",
       "<style scoped>\n",
       "    .dataframe tbody tr th:only-of-type {\n",
       "        vertical-align: middle;\n",
       "    }\n",
       "\n",
       "    .dataframe tbody tr th {\n",
       "        vertical-align: top;\n",
       "    }\n",
       "\n",
       "    .dataframe thead th {\n",
       "        text-align: right;\n",
       "    }\n",
       "</style>\n",
       "<table border=\"1\" class=\"dataframe\">\n",
       "  <thead>\n",
       "    <tr style=\"text-align: right;\">\n",
       "      <th></th>\n",
       "      <th>id</th>\n",
       "      <th>text</th>\n",
       "      <th>aspect_term</th>\n",
       "      <th>aspect_category</th>\n",
       "      <th>polarity</th>\n",
       "    </tr>\n",
       "  </thead>\n",
       "  <tbody>\n",
       "    <tr>\n",
       "      <th>0</th>\n",
       "      <td>141.0</td>\n",
       "      <td>this dish is my favorite and i always get it w...</td>\n",
       "      <td>dish</td>\n",
       "      <td>food</td>\n",
       "      <td>positive</td>\n",
       "    </tr>\n",
       "    <tr>\n",
       "      <th>1</th>\n",
       "      <td>NaN</td>\n",
       "      <td>i think that it actually is absolutely brillia...</td>\n",
       "      <td>NaN</td>\n",
       "      <td>anecdotes/miscellaneous</td>\n",
       "      <td>positive</td>\n",
       "    </tr>\n",
       "    <tr>\n",
       "      <th>2</th>\n",
       "      <td>91.0</td>\n",
       "      <td>i will be going back and heartily recommend it!</td>\n",
       "      <td>NaN</td>\n",
       "      <td>anecdotes/miscellaneous</td>\n",
       "      <td>positive</td>\n",
       "    </tr>\n",
       "    <tr>\n",
       "      <th>3</th>\n",
       "      <td>1094.0</td>\n",
       "      <td>the food is amazing!!!!</td>\n",
       "      <td>food</td>\n",
       "      <td>food</td>\n",
       "      <td>positive</td>\n",
       "    </tr>\n",
       "    <tr>\n",
       "      <th>4</th>\n",
       "      <td>946.0</td>\n",
       "      <td>we only ordered desserts and drinks, but no re...</td>\n",
       "      <td>drinks</td>\n",
       "      <td>service</td>\n",
       "      <td>negative</td>\n",
       "    </tr>\n",
       "  </tbody>\n",
       "</table>\n",
       "</div>"
      ],
      "text/plain": [
       "       id  ...  polarity\n",
       "0   141.0  ...  positive\n",
       "1     NaN  ...  positive\n",
       "2    91.0  ...  positive\n",
       "3  1094.0  ...  positive\n",
       "4   946.0  ...  negative\n",
       "\n",
       "[5 rows x 5 columns]"
      ]
     },
     "execution_count": 12,
     "metadata": {
      "tags": []
     },
     "output_type": "execute_result"
    }
   ],
   "source": [
    "augmented_data_restaurant.head()"
   ]
  },
  {
   "cell_type": "code",
   "execution_count": 13,
   "metadata": {
    "colab": {
     "base_uri": "https://localhost:8080/"
    },
    "id": "BikCjtynkUat",
    "outputId": "617c8074-b683-4846-f4de-6026994d1d40"
   },
   "outputs": [
    {
     "data": {
      "text/plain": [
       "(6088, 5)"
      ]
     },
     "execution_count": 13,
     "metadata": {
      "tags": []
     },
     "output_type": "execute_result"
    }
   ],
   "source": [
    "augmented_data_restaurant.shape"
   ]
  },
  {
   "cell_type": "code",
   "execution_count": 14,
   "metadata": {
    "colab": {
     "base_uri": "https://localhost:8080/"
    },
    "id": "S03Z031uKX68",
    "outputId": "1ab3afee-9a7e-400d-dc7e-ccc4c3f7f7f1"
   },
   "outputs": [
    {
     "data": {
      "text/plain": [
       "aspect_category\n",
       "anecdotes/miscellaneous    2091\n",
       "food                       1692\n",
       "service                     952\n",
       "ambience                    784\n",
       "price                       569\n",
       "dtype: int64"
      ]
     },
     "execution_count": 14,
     "metadata": {
      "tags": []
     },
     "output_type": "execute_result"
    }
   ],
   "source": [
    "augmented_data_restaurant.groupby('aspect_category').size().sort_values(ascending=False)"
   ]
  },
  {
   "cell_type": "code",
   "execution_count": 15,
   "metadata": {
    "colab": {
     "base_uri": "https://localhost:8080/"
    },
    "id": "sWPdUP5KKe9u",
    "outputId": "f7deeee4-e7b5-47f3-a8e4-57fe6ee9051e"
   },
   "outputs": [
    {
     "data": {
      "text/plain": [
       "(array(['food', 'anecdotes/miscellaneous', 'service', 'ambience', 'price'],\n",
       "       dtype=object), 5)"
      ]
     },
     "execution_count": 15,
     "metadata": {
      "tags": []
     },
     "output_type": "execute_result"
    }
   ],
   "source": [
    "catagories = augmented_data_restaurant['aspect_category'].unique()\n",
    "catagories , len(catagories)"
   ]
  },
  {
   "cell_type": "code",
   "execution_count": 16,
   "metadata": {
    "colab": {
     "base_uri": "https://localhost:8080/"
    },
    "id": "H9V6MJPzKk7q",
    "outputId": "0d0e09a7-d9ce-4e72-fae3-c9a24349e849"
   },
   "outputs": [
    {
     "data": {
      "text/plain": [
       "array(['positive', 'negative', 'conflict', 'neutral'], dtype=object)"
      ]
     },
     "execution_count": 16,
     "metadata": {
      "tags": []
     },
     "output_type": "execute_result"
    }
   ],
   "source": [
    "polarity = augmented_data_restaurant['polarity'].unique()\n",
    "polarity"
   ]
  },
  {
   "cell_type": "markdown",
   "metadata": {},
   "source": [
    "## 4. Aspect Based Sentiment Analysis"
   ]
  },
  {
   "cell_type": "code",
   "execution_count": 17,
   "metadata": {
    "id": "jK6RUY1w72sg"
   },
   "outputs": [],
   "source": [
    "X = augmented_data_restaurant['text']\n",
    "Y = augmented_data_restaurant['aspect_category']"
   ]
  },
  {
   "cell_type": "markdown",
   "metadata": {
    "id": "0iRZVXCnJLSy"
   },
   "source": [
    "### 4.1 Splitting the data "
   ]
  },
  {
   "cell_type": "code",
   "execution_count": 19,
   "metadata": {
    "id": "jI1WHRqKJRvL"
   },
   "outputs": [],
   "source": [
    "from sklearn.model_selection import train_test_split\n",
    "\n",
    "X_train, X_test, y_train, y_test = train_test_split(X, Y, test_size=0.2, random_state=1)"
   ]
  },
  {
   "cell_type": "code",
   "execution_count": 20,
   "metadata": {
    "colab": {
     "base_uri": "https://localhost:8080/"
    },
    "id": "8A7y80UMJUBk",
    "outputId": "c48b40e9-9060-4a54-a5c3-1870d9ba025c"
   },
   "outputs": [
    {
     "name": "stdout",
     "output_type": "stream",
     "text": [
      "(4870,) (4870,)\n",
      "(1218,) (1218,)\n"
     ]
    }
   ],
   "source": [
    "print(X_train.shape, y_train.shape)\n",
    "print(X_test.shape, y_test.shape)"
   ]
  },
  {
   "cell_type": "code",
   "execution_count": 21,
   "metadata": {
    "id": "nR0CNHJOJYr8"
   },
   "outputs": [],
   "source": [
    "dp = Data_Preprocessing()"
   ]
  },
  {
   "cell_type": "code",
   "execution_count": 22,
   "metadata": {
    "colab": {
     "base_uri": "https://localhost:8080/"
    },
    "id": "gNYn3FNVJa00",
    "outputId": "a9bdfe8b-38bc-4ecc-ef69-392827f870a2"
   },
   "outputs": [
    {
     "name": "stderr",
     "output_type": "stream",
     "text": [
      "100%|██████████| 4870/4870 [00:04<00:00, 1210.68it/s]\n"
     ]
    }
   ],
   "source": [
    "X_train_review = dp.preprocess_text(X_train)"
   ]
  },
  {
   "cell_type": "code",
   "execution_count": 23,
   "metadata": {
    "colab": {
     "base_uri": "https://localhost:8080/"
    },
    "id": "lyZ-1gKGJcss",
    "outputId": "8ebb531a-5cd0-4626-a66b-f8df20da7322"
   },
   "outputs": [
    {
     "name": "stderr",
     "output_type": "stream",
     "text": [
      "100%|██████████| 1218/1218 [00:00<00:00, 1944.66it/s]\n"
     ]
    }
   ],
   "source": [
    "X_test_review = dp.preprocess_text(X_test)"
   ]
  },
  {
   "cell_type": "code",
   "execution_count": 24,
   "metadata": {
    "colab": {
     "base_uri": "https://localhost:8080/"
    },
    "id": "2Wp4nMSsJhUW",
    "outputId": "5e14c242-3858-4cb5-cb07-999d797e53cd"
   },
   "outputs": [
    {
     "data": {
      "text/plain": [
       "CountVectorizer(analyzer='word', binary=False, decode_error='strict',\n",
       "                dtype=<class 'numpy.int64'>, encoding='utf-8', input='content',\n",
       "                lowercase=True, max_df=1.0, max_features=50000, min_df=3,\n",
       "                ngram_range=(1, 1), preprocessor=None, stop_words=None,\n",
       "                strip_accents=None, token_pattern='(?u)\\\\b\\\\w\\\\w+\\\\b',\n",
       "                tokenizer=None, vocabulary=None)"
      ]
     },
     "execution_count": 24,
     "metadata": {
      "tags": []
     },
     "output_type": "execute_result"
    }
   ],
   "source": [
    "from sklearn.feature_extraction.text import CountVectorizer    \n",
    "vectorizer_sit = CountVectorizer(min_df=3,max_features=50000)  \n",
    "vectorizer_sit.fit(X_train_review)"
   ]
  },
  {
   "cell_type": "code",
   "execution_count": 25,
   "metadata": {
    "colab": {
     "base_uri": "https://localhost:8080/"
    },
    "id": "tWua1eoxJkvJ",
    "outputId": "d019d061-f921-4438-c05d-04057bc171c0"
   },
   "outputs": [
    {
     "name": "stdout",
     "output_type": "stream",
     "text": [
      "Shape of matrix data after one hot encoding for train:  (4870, 2537)\n"
     ]
    }
   ],
   "source": [
    "preprocessed_train_review = vectorizer_sit.transform(X_train_review).toarray()    # produces a sparse representation of preprocessed sentences\n",
    "print(\"Shape of matrix data after one hot encoding for train: \",preprocessed_train_review .shape)"
   ]
  },
  {
   "cell_type": "code",
   "execution_count": 26,
   "metadata": {
    "colab": {
     "base_uri": "https://localhost:8080/"
    },
    "id": "-k-S3gXSJn-T",
    "outputId": "8f5b3d55-9918-45ce-c749-22bbf25d2225"
   },
   "outputs": [
    {
     "name": "stdout",
     "output_type": "stream",
     "text": [
      "Shape of matrix data after one hot encoding for train:  (1218, 2537)\n"
     ]
    }
   ],
   "source": [
    "preprocessed_test_review = vectorizer_sit.transform(X_test_review).toarray()    \n",
    "print(\"Shape of matrix data after one hot encoding for train: \",preprocessed_test_review.shape)"
   ]
  },
  {
   "cell_type": "markdown",
   "metadata": {},
   "source": [
    "### 4.2 xgboost model"
   ]
  },
  {
   "cell_type": "code",
   "execution_count": 27,
   "metadata": {
    "colab": {
     "base_uri": "https://localhost:8080/"
    },
    "id": "CTFkJAWmJrfR",
    "outputId": "e379a00c-ceff-45c9-a4f9-8067aa3ebf87"
   },
   "outputs": [
    {
     "data": {
      "text/plain": [
       "XGBClassifier(base_score=0.5, booster='gbtree', colsample_bylevel=1,\n",
       "              colsample_bynode=1, colsample_bytree=1, gamma=0,\n",
       "              learning_rate=0.1, max_delta_step=0, max_depth=3,\n",
       "              min_child_weight=1, missing=None, n_estimators=100, n_jobs=1,\n",
       "              nthread=None, objective='multi:softprob', random_state=0,\n",
       "              reg_alpha=0, reg_lambda=1, scale_pos_weight=1, seed=None,\n",
       "              silent=None, subsample=1, verbosity=1)"
      ]
     },
     "execution_count": 27,
     "metadata": {
      "tags": []
     },
     "output_type": "execute_result"
    }
   ],
   "source": [
    "reg = xgb.XGBClassifier() \n",
    "reg.fit(preprocessed_train_review, y_train) "
   ]
  },
  {
   "cell_type": "code",
   "execution_count": 28,
   "metadata": {
    "id": "o9zgF2tJKEyO"
   },
   "outputs": [],
   "source": [
    "# making predictions on the training set \n",
    "y_pred_train = reg.predict(preprocessed_train_review)"
   ]
  },
  {
   "cell_type": "code",
   "execution_count": 29,
   "metadata": {
    "id": "mzggkh4XKHSe"
   },
   "outputs": [],
   "source": [
    "# making predictions on the testing set \n",
    "y_pred_cat = reg.predict(preprocessed_test_review)"
   ]
  },
  {
   "cell_type": "code",
   "execution_count": 30,
   "metadata": {
    "colab": {
     "base_uri": "https://localhost:8080/"
    },
    "id": "qMBKMuShKKKZ",
    "outputId": "3dfbee42-9992-4555-d7f4-72029c7d4da8"
   },
   "outputs": [
    {
     "data": {
      "text/plain": [
       "75.72895277207392"
      ]
     },
     "execution_count": 30,
     "metadata": {
      "tags": []
     },
     "output_type": "execute_result"
    }
   ],
   "source": [
    "# comparing actual response values (y_train) with predicted response values (y_pred_train) \n",
    " \n",
    "metrics.accuracy_score(y_train, y_pred_train)*100"
   ]
  },
  {
   "cell_type": "code",
   "execution_count": 31,
   "metadata": {
    "colab": {
     "base_uri": "https://localhost:8080/"
    },
    "id": "1nLNIQHjKM82",
    "outputId": "fa7605df-fa2a-4de6-8340-27bfb62bd7a7"
   },
   "outputs": [
    {
     "data": {
      "text/plain": [
       "71.51067323481116"
      ]
     },
     "execution_count": 31,
     "metadata": {
      "tags": []
     },
     "output_type": "execute_result"
    }
   ],
   "source": [
    "# comparing actual response values (y_train) with predicted response values (y_pred_train) \n",
    "\n",
    "metrics.accuracy_score(y_test, y_pred_cat)*100"
   ]
  },
  {
   "cell_type": "markdown",
   "metadata": {},
   "source": [
    "### 4.3 Classification report"
   ]
  },
  {
   "cell_type": "code",
   "execution_count": 32,
   "metadata": {
    "colab": {
     "base_uri": "https://localhost:8080/"
    },
    "id": "pmz8bv3_KPJh",
    "outputId": "cb9c10ee-4880-4f09-9f5f-117568ed2fdb"
   },
   "outputs": [
    {
     "name": "stdout",
     "output_type": "stream",
     "text": [
      "                         precision    recall  f1-score   support\n",
      "\n",
      "                   food       0.92      0.45      0.60       164\n",
      "anecdotes/miscellaneous       0.65      0.87      0.74       400\n",
      "                service       0.69      0.73      0.71       355\n",
      "               ambience       0.88      0.52      0.66       113\n",
      "                  price       0.83      0.70      0.76       186\n",
      "\n",
      "               accuracy                           0.72      1218\n",
      "              macro avg       0.79      0.65      0.69      1218\n",
      "           weighted avg       0.75      0.72      0.71      1218\n",
      "\n"
     ]
    }
   ],
   "source": [
    "from sklearn.metrics import classification_report\n",
    "print(classification_report(y_test, y_pred_cat ,target_names= catagories))"
   ]
  },
  {
   "cell_type": "markdown",
   "metadata": {
    "id": "UPpr5PjlDcSq"
   },
   "source": [
    "### Observation :\n",
    "This is the classification report of aspect category based sentiment model for bert augmented data showing the precision, recall, f1_score and support values for all 5 unique catagories with accuracy 72 percent "
   ]
  },
  {
   "cell_type": "markdown",
   "metadata": {},
   "source": [
    "### 4.4 Confusion matrix representation"
   ]
  },
  {
   "cell_type": "code",
   "execution_count": 34,
   "metadata": {
    "id": "JvGxH311KTUO"
   },
   "outputs": [],
   "source": [
    "# code borrowed from Microsoft Malware Detection Assignment\n",
    "def plot_confusion_matrix(test_y, predict_y ,labels):\n",
    "    C = confusion_matrix(test_y, predict_y)      # calculation of confusion matrix \n",
    "    print(\"Number of misclassified points \",(len(test_y)-np.trace(C))/len(test_y))    # number of misclassified points while predicting y\n",
    " \n",
    "    A =(((C.T)/(C.sum(axis=1))).T)\n",
    "    B =(C/C.sum(axis=0))\n",
    "\n",
    "    labels = labels                 \n",
    "    cmap=sns.light_palette(\"purple\")\n",
    "    # representing A in heatmap format\n",
    "    print(\"-\"*50, \"Confusion matrix\", \"-\"*50)\n",
    "    plt.figure(figsize=(10,5))\n",
    "    sns.heatmap(C, annot=True, cmap=cmap, fmt=\".3f\", xticklabels=labels, yticklabels=labels)\n",
    "    plt.xlabel('Predicted Class')\n",
    "    plt.ylabel('Original Class')\n",
    "    plt.show()\n",
    "    \n",
    "    print(\"-\"*50, \"Precision matrix\", \"-\"*50)\n",
    "    plt.figure(figsize=(10,5))\n",
    "    sns.heatmap(B, annot=True, cmap=cmap, fmt=\".3f\", xticklabels=labels, yticklabels=labels)\n",
    "    plt.xlabel('Predicted Class')\n",
    "    plt.ylabel('Original Class')\n",
    "    plt.show()\n",
    "    print(\"Sum of columns in precision matrix\",B.sum(axis=0))\n",
    "\n",
    "    # representing B in heatmap format\n",
    "    print(\"-\"*50, \"Recall matrix\" , \"-\"*50)\n",
    "    plt.figure(figsize=(10,5))\n",
    "    sns.heatmap(A, annot=True, cmap=cmap, fmt=\".3f\", xticklabels=labels, yticklabels=labels)\n",
    "    plt.xlabel('Predicted Class')\n",
    "    plt.ylabel('Original Class')\n",
    "    plt.show()\n",
    "    print(\"Sum of rows in recall matrix\",A.sum(axis=1))"
   ]
  },
  {
   "cell_type": "code",
   "execution_count": 35,
   "metadata": {
    "colab": {
     "base_uri": "https://localhost:8080/",
     "height": 1000
    },
    "id": "DE3oQEMJLCp3",
    "outputId": "0036c61b-5061-4b5f-9970-b7814a024c2b"
   },
   "outputs": [
    {
     "name": "stdout",
     "output_type": "stream",
     "text": [
      "Number of misclassified points  0.2848932676518883\n",
      "-------------------------------------------------- Confusion matrix --------------------------------------------------\n"
     ]
    },
    {
     "data": {
      "image/png": "[encoded data removed]",
      "text/plain": [
       "<Figure size 720x360 with 2 Axes>"
      ]
     },
     "metadata": {
      "needs_background": "light",
      "tags": []
     },
     "output_type": "display_data"
    },
    {
     "name": "stdout",
     "output_type": "stream",
     "text": [
      "-------------------------------------------------- Precision matrix --------------------------------------------------\n"
     ]
    },
    {
     "data": {
      "image/png": "[encoded data removed]",
      "text/plain": [
       "<Figure size 720x360 with 2 Axes>"
      ]
     },
     "metadata": {
      "needs_background": "light",
      "tags": []
     },
     "output_type": "display_data"
    },
    {
     "name": "stdout",
     "output_type": "stream",
     "text": [
      "Sum of columns in precision matrix [1. 1. 1. 1. 1.]\n",
      "-------------------------------------------------- Recall matrix --------------------------------------------------\n"
     ]
    },
    {
     "data": {
      "image/png": "[encoded data removed]",
      "text/plain": [
       "<Figure size 720x360 with 2 Axes>"
      ]
     },
     "metadata": {
      "needs_background": "light",
      "tags": []
     },
     "output_type": "display_data"
    },
    {
     "name": "stdout",
     "output_type": "stream",
     "text": [
      "Sum of rows in recall matrix [1. 1. 1. 1. 1.]\n"
     ]
    }
   ],
   "source": [
    "plot_confusion_matrix(y_test,  y_pred_cat, catagories)"
   ]
  },
  {
   "cell_type": "markdown",
   "metadata": {
    "id": "kt60lyJ5LEUi"
   },
   "source": [
    "## 5. Polarity Based Sentiment Model"
   ]
  },
  {
   "cell_type": "code",
   "execution_count": 37,
   "metadata": {
    "id": "CncM4_zwLHt4"
   },
   "outputs": [],
   "source": [
    "X = augmented_data_restaurant['text']\n",
    "Y = augmented_data_restaurant['polarity']"
   ]
  },
  {
   "cell_type": "code",
   "execution_count": 38,
   "metadata": {
    "id": "9EfPRL70LJvP"
   },
   "outputs": [],
   "source": [
    "from sklearn.model_selection import train_test_split\n",
    "\n",
    "X_train, X_test, y_train, y_test = train_test_split(X, Y, test_size=0.2, random_state=1)"
   ]
  },
  {
   "cell_type": "code",
   "execution_count": 39,
   "metadata": {
    "colab": {
     "base_uri": "https://localhost:8080/"
    },
    "id": "TMxXxIp3LUDs",
    "outputId": "b3386c2b-add9-4b7d-a622-a4503ead3349"
   },
   "outputs": [
    {
     "name": "stdout",
     "output_type": "stream",
     "text": [
      "(4870,) (4870,)\n",
      "(1218,) (1218,)\n"
     ]
    }
   ],
   "source": [
    "print(X_train.shape, y_train.shape)\n",
    "print(X_test.shape, y_test.shape)"
   ]
  },
  {
   "cell_type": "markdown",
   "metadata": {},
   "source": [
    "## 5.1 xgboost model "
   ]
  },
  {
   "cell_type": "code",
   "execution_count": 40,
   "metadata": {
    "colab": {
     "base_uri": "https://localhost:8080/"
    },
    "id": "-GWiXb2KLV_V",
    "outputId": "3c3d5a68-1717-4494-9f52-bf33890f13a2"
   },
   "outputs": [
    {
     "data": {
      "text/plain": [
       "XGBClassifier(base_score=0.5, booster='gbtree', colsample_bylevel=1,\n",
       "              colsample_bynode=1, colsample_bytree=1, gamma=0,\n",
       "              learning_rate=0.1, max_delta_step=0, max_depth=3,\n",
       "              min_child_weight=1, missing=None, n_estimators=100, n_jobs=1,\n",
       "              nthread=None, objective='multi:softprob', random_state=0,\n",
       "              reg_alpha=0, reg_lambda=1, scale_pos_weight=1, seed=None,\n",
       "              silent=None, subsample=1, verbosity=1)"
      ]
     },
     "execution_count": 40,
     "metadata": {
      "tags": []
     },
     "output_type": "execute_result"
    }
   ],
   "source": [
    "reg = xgb.XGBClassifier() \n",
    "reg.fit(preprocessed_train_review, y_train) "
   ]
  },
  {
   "cell_type": "code",
   "execution_count": 41,
   "metadata": {
    "id": "dc6kys5jLYm1"
   },
   "outputs": [],
   "source": [
    "# making predictions on the training set \n",
    "y_pred_train = reg.predict(preprocessed_train_review)"
   ]
  },
  {
   "cell_type": "code",
   "execution_count": 42,
   "metadata": {
    "id": "sSmbVfG0LbCY"
   },
   "outputs": [],
   "source": [
    "# making predictions on the testing set \n",
    "y_pred_polarity = reg.predict(preprocessed_test_review)"
   ]
  },
  {
   "cell_type": "code",
   "execution_count": 43,
   "metadata": {
    "colab": {
     "base_uri": "https://localhost:8080/"
    },
    "id": "4RhnabyiLc2d",
    "outputId": "84b45047-d64f-451a-ea5e-40c9f8752058"
   },
   "outputs": [
    {
     "data": {
      "text/plain": [
       "69.34291581108829"
      ]
     },
     "execution_count": 43,
     "metadata": {
      "tags": []
     },
     "output_type": "execute_result"
    }
   ],
   "source": [
    "# comparing actual response values (y_train) with predicted response values (y_pred_train) \n",
    " \n",
    "metrics.accuracy_score(y_train, y_pred_train)*100"
   ]
  },
  {
   "cell_type": "code",
   "execution_count": 44,
   "metadata": {
    "colab": {
     "base_uri": "https://localhost:8080/"
    },
    "id": "scXnJGnhLfUG",
    "outputId": "9232ffc1-48b6-414c-fc9a-6f8a4559bc00"
   },
   "outputs": [
    {
     "data": {
      "text/plain": [
       "69.12972085385879"
      ]
     },
     "execution_count": 44,
     "metadata": {
      "tags": []
     },
     "output_type": "execute_result"
    }
   ],
   "source": [
    "metrics.accuracy_score(y_test, y_pred_polarity)*100"
   ]
  },
  {
   "cell_type": "markdown",
   "metadata": {},
   "source": [
    "### 5.3. classification report"
   ]
  },
  {
   "cell_type": "code",
   "execution_count": 50,
   "metadata": {
    "colab": {
     "base_uri": "https://localhost:8080/"
    },
    "id": "a2e3ihCtz59q",
    "outputId": "da4e793f-18a4-48eb-e4b2-b39054916703"
   },
   "outputs": [
    {
     "name": "stdout",
     "output_type": "stream",
     "text": [
      "              precision    recall  f1-score   support\n",
      "\n",
      "    positive       0.78      0.25      0.38        55\n",
      "    negative       0.77      0.37      0.50       273\n",
      "    conflict       0.87      0.19      0.31       177\n",
      "     neutral       0.67      0.97      0.79       713\n",
      "\n",
      "    accuracy                           0.69      1218\n",
      "   macro avg       0.77      0.45      0.50      1218\n",
      "weighted avg       0.73      0.69      0.64      1218\n",
      "\n"
     ]
    }
   ],
   "source": [
    "from sklearn.metrics import classification_report\n",
    "print(classification_report(y_test, y_pred_polarity ,target_names= polarity))"
   ]
  },
  {
   "cell_type": "markdown",
   "metadata": {},
   "source": [
    "### 5.4 Confusion matrix representation"
   ]
  },
  {
   "cell_type": "code",
   "execution_count": 45,
   "metadata": {
    "colab": {
     "base_uri": "https://localhost:8080/",
     "height": 1000
    },
    "id": "5_rc2Y3sLhRi",
    "outputId": "11180178-2832-400e-a85d-369a93aa469c"
   },
   "outputs": [
    {
     "name": "stdout",
     "output_type": "stream",
     "text": [
      "Number of misclassified points  0.30870279146141216\n",
      "-------------------------------------------------- Confusion matrix --------------------------------------------------\n"
     ]
    },
    {
     "data": {
      "image/png": "[encoded data removed]",
      "text/plain": [
       "<Figure size 720x360 with 2 Axes>"
      ]
     },
     "metadata": {
      "needs_background": "light",
      "tags": []
     },
     "output_type": "display_data"
    },
    {
     "name": "stdout",
     "output_type": "stream",
     "text": [
      "-------------------------------------------------- Precision matrix --------------------------------------------------\n"
     ]
    },
    {
     "data": {
      "image/png": "[encoded data removed]",
      "text/plain": [
       "<Figure size 720x360 with 2 Axes>"
      ]
     },
     "metadata": {
      "needs_background": "light",
      "tags": []
     },
     "output_type": "display_data"
    },
    {
     "name": "stdout",
     "output_type": "stream",
     "text": [
      "Sum of columns in precision matrix [1. 1. 1. 1.]\n",
      "-------------------------------------------------- Recall matrix --------------------------------------------------\n"
     ]
    },
    {
     "data": {
      "image/png": "[encoded data removed]",
      "text/plain": [
       "<Figure size 720x360 with 2 Axes>"
      ]
     },
     "metadata": {
      "needs_background": "light",
      "tags": []
     },
     "output_type": "display_data"
    },
    {
     "name": "stdout",
     "output_type": "stream",
     "text": [
      "Sum of rows in recall matrix [1. 1. 1. 1.]\n"
     ]
    }
   ],
   "source": [
    "plot_confusion_matrix(y_test,  y_pred_polarity, polarity)"
   ]
  },
  {
   "cell_type": "markdown",
   "metadata": {
    "id": "SIp0yfqjLlAd"
   },
   "source": [
    "## 6. creating a resultant dataframe"
   ]
  },
  {
   "cell_type": "code",
   "execution_count": 47,
   "metadata": {
    "id": "8PhUcXDwLtQ7"
   },
   "outputs": [],
   "source": [
    "def create_result_dataframe(pred_1,pred_2):\n",
    "  # Calling DataFrame constructor on predicted outputs\n",
    "  resultant_df = pd.DataFrame(list(zip(pred_1,pred_2)), columns = [\"predicted_catagories\" , \"predicted_polarity\"])\n",
    "  result  = pd.crosstab(resultant_df.predicted_catagories,resultant_df.predicted_polarity ,margins = True , margins_name = \"Total\")\n",
    "  result[\"Ranking\"] = ( result.Total/resultant_df.shape[0]) * 5.0 \n",
    "  result[\"Negative in %\"] = (result.negative/result.Total) * 100\n",
    "  result[\"Neutral in %\"] = (result.neutral/result.Total) * 100\n",
    "  result[\"Positive in %\"] = (result.positive/result.Total) * 100\n",
    "  result[\"conflict in %\"] = (result.conflict/result.Total) * 100\n",
    "  del result[\"negative\"]\n",
    "  del result[\"neutral\"]\n",
    "  del result[\"positive\"]\n",
    "  del result[\"Total\"]\n",
    "  del result[\"conflict\"]\n",
    "\n",
    "  return result"
   ]
  },
  {
   "cell_type": "code",
   "execution_count": 48,
   "metadata": {
    "id": "Eob122y_Lvdd"
   },
   "outputs": [],
   "source": [
    "result = create_result_dataframe(y_pred_cat,y_pred_polarity)"
   ]
  },
  {
   "cell_type": "code",
   "execution_count": 49,
   "metadata": {
    "colab": {
     "base_uri": "https://localhost:8080/",
     "height": 254
    },
    "id": "LuWtj6J5LyUB",
    "outputId": "fd2ee5a7-360e-453b-aa56-c2ce4d0024a7"
   },
   "outputs": [
    {
     "data": {
      "text/html": [
       "<div>\n",
       "<style scoped>\n",
       "    .dataframe tbody tr th:only-of-type {\n",
       "        vertical-align: middle;\n",
       "    }\n",
       "\n",
       "    .dataframe tbody tr th {\n",
       "        vertical-align: top;\n",
       "    }\n",
       "\n",
       "    .dataframe thead th {\n",
       "        text-align: right;\n",
       "    }\n",
       "</style>\n",
       "<table border=\"1\" class=\"dataframe\">\n",
       "  <thead>\n",
       "    <tr style=\"text-align: right;\">\n",
       "      <th>predicted_polarity</th>\n",
       "      <th>Ranking</th>\n",
       "      <th>Negative in %</th>\n",
       "      <th>Neutral in %</th>\n",
       "      <th>Positive in %</th>\n",
       "      <th>conflict in %</th>\n",
       "    </tr>\n",
       "    <tr>\n",
       "      <th>predicted_catagories</th>\n",
       "      <th></th>\n",
       "      <th></th>\n",
       "      <th></th>\n",
       "      <th></th>\n",
       "      <th></th>\n",
       "    </tr>\n",
       "  </thead>\n",
       "  <tbody>\n",
       "    <tr>\n",
       "      <th>ambience</th>\n",
       "      <td>0.324302</td>\n",
       "      <td>3.797468</td>\n",
       "      <td>1.265823</td>\n",
       "      <td>91.139241</td>\n",
       "      <td>3.797468</td>\n",
       "    </tr>\n",
       "    <tr>\n",
       "      <th>anecdotes/miscellaneous</th>\n",
       "      <td>2.208539</td>\n",
       "      <td>9.107807</td>\n",
       "      <td>6.133829</td>\n",
       "      <td>84.014870</td>\n",
       "      <td>0.743494</td>\n",
       "    </tr>\n",
       "    <tr>\n",
       "      <th>food</th>\n",
       "      <td>1.543514</td>\n",
       "      <td>8.244681</td>\n",
       "      <td>0.797872</td>\n",
       "      <td>89.095745</td>\n",
       "      <td>1.861702</td>\n",
       "    </tr>\n",
       "    <tr>\n",
       "      <th>price</th>\n",
       "      <td>0.275041</td>\n",
       "      <td>19.402985</td>\n",
       "      <td>1.492537</td>\n",
       "      <td>79.104478</td>\n",
       "      <td>0.000000</td>\n",
       "    </tr>\n",
       "    <tr>\n",
       "      <th>service</th>\n",
       "      <td>0.648604</td>\n",
       "      <td>23.417722</td>\n",
       "      <td>0.632911</td>\n",
       "      <td>73.417722</td>\n",
       "      <td>2.531646</td>\n",
       "    </tr>\n",
       "    <tr>\n",
       "      <th>Total</th>\n",
       "      <td>5.000000</td>\n",
       "      <td>10.919540</td>\n",
       "      <td>3.201970</td>\n",
       "      <td>84.400657</td>\n",
       "      <td>1.477833</td>\n",
       "    </tr>\n",
       "  </tbody>\n",
       "</table>\n",
       "</div>"
      ],
      "text/plain": [
       "predicted_polarity        Ranking  Negative in %  ...  Positive in %  conflict in %\n",
       "predicted_catagories                              ...                              \n",
       "ambience                 0.324302       3.797468  ...      91.139241       3.797468\n",
       "anecdotes/miscellaneous  2.208539       9.107807  ...      84.014870       0.743494\n",
       "food                     1.543514       8.244681  ...      89.095745       1.861702\n",
       "price                    0.275041      19.402985  ...      79.104478       0.000000\n",
       "service                  0.648604      23.417722  ...      73.417722       2.531646\n",
       "Total                    5.000000      10.919540  ...      84.400657       1.477833\n",
       "\n",
       "[6 rows x 5 columns]"
      ]
     },
     "execution_count": 49,
     "metadata": {
      "tags": []
     },
     "output_type": "execute_result"
    }
   ],
   "source": [
    "result"
   ]
  },
  {
   "cell_type": "markdown",
   "metadata": {
    "id": "LHagUR1QL1oS"
   },
   "source": [
    "### Observation :\n",
    "   Above result shows that the Ranking and all Polarities in percentages for all aspect catagories from which we can see that anecdotes/miscellaneous have the highest ranking of 2.20 . and ambience catagory have highest positive polarity"
   ]
  },
  {
   "cell_type": "code",
   "execution_count": null,
   "metadata": {},
   "outputs": [],
   "source": []
  }
 ],
 "metadata": {
  "colab": {
   "collapsed_sections": [],
   "name": "7_bert_xgboost.ipynb",
   "provenance": []
  },
  "kernelspec": {
   "display_name": "Python 3",
   "language": "python",
   "name": "python3"
  },
  "language_info": {
   "codemirror_mode": {
    "name": "ipython",
    "version": 3
   },
   "file_extension": ".py",
   "mimetype": "text/x-python",
   "name": "python",
   "nbconvert_exporter": "python",
   "pygments_lexer": "ipython3",
   "version": "3.7.3"
  }
 },
 "nbformat": 4,
 "nbformat_minor": 1
}
